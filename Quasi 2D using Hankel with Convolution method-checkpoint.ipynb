{
 "cells": [
  {
   "cell_type": "code",
   "execution_count": 501,
   "metadata": {},
   "outputs": [
    {
     "data": {
      "text/html": [
       "<style>.container { width:100% !important; }</style>"
      ],
      "text/plain": [
       "<IPython.core.display.HTML object>"
      ]
     },
     "metadata": {},
     "output_type": "display_data"
    }
   ],
   "source": [
    "from IPython.core.display import display, HTML\n",
    "display(HTML(\"<style>.container { width:100% !important; }</style>\"))"
   ]
  },
  {
   "cell_type": "code",
   "execution_count": 72,
   "metadata": {},
   "outputs": [
    {
     "data": {
      "application/vnd.jupyter.widget-view+json": {
       "model_id": "",
       "version_major": 2,
       "version_minor": 0
      },
      "text/plain": [
       "HBox(children=(FloatProgress(value=0.0, max=121.0), HTML(value='')))"
      ]
     },
     "metadata": {},
     "output_type": "display_data"
    }
   ],
   "source": [
    "###Maybe we have to be using actual psi rather than psi_r, as all the equations are in full psi, reason \n",
    "##for discrepancies between cartesian code and hankel code\n",
    "import pandas as pd\n",
    "import math\n",
    "import numpy as np\n",
    "import scipy.constants as sc\n",
    "from scipy.fft import fft,ifft,fftfreq\n",
    "import matplotlib.pyplot as plt\n",
    "from numpy import linalg as LA\n",
    "import warnings\n",
    "warnings.simplefilter('ignore')\n",
    "from tqdm import tqdm_notebook\n",
    "import mpl_toolkits.mplot3d as mplot3d\n",
    "import scipy.special as ss\n",
    "from scipy.integrate import quad, dblquad\n",
    "import seaborn as sns\n",
    "b = 30\n",
    "N = 4*b ## see Ronen, D.C.E. Bortolotti, and J.L. Bohn, Phys. Rev. A 74, 013623 (2006), having spacing of 0.25 is enough \n",
    "k = int(N/4)\n",
    "alpha=np.pad(ss.jnp_zeros(0,N),(1,0),'constant',constant_values=(0)) # zeros of first derivative of zeroth order bessel function \n",
    "##starts from n=1 rather than n = 0\n",
    "J0 = ss.jn_zeros(0,N+2) #zeros of zeroth order bessel function\n",
    "S = ss.jv(0,alpha[k]*alpha/J0[N+1])**2\n",
    "S /= ss.jv(0,alpha)**2\n",
    "S = np.sqrt(1+sum(S)-S[0])\n",
    "S /= np.abs(ss.jv(0,alpha[k]))/2\n",
    "C = np.zeros((N+1,N+1))\n",
    "for i in tqdm_notebook(range(N+1),leave = False):\n",
    "    for j in range(N+1):\n",
    "        C[i,j] = ss.jv(0,alpha[i]*alpha[j]/S)\n",
    "        C[i,j] /= S*np.abs(ss.jv(0,alpha[i]))*np.abs(ss.jv(0,alpha[j]))/2\n",
    "\n",
    "beta = S/(2*np.pi*b)\n",
    "def F(f,J):\n",
    "    out = f*b/J\n",
    "    return out\n",
    "def G(g,J):\n",
    "    out = g*beta/J\n",
    "    return out\n",
    "def Finv(f,J):\n",
    "    out = f*J/b\n",
    "    return out\n",
    "def Ginv(g,J):\n",
    "    out = g*J/beta\n",
    "    return out\n",
    "def qfht(psi,J):\n",
    "    out = F(psi,J) #changes variables\n",
    "    out = np.matmul(C,out)#applies transformation matrix \n",
    "    out = Ginv(out,J)\n",
    "    return out\n",
    "def iqfht(psi,J):\n",
    "    out = G(psi,J)\n",
    "    out = np.matmul(C,out)\n",
    "    out = Finv(out,J)\n",
    "    return out\n",
    "\n",
    "def dd_quasi_2D_conv_Hankel(psiq_symm,gamma,D,rho):\n",
    "    lamda = 4*np.pi*D/3 ## keep this stuff outside the function so you don't constant calling it\n",
    "    eps = 1/gamma\n",
    "    xi = 2*np.pi*rho*np.sqrt(eps/2)\n",
    "    out = 2-3*xi*np.sqrt(np.pi)*np.exp(xi**2)*ss.erfc(xi)\n",
    "    out *= 1/(np.sqrt(2*np.pi*eps))\n",
    "    out = lamda*iqfht(out*qfht(np.abs(psiq_symm)**2,J),J)\n",
    "    return out \n",
    "\n",
    "\n",
    "\n",
    "def Norm_r_or_rho(psi,space): ##space is either r or rho\n",
    "    out = 2*np.pi*(space[1]*np.abs(psi[1]))**2 ##first r term has slightly different dr\n",
    "    out += 2*np.pi*np.sum(space[2:]*np.abs(psi[2:])**2)*(space[N]-space[1])/N ##rest of normalisation using average dr\n",
    "    out = np.sqrt(out)\n",
    "    ##apart from first dr\n",
    "    return out\n",
    "def V(psiq_symm,r,gs,eps): \n",
    "    return 0.5*(r**2) + (gs/np.sqrt(2*np.pi*eps))*(np.abs(psiq_symm)**2) +dd_quasi_2D_conv_Hankel(psiq_symm,gamma,D,rho)\n",
    "\n",
    "\n",
    "##only doing 2D, think you have to integrate over z also for the energy\n",
    "def E(psi,gamma,D,gs):\n",
    "    V_ext = 0.5*(r**2)\n",
    "    integrand = 0.5*np.abs(np.gradient(psi))**2 +V_ext*np.abs(psi)**2\n",
    "    + (gs/2)*np.abs(psi)**4 +(D/2)*dd_quasi_2D_conv_Hankel(psiq_symm,gamma,D,rho)*np.abs(psi)**2\n",
    "    out = 2*np.pi*(r[1]*integrand[1])**2 \n",
    "    out += 2*np.pi*np.sum(r[2:]*np.abs(integrand[2:])**2)*(r[N]-r[1])/N\n",
    "    return np.abs(out)\n",
    "        \n"
   ]
  },
  {
   "cell_type": "code",
   "execution_count": 57,
   "metadata": {
    "scrolled": true
   },
   "outputs": [
    {
     "data": {
      "application/vnd.jupyter.widget-view+json": {
       "model_id": "",
       "version_major": 2,
       "version_minor": 0
      },
      "text/plain": [
       "HBox(children=(FloatProgress(value=0.0, max=1000.0), HTML(value='')))"
      ]
     },
     "metadata": {},
     "output_type": "display_data"
    },
    {
     "name": "stdout",
     "output_type": "stream",
     "text": [
      "\r",
      "9518.930428795014\n",
      "10\n",
      "200.67667362450325\n",
      "0.0\n"
     ]
    },
    {
     "data": {
      "image/png": "[encoded data removed]",
      "text/plain": [
       "<Figure size 432x288 with 1 Axes>"
      ]
     },
     "metadata": {
      "needs_background": "light"
     },
     "output_type": "display_data"
    },
    {
     "data": {
      "image/png": "[encoded data removed]",
      "text/plain": [
       "<Figure size 432x288 with 1 Axes>"
      ]
     },
     "metadata": {
      "needs_background": "light"
     },
     "output_type": "display_data"
    }
   ],
   "source": [
    "No = 1e6#4.5*1e4 #number of particles\n",
    "m = 2.7774e-25\n",
    "w=100*np.pi\n",
    "gamma =10\n",
    "\n",
    "dt = -0.01j#4j/gamma ##has to be very small to account for the spikes in dd_quasi term in fourier space\n",
    "##increasing b decreases k space, will decrease size of spikes\n",
    "\n",
    "r = alpha*b/S\n",
    "rho = alpha*beta/S\n",
    "J = np.abs(ss.jv(0,alpha))\n",
    "T = 0.5*(2*np.pi*rho)**2 \n",
    "\n",
    "##for harmonic\n",
    "xs = np.sqrt(sc.hbar/(m*w))\n",
    "Ao = 5.29*1e-11 #Bohr radius\n",
    "a = 0#100*Ao ##See Fortran paper, they analyse stability by varying a\n",
    "gs = 4*np.pi*a*No/xs #(not g, g in dimensionless units)\n",
    "g = 4*np.pi*(sc.hbar**2)*a/m\n",
    "\n",
    "mu =6.98\n",
    "mu_B =9.2740100783e-24\n",
    "Cdd = sc.mu_0*(mu*mu_B)**2\n",
    "lamda = (m*No*Cdd)/(3*(sc.hbar**2)*xs) \n",
    "Add = xs*lamda/(4*np.pi*No*Ao) ##book keeping, in units of Bohr radius\n",
    "\n",
    "R = (8*lamda/(np.pi*np.sqrt(2*np.pi*eps)))**0.25\n",
    "R_validity = lamda/(2*np.pi*np.sqrt(gamma**3)) ##both from quasi 2D/1D paper, notation\n",
    "##is confusing, compare to rigorous paper\n",
    "\n",
    "# dimensionless variables\n",
    "nz = 1 #polarisation must be cylindrically symmetric so hankel is valid\n",
    "D = 3*lamda/(4*np.pi) # book keeping for stability, off by a factor of N/(N-1)\n",
    "\n",
    "#Edd = Cdd/(3*g)\n",
    "\n",
    "\n",
    "psiq_symm = np.exp((-r**2)/10) ##might want to trial a less steep gaussian\n",
    "psiq_symm /= Norm_r_or_rho(psiq_symm,r)    \n",
    "eps = 1/gamma\n",
    " \n",
    "exp_T = np.exp((-1j*dt*T))\n",
    "\n",
    "\n",
    "##use previous psi for initial guess\n",
    "for i in tqdm_notebook(range(1000),leave = False):\n",
    "    psiq_symm = np.exp(-0.5j*dt*V(psiq_symm,r,gs,eps))*psiq_symm\n",
    "    psiq_symm = exp_T*qfht(psiq_symm,J) \n",
    "    psiq_symm = iqfht(psiq_symm,J)\n",
    "    psiq_symm /= Norm_r_or_rho(psiq_symm,r)\n",
    "    psiq_symm *= np.exp(-0.5j*dt*V(psiq_symm,r,gs,eps))\n",
    "    psiq_symm /= Norm_r_or_rho(psiq_symm,r)\n",
    "  \n",
    " ##it has to be in this order and separated like this to ensure psi \n",
    "#is in the right space for the functions\n",
    "\n",
    "##already normalised at end of loop\n",
    "psiq_symm *= np.sqrt(No) ## actually should be np.sqrt(No)\n",
    "\n",
    "#harmonic potential    \n",
    "gnd_state = np.exp((-r**2)/2)\n",
    "gnd_state /= Norm_r_or_rho(gnd_state,r) \n",
    "gnd_state *= np.sqrt(No)\n",
    "diff = psiq_symm-gnd_state\n",
    "TF = 1-(r/R)**2\n",
    "TF *= 2*No/(np.pi*(R**2))\n",
    "TF = np.sqrt(TF) ##going from density to np.abs(psi)\n",
    "\n",
    "print(D)\n",
    "print(gamma)\n",
    "print(R_validity)\n",
    "#print(Edd)\n",
    "print(gs)\n",
    "plt.plot(r,np.abs(psiq_symm), label =\"numerical ground state\")\n",
    "plt.plot(r,gnd_state, label = \"true ground state\")\n",
    "plt.plot(r,TF,label = \"Thomas Fermi solution\")\n",
    "#plt.ylim(0,20)\n",
    "#plt.xlim(0,15)\n",
    "plt.show()\n",
    "    \n",
    "\n",
    "    \n",
    "    \n",
    "plt.plot(r,100*diff/np.max(psiq_symm),label=\"diff\")\n",
    "plt.xlabel('r position')\n",
    "plt.ylabel('diff/% of max of psi')\n",
    "#plt.ylim(-1,1)\n",
    "plt.xlim(0,10)\n",
    "plt.legend()\n",
    "plt.title('diff/%')\n",
    "plt.show() # plots psi against x\n",
    "\n",
    "\n",
    "    "
   ]
  },
  {
   "cell_type": "markdown",
   "metadata": {},
   "source": [
    "# Stability code"
   ]
  },
  {
   "cell_type": "code",
   "execution_count": 56,
   "metadata": {},
   "outputs": [
    {
     "data": {
      "text/plain": [
       "(1.0000004569498726+0j)"
      ]
     },
     "execution_count": 56,
     "metadata": {},
     "output_type": "execute_result"
    }
   ],
   "source": [
    "(sorted(psiq_symm)[-1]+sorted(psiq_symm)[-2])/sorted(psiq_symm)[-1]\n"
   ]
  },
  {
   "cell_type": "code",
   "execution_count": null,
   "metadata": {},
   "outputs": [
    {
     "data": {
      "application/vnd.jupyter.widget-view+json": {
       "model_id": "98691731118546d28aaaac22143b4a4c",
       "version_major": 2,
       "version_minor": 0
      },
      "text/plain": [
       "HBox(children=(FloatProgress(value=0.0, max=101.0), HTML(value='')))"
      ]
     },
     "metadata": {},
     "output_type": "display_data"
    }
   ],
   "source": [
    "gs = 0 #purely dipolar\n",
    "Ds = np.linspace(0,5000,101)\n",
    "gammas = np.linspace(1,51,101)\n",
    "stability_matrix = np.zeros([len(gammas),len(Ds)])\n",
    "init_psi = np.exp((-r**2)/10)\n",
    "#init_psi /= Norm_r_or_rho(psiq_symm,r)    \n",
    "\n",
    "\n",
    "p_max = 5000\n",
    "for i in tqdm_notebook(range(len(gammas)),leave = False):\n",
    "    for j in range(len(Ds)):\n",
    "        hist_psi=[[0,init_psi[0:int(N/2)]]]\n",
    "        gamma = gammas[i]\n",
    "        D = Ds[j]\n",
    "        isConv=False\n",
    "        p=1\n",
    "        while isConv==False and p<p_max:\n",
    "            psiq_symm = np.exp(-0.5j*dt*V(psiq_symm,r,gs,eps))*psiq_symm\n",
    "            psiq_symm = exp_T*qfht(psiq_symm,J) \n",
    "            psiq_symm = iqfht(psiq_symm,J)\n",
    "            psiq_symm /= Norm_r_or_rho(psiq_symm,r)\n",
    "            psiq_symm *= np.exp(-0.5j*dt*V(psiq_symm,r,gs,eps))\n",
    "            psiq_symm /= Norm_r_or_rho(psiq_symm,r)\n",
    "            \n",
    "            hist_psi.append([p,np.abs(psiq_symm[0:int(N/2)])])  \n",
    "            if len(hist_psi) > 100:\n",
    "                hist_psi = hist_psi[-100:] ## gives last 100\n",
    "                psi_max_percent_diff_array = np.zeros(10)\n",
    "                for k in range(10):\n",
    "                    psi_max_percent_diff_array[k] = 100*(np.max(hist_psi[10*k][1]) - np.max(hist_psi[0][1]))\n",
    "                    psi_max_percent_diff_array[k] /= np.max(hist_psi[0][1])\n",
    "          \n",
    "      \n",
    "    ###use energy  \n",
    "\n",
    "                if np.ptp(psi_max_percent_diff_array)<0.001: ##if psi_max stays within 0.001% of its value after 100 iterations\n",
    "                    if np.where(hist_psi[0][1]==np.max(hist_psi[0][1]))[0][0] == np.where(hist_psi[-1][1]==np.max(hist_psi[-1][1]))[0][0]: # if all are the same element\n",
    "                        if (sorted(psiq_symm)[-1]+sorted(psiq_symm)[-2])/sorted(psiq_symm)[-1] > 1.1: ## if second largest value is greater than 10% of largest value\n",
    "                            if (np.abs(psiq_symm)[0] == max(np.abs(psiq_symm))):\n",
    "                                stability_matrix[i][j]=2 ##non red blood cell\n",
    "                                isConv=True\n",
    "                            else:\n",
    "                                stability_matrix[i][j]=1 ##red blood cell\n",
    "                                isConv=True\n",
    "                if math.isnan(psiq_symm.any()) ==True:\n",
    "                    isConv=True\n",
    "            p+=1\n",
    "        if stability_matrix[i][j]==0:\n",
    "            psiq_symm = init_psi ##setting to original psi if psi hasn't converged\n",
    "                        \n",
    "                \n",
    "\n",
    "            \n",
    "            \n",
    "gammav = gammas.reshape(-1,1).repeat(len(Ds),1)\n",
    "Dsv = Ds.reshape(1,-1).repeat(len(gammas),0)\n",
    "\n",
    "df = pd.DataFrame(stability_matrix,index = gammas,columns=Ds)\n",
    "sns.heatmap(df,xticklabels=10,yticklabels=10)\n",
    "\n",
    "plt.show()        \n",
    "\n",
    "fig=plt.figure()\n",
    "ax=plt.axes(projection=\"3d\")\n",
    "ax.plot_surface(gammav,Dsv,stability_matrix,cmap=\"jet\")\n",
    "\n",
    "plt.xlabel(\"gamma\")\n",
    "plt.ylabel(\"Dipole strength\")\n",
    "ax.set_title(\"Convergence plot\")\n",
    "plt.show()                           \n",
    "\n",
    "                           \n",
    "                           \n",
    "                          \n",
    "        "
   ]
  },
  {
   "cell_type": "code",
   "execution_count": 103,
   "metadata": {},
   "outputs": [
    {
     "data": {
      "application/vnd.jupyter.widget-view+json": {
       "model_id": "f3fcc354b67b4a75bac944743948c631",
       "version_major": 2,
       "version_minor": 0
      },
      "text/plain": [
       "HBox(children=(FloatProgress(value=0.0, max=79.0), HTML(value='')))"
      ]
     },
     "metadata": {},
     "output_type": "display_data"
    },
    {
     "ename": "KeyboardInterrupt",
     "evalue": "",
     "output_type": "error",
     "traceback": [
      "\u001b[1;31m---------------------------------------------------------------------------\u001b[0m",
      "\u001b[1;31mKeyboardInterrupt\u001b[0m                         Traceback (most recent call last)",
      "\u001b[1;32m<ipython-input-103-9c4f0659749b>\u001b[0m in \u001b[0;36m<module>\u001b[1;34m\u001b[0m\n\u001b[0;32m     27\u001b[0m             \u001b[0mpsiq_symm\u001b[0m \u001b[1;33m=\u001b[0m \u001b[0mnp\u001b[0m\u001b[1;33m.\u001b[0m\u001b[0mexp\u001b[0m\u001b[1;33m(\u001b[0m\u001b[1;33m-\u001b[0m\u001b[1;36m0.5j\u001b[0m\u001b[1;33m*\u001b[0m\u001b[0mdt\u001b[0m\u001b[1;33m*\u001b[0m\u001b[0mV\u001b[0m\u001b[1;33m(\u001b[0m\u001b[0mpsiq_symm\u001b[0m\u001b[1;33m,\u001b[0m\u001b[0mr\u001b[0m\u001b[1;33m,\u001b[0m\u001b[0mgs\u001b[0m\u001b[1;33m,\u001b[0m\u001b[0meps\u001b[0m\u001b[1;33m)\u001b[0m\u001b[1;33m)\u001b[0m\u001b[1;33m*\u001b[0m\u001b[0mpsiq_symm\u001b[0m\u001b[1;33m\u001b[0m\u001b[1;33m\u001b[0m\u001b[0m\n\u001b[0;32m     28\u001b[0m             \u001b[0mpsiq_symm\u001b[0m \u001b[1;33m=\u001b[0m \u001b[0mexp_T\u001b[0m\u001b[1;33m*\u001b[0m\u001b[0mqfht\u001b[0m\u001b[1;33m(\u001b[0m\u001b[0mpsiq_symm\u001b[0m\u001b[1;33m,\u001b[0m\u001b[0mJ\u001b[0m\u001b[1;33m)\u001b[0m\u001b[1;33m\u001b[0m\u001b[1;33m\u001b[0m\u001b[0m\n\u001b[1;32m---> 29\u001b[1;33m             \u001b[0mpsiq_symm\u001b[0m \u001b[1;33m=\u001b[0m \u001b[0miqfht\u001b[0m\u001b[1;33m(\u001b[0m\u001b[0mpsiq_symm\u001b[0m\u001b[1;33m,\u001b[0m\u001b[0mJ\u001b[0m\u001b[1;33m)\u001b[0m\u001b[1;33m\u001b[0m\u001b[1;33m\u001b[0m\u001b[0m\n\u001b[0m\u001b[0;32m     30\u001b[0m             \u001b[0mpsiq_symm\u001b[0m \u001b[1;33m/=\u001b[0m \u001b[0mNorm_r_or_rho\u001b[0m\u001b[1;33m(\u001b[0m\u001b[0mpsiq_symm\u001b[0m\u001b[1;33m,\u001b[0m\u001b[0mr\u001b[0m\u001b[1;33m)\u001b[0m\u001b[1;33m\u001b[0m\u001b[1;33m\u001b[0m\u001b[0m\n\u001b[0;32m     31\u001b[0m             \u001b[0mpsiq_symm\u001b[0m \u001b[1;33m*=\u001b[0m \u001b[0mnp\u001b[0m\u001b[1;33m.\u001b[0m\u001b[0mexp\u001b[0m\u001b[1;33m(\u001b[0m\u001b[1;33m-\u001b[0m\u001b[1;36m0.5j\u001b[0m\u001b[1;33m*\u001b[0m\u001b[0mdt\u001b[0m\u001b[1;33m*\u001b[0m\u001b[0mV\u001b[0m\u001b[1;33m(\u001b[0m\u001b[0mpsiq_symm\u001b[0m\u001b[1;33m,\u001b[0m\u001b[0mr\u001b[0m\u001b[1;33m,\u001b[0m\u001b[0mgs\u001b[0m\u001b[1;33m,\u001b[0m\u001b[0meps\u001b[0m\u001b[1;33m)\u001b[0m\u001b[1;33m)\u001b[0m\u001b[1;33m\u001b[0m\u001b[1;33m\u001b[0m\u001b[0m\n",
      "\u001b[1;32m<ipython-input-5-52804797fd1c>\u001b[0m in \u001b[0;36miqfht\u001b[1;34m(psi, J)\u001b[0m\n\u001b[0;32m     49\u001b[0m \u001b[1;32mdef\u001b[0m \u001b[0miqfht\u001b[0m\u001b[1;33m(\u001b[0m\u001b[0mpsi\u001b[0m\u001b[1;33m,\u001b[0m\u001b[0mJ\u001b[0m\u001b[1;33m)\u001b[0m\u001b[1;33m:\u001b[0m\u001b[1;33m\u001b[0m\u001b[1;33m\u001b[0m\u001b[0m\n\u001b[0;32m     50\u001b[0m     \u001b[0mout\u001b[0m \u001b[1;33m=\u001b[0m \u001b[0mG\u001b[0m\u001b[1;33m(\u001b[0m\u001b[0mpsi\u001b[0m\u001b[1;33m,\u001b[0m\u001b[0mJ\u001b[0m\u001b[1;33m)\u001b[0m\u001b[1;33m\u001b[0m\u001b[1;33m\u001b[0m\u001b[0m\n\u001b[1;32m---> 51\u001b[1;33m     \u001b[0mout\u001b[0m \u001b[1;33m=\u001b[0m \u001b[0mnp\u001b[0m\u001b[1;33m.\u001b[0m\u001b[0mmatmul\u001b[0m\u001b[1;33m(\u001b[0m\u001b[0mC\u001b[0m\u001b[1;33m,\u001b[0m\u001b[0mout\u001b[0m\u001b[1;33m)\u001b[0m\u001b[1;33m\u001b[0m\u001b[1;33m\u001b[0m\u001b[0m\n\u001b[0m\u001b[0;32m     52\u001b[0m     \u001b[0mout\u001b[0m \u001b[1;33m=\u001b[0m \u001b[0mFinv\u001b[0m\u001b[1;33m(\u001b[0m\u001b[0mout\u001b[0m\u001b[1;33m,\u001b[0m\u001b[0mJ\u001b[0m\u001b[1;33m)\u001b[0m\u001b[1;33m\u001b[0m\u001b[1;33m\u001b[0m\u001b[0m\n\u001b[0;32m     53\u001b[0m     \u001b[1;32mreturn\u001b[0m \u001b[0mout\u001b[0m\u001b[1;33m\u001b[0m\u001b[1;33m\u001b[0m\u001b[0m\n",
      "\u001b[1;31mKeyboardInterrupt\u001b[0m: "
     ]
    }
   ],
   "source": [
    "###alternative method just based on nan test\n",
    "\n",
    "\n",
    "\n",
    "\n",
    "\n",
    "gs = 0 #purely dipolar\n",
    "Ds = np.linspace(0,1000,20)\n",
    "gammas = np.linspace(1,20,79)\n",
    "stability_matrix = np.zeros([len(gammas),len(Ds)])\n",
    "init_psi = np.exp(-r**2)\n",
    "#init_psi /= Norm_r_or_rho(psiq_symm,r)    \n",
    "\n",
    "psiq_symm = init_psi\n",
    "p_max = 50\n",
    "for i in tqdm_notebook(range(len(gammas)),leave = False):\n",
    "    for j in range(len(Ds)):\n",
    "        hist_psi=[[0,init_psi[0:int(N/10)]]]\n",
    "        gamma = gammas[i]\n",
    "        D = Ds[j]\n",
    "        isConv=False\n",
    "        psiq_symm = init_psi\n",
    "        p=1\n",
    "        \n",
    "        \n",
    "        for p in range(p_max):\n",
    "            psiq_symm = np.exp(-0.5j*dt*V(psiq_symm,r,gs,eps))*psiq_symm\n",
    "            psiq_symm = exp_T*qfht(psiq_symm,J) \n",
    "            psiq_symm = iqfht(psiq_symm,J)\n",
    "            psiq_symm /= Norm_r_or_rho(psiq_symm,r)\n",
    "            psiq_symm *= np.exp(-0.5j*dt*V(psiq_symm,r,gs,eps))\n",
    "            psiq_symm /= Norm_r_or_rho(psiq_symm,r) \n",
    "            \n",
    "        if any(np.isnan(psiq_symm))==True:\n",
    "            stability_matrix[i,j]=0\n",
    "        else:\n",
    "            stability_matrix[i,j]=1\n",
    "        \n",
    "        \n",
    "            \n",
    "\n",
    "            \n",
    "            \n",
    "gammav = gammas.reshape(-1,1).repeat(len(Ds),1)\n",
    "Dsv = Ds.reshape(1,-1).repeat(len(gammas),0)\n",
    "\n",
    "df = pd.DataFrame(stability_matrix,index = gammas,columns=Ds)\n",
    "sns.heatmap(df,xticklabels=10,yticklabels=10)\n",
    "plt.show()        \n",
    "\n",
    "fig=plt.figure()\n",
    "ax=plt.axes(projection=\"3d\")\n",
    "ax.plot_surface(gammav,Dsv,stability_matrix,cmap=\"jet\")\n",
    "\n",
    "plt.xlabel(\"gamma\")\n",
    "plt.ylabel(\"Dipole strength\")\n",
    "ax.set_title(\"Convergence plot\")\n",
    "plt.show()                           "
   ]
  },
  {
   "cell_type": "code",
   "execution_count": 593,
   "metadata": {},
   "outputs": [
    {
     "data": {
      "text/plain": [
       "array([[0., 0., 0., 0., 0., 0., 0., 0., 0., 0., 0., 0., 0., 0., 0., 0.,\n",
       "        0., 0., 0., 0., 0., 0., 0., 0., 0.],\n",
       "       [2., 0., 0., 0., 0., 0., 0., 0., 0., 0., 0., 0., 0., 0., 0., 0.,\n",
       "        0., 0., 0., 0., 0., 0., 0., 0., 0.],\n",
       "       [2., 0., 0., 0., 0., 0., 0., 0., 0., 0., 0., 0., 0., 0., 0., 0.,\n",
       "        0., 0., 0., 0., 0., 0., 0., 0., 0.],\n",
       "       [2., 0., 0., 0., 0., 0., 0., 0., 0., 0., 0., 0., 0., 0., 0., 0.,\n",
       "        0., 0., 0., 0., 0., 0., 0., 0., 0.],\n",
       "       [2., 0., 0., 0., 0., 0., 0., 0., 0., 0., 0., 0., 0., 0., 0., 0.,\n",
       "        0., 0., 0., 0., 0., 0., 0., 0., 0.],\n",
       "       [2., 0., 0., 0., 0., 0., 0., 0., 0., 0., 0., 0., 0., 0., 0., 0.,\n",
       "        0., 0., 0., 0., 0., 0., 0., 0., 0.],\n",
       "       [2., 2., 0., 0., 0., 0., 0., 0., 0., 0., 0., 0., 0., 0., 0., 0.,\n",
       "        0., 0., 0., 0., 0., 0., 0., 0., 0.],\n",
       "       [2., 2., 2., 0., 0., 0., 0., 0., 0., 0., 0., 0., 0., 0., 0., 0.,\n",
       "        0., 0., 0., 0., 0., 0., 0., 0., 0.],\n",
       "       [2., 2., 2., 0., 0., 0., 0., 0., 0., 0., 0., 0., 0., 0., 0., 0.,\n",
       "        0., 0., 0., 0., 0., 0., 0., 0., 0.],\n",
       "       [2., 2., 2., 2., 0., 0., 0., 0., 0., 0., 0., 0., 0., 0., 0., 0.,\n",
       "        0., 0., 0., 0., 0., 0., 0., 0., 0.],\n",
       "       [2., 2., 2., 2., 2., 0., 0., 0., 0., 0., 0., 0., 0., 0., 0., 0.,\n",
       "        0., 0., 0., 0., 0., 0., 0., 0., 0.],\n",
       "       [2., 2., 2., 2., 2., 2., 0., 0., 0., 0., 0., 0., 0., 0., 0., 0.,\n",
       "        1., 1., 1., 1., 1., 1., 1., 1., 1.],\n",
       "       [2., 2., 2., 2., 2., 2., 0., 0., 0., 0., 0., 1., 1., 1., 1., 1.,\n",
       "        1., 1., 1., 1., 1., 1., 1., 1., 1.],\n",
       "       [2., 2., 2., 2., 2., 2., 2., 0., 0., 0., 1., 1., 1., 1., 1., 1.,\n",
       "        1., 1., 1., 1., 1., 1., 1., 1., 1.],\n",
       "       [2., 2., 2., 2., 2., 2., 2., 2., 0., 1., 1., 1., 1., 1., 1., 1.,\n",
       "        1., 1., 1., 1., 1., 1., 1., 1., 1.]])"
      ]
     },
     "execution_count": 593,
     "metadata": {},
     "output_type": "execute_result"
    }
   ],
   "source": [
    "#np.where(hist_psi[0][1]==np.max(hist_psi[0][1]))[0][0]\n",
    "#np.max(hist_psi[0][1])\n",
    "#np.max(hist_psi[-1][1])\n",
    "#np.where(hist_psi[0][1]==np.max(hist_psi[0][1]))[0][0] == np.where(hist_psi[-1][1]==np.max(hist_psi[-1][1]))[0][0]\n",
    "#print(np.where(hist_psi[0][1]==np.max(hist_psi[0][1]))[0][0])\n",
    "# print(np.where(hist_psi[-1][1]==np.max(hist_psi[-1][1]))[0][0])\n",
    "# print(np.max(hist_psi[-1][1]))\n",
    "# print(np.max(hist_psi[0][1]))\n",
    "# print(np.abs(psi_max_percent_diff)<0.001)\n",
    "# psiq_symm[0]-psiq_symm[0]\n",
    "# np.ptp(psi_max_percent_diff_array)\n",
    "# np.where(hist_psi[0][1]==np.max(hist_psi[0][1]))[0][0] == np.where(hist_psi[-1][1]==np.max(hist_psi[-1][1]))[0][0]\n",
    "# psiq_symm[0] == max(psiq_symm)\n",
    "# gammas\n",
    "stability_matrix_1# = stability_matrix"
   ]
  },
  {
   "cell_type": "code",
   "execution_count": 79,
   "metadata": {},
   "outputs": [
    {
     "data": {
      "text/plain": [
       "<matplotlib.axes._subplots.AxesSubplot at 0x22a4e52b5c8>"
      ]
     },
     "execution_count": 79,
     "metadata": {},
     "output_type": "execute_result"
    },
    {
     "data": {
      "image/png": "[encoded data removed]",
      "text/plain": [
       "<Figure size 432x288 with 2 Axes>"
      ]
     },
     "metadata": {
      "needs_background": "light"
     },
     "output_type": "display_data"
    }
   ],
   "source": [
    "Ds = np.linspace(0,5000,101)\n",
    "gammas = np.linspace(1,51,101)\n",
    "sm = np.zeros([len(gammas),len(Ds)])\n",
    "df = pd.DataFrame(sm,index = gammas,columns=Ds)\n",
    "sns.heatmap(df,xticklabels=10,yticklabels=10)"
   ]
  }
 ],
 "metadata": {
  "kernelspec": {
   "display_name": "Python 3",
   "language": "python",
   "name": "python3"
  },
  "language_info": {
   "codemirror_mode": {
    "name": "ipython",
    "version": 3
   },
   "file_extension": ".py",
   "mimetype": "text/x-python",
   "name": "python",
   "nbconvert_exporter": "python",
   "pygments_lexer": "ipython3",
   "version": "3.7.6"
  }
 },
 "nbformat": 4,
 "nbformat_minor": 4
}
