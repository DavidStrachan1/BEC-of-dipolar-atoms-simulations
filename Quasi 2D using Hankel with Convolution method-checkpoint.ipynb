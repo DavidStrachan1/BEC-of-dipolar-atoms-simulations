{
 "cells": [
  {
   "cell_type": "code",
   "execution_count": 91,
   "metadata": {},
   "outputs": [
    {
     "data": {
      "application/vnd.jupyter.widget-view+json": {
       "model_id": "",
       "version_major": 2,
       "version_minor": 0
      },
      "text/plain": [
       "HBox(children=(FloatProgress(value=0.0, max=502.0), HTML(value='')))"
      ]
     },
     "metadata": {},
     "output_type": "display_data"
    },
    {
     "name": "stdout",
     "output_type": "stream",
     "text": [
      "\r"
     ]
    }
   ],
   "source": [
    "###Maybe we have to be using actual psi rather than psi_r, as all the equations are in full psi, reason \n",
    "##for discrepancies between cartesian code and hankel code\n",
    "\n",
    "\n",
    "\n",
    "\n",
    "\n",
    "\n",
    "import numpy as np\n",
    "import scipy.constants as sc\n",
    "from scipy.fft import fft,ifft,fftfreq\n",
    "import matplotlib.pyplot as plt\n",
    "from numpy import linalg as LA\n",
    "import warnings\n",
    "warnings.simplefilter('ignore')\n",
    "from tqdm import tqdm_notebook\n",
    "import mpl_toolkits.mplot3d as mplot3d\n",
    "import scipy.special as ss\n",
    "from scipy.integrate import quad, dblquad\n",
    "N =501\n",
    "k = int(N/4)\n",
    "alpha=np.pad(ss.jnp_zeros(0,N),(1,0),'constant',constant_values=(0)) # zeros of first derivative of zeroth order bessel function \n",
    "##starts from n=1 rather than n = 0\n",
    "J0 = ss.jn_zeros(0,N+2) #zeros of zeroth order bessel function\n",
    "S = ss.jv(0,alpha[k]*alpha/J0[N+1])**2\n",
    "S /= ss.jv(0,alpha)**2\n",
    "S = np.sqrt(1+sum(S)-S[0])\n",
    "S /= np.abs(ss.jv(0,alpha[k]))/2\n",
    "C = np.zeros((N+1,N+1))\n",
    "for i in tqdm_notebook(range(N+1),leave = False):\n",
    "    for j in range(N+1):\n",
    "        C[i,j] = ss.jv(0,alpha[i]*alpha[j]/S)\n",
    "        C[i,j] /= S*np.abs(ss.jv(0,alpha[i]))*np.abs(ss.jv(0,alpha[j]))/2\n",
    "b = 30\n",
    "beta = S/(2*np.pi*b)\n",
    "def F(f,J):\n",
    "    out = f*b/J\n",
    "    return out\n",
    "def G(g,J):\n",
    "    out = g*beta/J\n",
    "    return out\n",
    "def Finv(f,J):\n",
    "    out = f*J/b\n",
    "    return out\n",
    "def Ginv(g,J):\n",
    "    out = g*J/beta\n",
    "    return out\n",
    "def qfht(psi,J):\n",
    "    out = F(psi,J) #changes variables\n",
    "    out = np.matmul(C,out)#applies transformation matrix \n",
    "    out = Ginv(out,J)\n",
    "    return out\n",
    "def iqfht(psi,J):\n",
    "    out = G(psi,J)\n",
    "    out = np.matmul(C,out)\n",
    "    out = Finv(out,J)\n",
    "    return out"
   ]
  },
  {
   "cell_type": "code",
   "execution_count": 99,
   "metadata": {},
   "outputs": [
    {
     "data": {
      "application/vnd.jupyter.widget-view+json": {
       "model_id": "",
       "version_major": 2,
       "version_minor": 0
      },
      "text/plain": [
       "HBox(children=(FloatProgress(value=0.0, max=800.0), HTML(value='')))"
      ]
     },
     "metadata": {},
     "output_type": "display_data"
    },
    {
     "name": "stdout",
     "output_type": "stream",
     "text": [
      "\r",
      "428.35186929577566\n",
      "40\n",
      "65.94094315043924\n"
     ]
    },
    {
     "data": {
      "image/png": "[encoded data removed]",
      "text/plain": [
       "<Figure size 432x288 with 1 Axes>"
      ]
     },
     "metadata": {
      "needs_background": "light"
     },
     "output_type": "display_data"
    },
    {
     "data": {
      "image/png": "[encoded data removed]",
      "text/plain": [
       "<Figure size 432x288 with 1 Axes>"
      ]
     },
     "metadata": {
      "needs_background": "light"
     },
     "output_type": "display_data"
    }
   ],
   "source": [
    "No = 4.5*1e4 #number of particles\n",
    "m = 2.7774e-25\n",
    "w=100*np.pi\n",
    "gamma =40\n",
    "dt = -0.05j#4j/gamma ##has to be very small to account for the spikes in dd_quasi term in fourier space\n",
    "##increasing b decreases k space, will decrease size of spikes\n",
    "\n",
    "r = alpha*b/S\n",
    "rho = alpha*beta/S\n",
    "J = np.abs(ss.jv(0,alpha))\n",
    "\n",
    "##for harmonic\n",
    "xs = np.sqrt(sc.hbar/(m*w))\n",
    "Ao = 5.29*1e-11 #Bohr radius\n",
    "a = 0#4*Ao ##See Fortran paper, they analyse stability by varying a\n",
    "gs = 4*np.pi*a*No/xs #(not g, g in dimensionless units)\n",
    "g = 4*np.pi*(sc.hbar**2)*a/m\n",
    "\n",
    "Rc = b+1\n",
    "mu =6.98\n",
    "mu_B =9.2740100783e-24\n",
    "Cdd = sc.mu_0*(mu*mu_B)**2\n",
    "lamda = (m*No*Cdd)/(3*(sc.hbar**2)*xs) \n",
    "Add = xs*lamda/(4*np.pi*No*Ao) ##book keeping, in units of Bohr radius\n",
    "\n",
    "# dimensionless variables\n",
    "eps = 1/gamma\n",
    "nz = 1 #polarisation must be cylindrically symmetric so hankel is valid\n",
    "D = 3*lamda/(4*np.pi) # book keeping for stability\n",
    "\n",
    "#Edd = Cdd/(3*g)\n",
    "xi = 2*np.pi*rho*np.sqrt(eps/2)\n",
    "\n",
    "def Norm_r_or_rho(psi,space): ##space is either r or rho\n",
    "    out = 2*np.pi*(space[1]*np.abs(psi[1]))**2 ##first r term has slightly different dr\n",
    "    out += 2*np.pi*np.sum(space[2:]*np.abs(psi[2:])**2)*(space[N]-space[1])/N ##rest of normalisation using average dr\n",
    "    out = np.sqrt(out)\n",
    "    ##apart from first dr\n",
    "    return out\n",
    "\n",
    "def V(psiq_symm): \n",
    "    return 0.5*(r**2) + (gs/np.sqrt(2*np.pi*eps))*(np.abs(psiq_symm)**2) +dd_quasi_2D_conv_Hankel(psiq_symm)\n",
    "\n",
    "def dd_quasi_2D_conv_Hankel(psiq_symm):\n",
    "    out = 2-3*xi*np.sqrt(np.pi)*np.exp(xi**2)*ss.erfc(xi)\n",
    "    out *= 1/(np.sqrt(2*np.pi*eps))\n",
    "    out = lamda*iqfht(out*qfht(np.abs(psiq_symm)**2,J),J)\n",
    "    return out \n",
    "    \n",
    "    \n",
    "\n",
    "psiq_symm = np.exp(-r**2) ##exponential gives bessel function, not sure why\n",
    "psiq_symm /= Norm_r_or_rho(psiq_symm,r)    \n",
    "\n",
    "\n",
    "T = 0.5*(2*np.pi*rho)**2 \n",
    "exp_T = np.exp((-1j*dt*T))\n",
    "\n",
    "for i in tqdm_notebook(range(800),leave = False):\n",
    "    psiq_symm = np.exp(-0.5j*dt*V(psiq_symm))*psiq_symm\n",
    "    psiq_symm = exp_T*qfht(psiq_symm,J) \n",
    "    psiq_symm = iqfht(psiq_symm,J)\n",
    "    psiq_symm /= Norm_r_or_rho(psiq_symm,r)\n",
    "    psiq_symm *= np.exp(-0.5j*dt*V(psiq_symm))\n",
    "    psiq_symm /= Norm_r_or_rho(psiq_symm,r)\n",
    "\n",
    "##normalisation within loop might also have to be the proper normalisation    \n",
    "##it has to be in this order and separated like this to ensure psi \n",
    "#is in the right space for the functions\n",
    "\n",
    "##already normalised at end of loop\n",
    "psiq_symm *= np.sqrt(No) ## actually should be np.sqrt(No)\n",
    "\n",
    "#harmonic potential    \n",
    "gnd_state = np.exp((-r**2)/2)\n",
    "gnd_state /= Norm_r_or_rho(gnd_state,r) \n",
    "gnd_state *= np.sqrt(No)\n",
    "print(D)\n",
    "print(gamma)\n",
    "print(Add)\n",
    "plt.plot(r,np.abs(psiq_symm), label =\"numerical ground state\")\n",
    "plt.plot(r,gnd_state, label = \"true ground state\")\n",
    "#plt.ylim(-0.01,0.02)\n",
    "#plt.xlim(0,8)\n",
    "plt.show()\n",
    "    \n",
    "diff = psiq_symm-gnd_state\n",
    "plt.plot(r,100*diff/np.max(psiq_symm),label=\"diff\")\n",
    "plt.xlabel('r position')\n",
    "plt.ylabel('diff/% of max of psi')\n",
    "#plt.ylim(-1,1)\n",
    "plt.xlim(0,10)\n",
    "plt.legend()\n",
    "plt.title('diff/%')\n",
    "plt.show() # plots psi against x\n",
    "\n",
    "psiq_symm_r = psiq_symm\n",
    "    "
   ]
  },
  {
   "cell_type": "code",
   "execution_count": 56,
   "metadata": {},
   "outputs": [
    {
     "data": {
      "text/plain": [
       "0.1186382724144205"
      ]
     },
     "execution_count": 56,
     "metadata": {},
     "output_type": "execute_result"
    }
   ],
   "source": []
  }
 ],
 "metadata": {
  "kernelspec": {
   "display_name": "Python 3",
   "language": "python",
   "name": "python3"
  },
  "language_info": {
   "codemirror_mode": {
    "name": "ipython",
    "version": 3
   },
   "file_extension": ".py",
   "mimetype": "text/x-python",
   "name": "python",
   "nbconvert_exporter": "python",
   "pygments_lexer": "ipython3",
   "version": "3.7.6"
  }
 },
 "nbformat": 4,
 "nbformat_minor": 4
}
