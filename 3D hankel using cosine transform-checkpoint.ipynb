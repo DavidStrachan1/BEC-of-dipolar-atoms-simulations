{
 "cells": [
  {
   "cell_type": "code",
   "execution_count": 105,
   "metadata": {},
   "outputs": [
    {
     "data": {
      "text/html": [
       "<style>.container { width:100% !important; }</style>"
      ],
      "text/plain": [
       "<IPython.core.display.HTML object>"
      ]
     },
     "metadata": {},
     "output_type": "display_data"
    }
   ],
   "source": [
    "from IPython.core.display import display, HTML\n",
    "display(HTML(\"<style>.container { width:100% !important; }</style>\"))"
   ]
  },
  {
   "cell_type": "markdown",
   "metadata": {},
   "source": [
    "# 3D Hankel using cosine transform"
   ]
  },
  {
   "cell_type": "code",
   "execution_count": 4,
   "metadata": {},
   "outputs": [
    {
     "data": {
      "application/vnd.jupyter.widget-view+json": {
       "model_id": "",
       "version_major": 2,
       "version_minor": 0
      },
      "text/plain": [
       "HBox(children=(FloatProgress(value=0.0, max=241.0), HTML(value='')))"
      ]
     },
     "metadata": {},
     "output_type": "display_data"
    },
    {
     "name": "stdout",
     "output_type": "stream",
     "text": [
      "\r"
     ]
    }
   ],
   "source": [
    "import numpy as np\n",
    "import scipy.constants as sc\n",
    "from scipy.fft import fft,ifft,fftfreq, dct, idct\n",
    "import matplotlib.pyplot as plt\n",
    "from numpy import linalg as LA\n",
    "import warnings\n",
    "warnings.simplefilter('ignore')\n",
    "from tqdm import tqdm_notebook\n",
    "import mpl_toolkits.mplot3d as mplot3d\n",
    "import scipy.special as ss\n",
    "from scipy.integrate import quad, dblquad\n",
    "import plotly.graph_objects as go\n",
    "import pandas as pd\n",
    "import seaborn as sns\n",
    "b = 30 ## max radius, large to prevent aliasing\n",
    "def size_z(gamma):\n",
    "    return b/np.sqrt(gamma)\n",
    "N = 8*b ## number of points (one less actually)\n",
    "##one paper only uses N=32, quote \"generally, convergence will depend\n",
    "#on the parameters of the problem, but in most cases this grid already achieves\n",
    "#convergence to very high accuracy\"\n",
    "##this paper is S. Ronen, D.C.E. Bortolotti, and J.L. Bohn, Phys. Rev. A 74, 013623 (2006). \n",
    "Nz = int(N/2 +1) ##due to smaller range of z (b/gamma) we may be able to use a lower number of z values\n",
    "\n",
    "def E_conv(E_list,criteria,window=10):\n",
    "    if np.size(E_list)>window:\n",
    "        std = np.std(E_list[-window:])\n",
    "        mean = np.mean(E_list[-window:])\n",
    "        return (std/mean)<criteria\n",
    "    return False    \n",
    "    \n",
    "\n",
    "\n",
    "def dt(E_list):\n",
    "    #i = E_list\n",
    "    if E_conv(E_list,criteria=1e-1):\n",
    "        return -0.01j\n",
    "    return -0.1j\n",
    "\n",
    "\n",
    "\n",
    "\n",
    "def Zc(gamma):\n",
    "    return size_z(gamma)/2\n",
    "\n",
    "k= int(N/4) ##needed for hankel transform\n",
    "alpha=np.pad(ss.jnp_zeros(0,N),(1,0),'constant',constant_values=(0)) # zeros of first derivative of zeroth order bessel function \n",
    "##I add a zero at the start so there are N+1 points in total\n",
    "J0 = ss.jn_zeros(0,N+2) #zeros of zeroth order bessel function\n",
    "S = ss.jv(0,alpha[k]*alpha/J0[N+1])**2\n",
    "S /= ss.jv(0,alpha)**2\n",
    "S = np.sqrt(1+sum(S)-S[0])\n",
    "S /= np.abs(ss.jv(0,alpha[k]))/2 ##defining S based on method in report\n",
    "C = np.zeros((N+1,N+1))\n",
    "for i in tqdm_notebook(range(N+1),leave = False):\n",
    "    for j in range(N+1):\n",
    "        C[i,j] = ss.jv(0,alpha[i]*alpha[j]/S)\n",
    "        C[i,j] /= S*np.abs(ss.jv(0,alpha[i]))*np.abs(ss.jv(0,alpha[j]))/2\n",
    "##defining orthogonal transformation matrix\n",
    "\n",
    "def dz(gamma):\n",
    "    return size_z(gamma)/(Nz-1)\n",
    "def z(gamma):\n",
    "    return np.linspace(-size_z(gamma),0,Nz).reshape(1,-1).repeat(N+1,0)\n",
    "def kz(gamma):\n",
    "    return fftfreq(2*len(z(gamma)[0,:]),dz(gamma)/(2*np.pi))[0:int(Nz)].reshape(1,-1).repeat(N+1,0)\n",
    "def k_mag(gamma):\n",
    "    return np.sqrt(kz(gamma)**2 + (2*np.pi*rho)**2)\n",
    "def exp_T(E_list,gamma):\n",
    "    T = 0.5*k_mag(gamma)**2\n",
    "    return np.exp((-1j*dt(E_list)*T))\n",
    "\n",
    "r = (alpha*b/S).reshape(-1,1).repeat(Nz,1)        \n",
    "beta = S/(2*np.pi*b) ##max rho value\n",
    "rho= (alpha*beta/S).reshape(-1,1).repeat(int(Nz),1)  ##defining 2D arrays\n",
    "\n",
    "\n",
    "def F(f,J):\n",
    "    out = f*b/J\n",
    "    return out\n",
    "def G(g,J):\n",
    "    out = g*beta/J\n",
    "    return out\n",
    "def Finv(f,J):\n",
    "    out = f*J/b\n",
    "    return out\n",
    "def Ginv(g,J):\n",
    "    out = g*J/beta ##These make transform more clean\n",
    "    return out\n",
    "def qfht(psi,J):\n",
    "    out = F(psi,J) #changes variables\n",
    "    out = np.matmul(C,out)#applies transformation matrix \n",
    "    out = Ginv(out,J)\n",
    "    return out\n",
    "def iqfht(psi,J):\n",
    "    out = G(psi,J)\n",
    "    out = np.matmul(C,out)\n",
    "    out = Finv(out,J)\n",
    "    return out\n",
    "\n",
    "dr = (r[N,0]-r[1,0])/(N-1) \n",
    "def Norm_r_or_rho(psi,gamma): \n",
    "    \n",
    "    ##space is either r or rho, Normalisation function\n",
    "    out = 2*np.pi*np.sum(np.abs(psi[1,:])**2)*dz(gamma)*r[1,0]*r[1,0]/2 ##first r term has slightly different dr\n",
    "    out += 2*np.pi*np.sum(r[2:,:]*np.abs(psi[2:,:])**2)*dr*dz(gamma) ##rest of normalisation using average dr\n",
    "    out *=2 ## actual normalisation is for both positive and negative z\n",
    "    out = np.sqrt(out)\n",
    "    ##apart from first dr\n",
    "    return out\n",
    "\n",
    "\n",
    "##### need to rewrite this energy so it does over all z\n",
    "def E(psi_zr,gamma,gs,Udd):\n",
    "    integrand = 0.5*np.abs(idct(iqfht(-1j*k_mag(gamma)*qfht(dct(psi_zr,1,axis=1),J),J),1,axis=1))**2 \\\n",
    "    + V_trap(gamma)*np.abs(psi_zr)**2 + (gs/2)*np.abs(psi_zr)**4 + (1/2)*dd_cont_cyl(psi_zr,Udd,J)*np.abs(psi_zr)**2\n",
    "    #integrand = uniform_interp(integrand)\n",
    "    #energy = 2*np.pi*np.sum(integrand*r_uni)*dr_uni*dz(gamma)\n",
    "    energy = 2*np.pi*np.sum(integrand[1,:])*dz(gamma)*r[1,0]*r[1,0]/2 ##first r term has slightly different dr\n",
    "    energy += 2*np.pi*np.sum(r[2:,:]*integrand[2:,:])*dr*dz(gamma) ##rest of normalisation using average dr\n",
    "    energy *= 2\n",
    "    return energy.real\n",
    "\n",
    "\n",
    "def dd_cont_cyl(psi_zr,Udd,J):\n",
    "    out = Udd*qfht(dct(np.abs(psi_zr)**2,1,axis=1),J)\n",
    "    out = idct(iqfht(out,J),1,axis=1) ##Convolution using cosine transform\n",
    "    return out \n",
    "\n",
    "\n",
    "def V_trap(gamma):\n",
    "    return 0.5*(r**2 + (gamma*z(gamma))**2)\n",
    "def Vzr(psi,r,gamma,gs,J): ##potential function, includes interactions\n",
    "    return 0.5*(r**2 + (gamma*z(gamma))**2) +(gs*np.abs(psi)**2) +dd_cont_cyl(psi,Udd,J)\n",
    "\n",
    "\n",
    "def chem(gamma,gs,a,m,xs,g):\n",
    "    No = gs*xs/(4*np.pi*a) #number of particles\n",
    "    chem = (15*g*No/(8*np.pi))\n",
    "    chem *= w*w*w*gamma*((m/2)**1.5)\n",
    "    chem = chem**(2/5)\n",
    "    return chem  \n",
    "\n",
    "\n",
    "#####\n",
    "##all physical quantities, mainly book keeping before going into dimensionless variables\n",
    "\n",
    "##values needed for functions\n",
    "m = 2.7774e-25 ##mass of erbium atom\n",
    "w=100*np.pi ##radial frequency\n",
    "Ao = 5.29*1e-11 #Bohr radius\n",
    "a = 100*Ao ##See Fortran paper, they analyse stability by varying a\n",
    "g = 4*np.pi*(sc.hbar**2)*a/m ##for book keeping\n",
    "\n",
    "##purely book keeping\n",
    "mu =6.98 ##dipole moment of erbium\n",
    "mu_B =9.2740100783e-24 ##Bohr magneton\n",
    "Cdd = 0#sc.mu_0*(mu*mu_B)**2 \n",
    "\n",
    "\n",
    "##equations for dimensionless interaction factors\n",
    "xs = np.sqrt(sc.hbar/(m*w)) ##length scale\n",
    "No = 0#4.5*1e4 #number of particles\n",
    "gs = 4*np.pi*a*No/xs#  g in dimensionless units\n",
    "D = (m*No*Cdd)/(4*np.pi*(sc.hbar**2)*xs) \n",
    "#######"
   ]
  },
  {
   "cell_type": "code",
   "execution_count": 243,
   "metadata": {},
   "outputs": [
    {
     "data": {
      "text/plain": [
       "2.7553982218338575"
      ]
     },
     "execution_count": 243,
     "metadata": {},
     "output_type": "execute_result"
    }
   ],
   "source": [
    "\n"
   ]
  },
  {
   "cell_type": "code",
   "execution_count": 699,
   "metadata": {},
   "outputs": [
    {
     "data": {
      "text/plain": [
       "array([[ 0.        ,  0.34444575,  0.68889151, ..., 40.64459904,\n",
       "        40.9890448 , 41.33349055],\n",
       "       [ 0.12772353,  0.36736382,  0.70063172, ..., 40.64479972,\n",
       "        40.98924379, 41.33368789],\n",
       "       [ 0.23385289,  0.41632926,  0.72750167, ..., 40.64527178,\n",
       "        40.98971188, 41.33415208],\n",
       "       ...,\n",
       "       [24.94946496, 24.95184251, 24.9589738 , ..., 47.69129095,\n",
       "        47.98518099, 48.27973946],\n",
       "       [25.05418478, 25.0565524 , 25.0636539 , ..., 47.74615803,\n",
       "        48.03971241, 48.33393855],\n",
       "       [25.15890461, 25.16126237, 25.16833432, ..., 47.80119153,\n",
       "        48.09441001, 48.38830357]])"
      ]
     },
     "execution_count": 699,
     "metadata": {},
     "output_type": "execute_result"
    }
   ],
   "source": [
    "k_mag(gamma)"
   ]
  },
  {
   "cell_type": "code",
   "execution_count": 5,
   "metadata": {},
   "outputs": [
    {
     "data": {
      "application/vnd.jupyter.widget-view+json": {
       "model_id": "",
       "version_major": 2,
       "version_minor": 0
      },
      "text/plain": [
       "HBox(children=(FloatProgress(value=0.0, max=5000.0), HTML(value='')))"
      ]
     },
     "metadata": {},
     "output_type": "display_data"
    },
    {
     "name": "stdout",
     "output_type": "stream",
     "text": [
      "\r"
     ]
    },
    {
     "data": {
      "image/png": "[encoded data removed]",
      "text/plain": [
       "<Figure size 432x288 with 1 Axes>"
      ]
     },
     "metadata": {
      "needs_background": "light"
     },
     "output_type": "display_data"
    },
    {
     "data": {
      "image/png": "[encoded data removed]",
      "text/plain": [
       "<Figure size 432x288 with 1 Axes>"
      ]
     },
     "metadata": {
      "needs_background": "light"
     },
     "output_type": "display_data"
    },
    {
     "data": {
      "image/png": "[encoded data removed]",
      "text/plain": [
       "<Figure size 432x288 with 1 Axes>"
      ]
     },
     "metadata": {
      "needs_background": "light"
     },
     "output_type": "display_data"
    },
    {
     "data": {
      "image/png": "[encoded data removed]",
      "text/plain": [
       "<Figure size 432x288 with 1 Axes>"
      ]
     },
     "metadata": {
      "needs_background": "light"
     },
     "output_type": "display_data"
    },
    {
     "data": {
      "image/png": "[encoded data removed]",
      "text/plain": [
       "<Figure size 432x288 with 1 Axes>"
      ]
     },
     "metadata": {
      "needs_background": "light"
     },
     "output_type": "display_data"
    },
    {
     "data": {
      "image/png": "[encoded data removed]",
      "text/plain": [
       "<Figure size 432x288 with 1 Axes>"
      ]
     },
     "metadata": {
      "needs_background": "light"
     },
     "output_type": "display_data"
    }
   ],
   "source": [
    "J = np.abs(ss.jv(0,alpha)).reshape(-1,1)\n",
    "\n",
    "##overriding parameters\n",
    "gs = 0 ##dimensionless contact factor\n",
    "D =50 ## dimensionless dipole factor\n",
    "gamma = 7.4 ##ratio of axial frequency to radial frequency\n",
    "eps = 1/gamma\n",
    "wz =gamma*w\n",
    "\n",
    "lamda = 4*np.pi*D/3\n",
    "Udd = 3*(np.nan_to_num(kz(gamma)/k_mag(gamma),posinf=0))**2 - 1\n",
    "Udd += np.exp(-Zc(gamma)*2*np.pi*rho)*((np.nan_to_num(2*np.pi*rho/k_mag(gamma),posinf=0)**2)*np.cos(Zc(gamma)*kz(gamma))\n",
    "                        -np.nan_to_num(2*np.pi*rho/k_mag(gamma),posinf=0)*np.nan_to_num(kz(gamma)/k_mag(gamma),posinf=0)*np.sin(Zc(gamma)*kz(gamma)))\n",
    "Udd *= lamda    ##z cut off dipole term\n",
    "\n",
    "psi = np.exp((-r**2)/2)*np.exp(-gamma*(z(gamma)**2)/2) ##initial guess\n",
    "psi = psi**0.05 ##smoothing\n",
    "psi /=Norm_r_or_rho(psi,gamma)\n",
    "\n",
    "E_list = []\n",
    "E_index_list = []\n",
    "trig = False\n",
    "dt_ = dt(E_list)\n",
    "exp_T_ = exp_T(E_list,gamma)\n",
    "for i in tqdm_notebook(range(5000),leave = False):  ##split step loop\n",
    "    if i%10==0:\n",
    "        E_list.append([E(psi,gamma,gs,Udd)])\n",
    "        E_index_list.append([i])\n",
    "        exp_T_ = exp_T(E_list,gamma)\n",
    "        if not trig:\n",
    "            new_dt = dt(E_list)\n",
    "            trig = (abs(new_dt)<abs(dt_)) ## fix this so its not hard coded\n",
    "            dt_ = new_dt\n",
    "    \n",
    "    psi = np.exp(-0.5j*dt_*Vzr(psi,r,gamma,gs,J))*psi ##applies half the potential\n",
    "    psi = exp_T_*qfht(dct(psi,1,axis=1),J) ## applies kinetic in (cosine) fourier and bessel space\n",
    "    psi = idct(iqfht(psi,J),1,axis=1)  ##transforms back to position space\n",
    "    psi /= Norm_r_or_rho(psi,gamma) ##normalising, needs to be right normalisation for psi dependent V\n",
    "    psi *= np.exp(-0.5j*dt_*Vzr(psi,r,gamma,gs,J)) ##applies second half of potential\n",
    "    psi /= Norm_r_or_rho(psi,gamma) ##Normalising\n",
    "    if np.isnan(psi).any() or np.min(E_list)<0 or np.max(E_list)>E_list[0]:  ##stops the loop early if there is a collapse to nan\n",
    "        print('not converged')\n",
    "        break\n",
    "    if E_conv(E_list,criteria=1e-8):\n",
    "        break\n",
    "\n",
    "    \n",
    "\n",
    "    \n",
    "##full harmonic\n",
    "gnd_state = np.exp((-r**2)/2)*np.exp((-gamma*(z(gamma))**2)/2)\n",
    "gnd_state /= Norm_r_or_rho(gnd_state,gamma) ##ground state with no interactions\n",
    "#gnd_state *= np.sqrt(No)\n",
    "diff_zr = np.abs(psi)-np.abs(gnd_state) ##defines a difference array\n",
    "\n",
    "##Thomas fermi\n",
    "R = (8*lamda/(np.pi*np.sqrt(2*np.pi*eps)))**0.25 ##Thomas fermi radius in r direction for purely dipolar\n",
    "R_validity = lamda/(2*np.pi*np.sqrt(gamma**3)) ##valid when R_validity <<1\n",
    "##both from quasi 2D/1D paper, notation\n",
    "##is confusing, compare to rigorous paper\n",
    "#This R is the thomas fermi radius for quasi 2D with no contact term\n",
    "Rr = np.sqrt((2*chem(gamma,gs,a,m,xs,g))/(m*w*w))\n",
    "Rz = np.sqrt((2*chem(gamma,gs,a,m,xs,g))/(m*wz*wz))\n",
    "Rr = Rr/xs\n",
    "Rz =Rz/xs\n",
    "TF_contact = np.nan_to_num(np.sqrt(1-(r/Rr)**2 - (z(gamma)/Rz)**2))\n",
    "TF_contact /= Norm_r_or_rho(TF_contact,gamma)\n",
    "\n",
    "TF_quasi = np.nan_to_num(np.sqrt(1-(r/R)**2))*np.exp((-gamma*(z(gamma))**2)/2) ##thomas fermi\n",
    "TF_quasi /= Norm_r_or_rho(TF_quasi,gamma) ##normalisation\n",
    "\n",
    "fig=plt.figure()\n",
    "ax = plt.axes(projection='3d')\n",
    "\n",
    "z_cutoff =np.max(np.abs(z(gamma)))/2\n",
    "r_cutoff = 10\n",
    "bools =(np.abs(r) <= r_cutoff)*(np.abs(z(gamma)) <=z_cutoff)\n",
    "##boolean vector used to manually set limits on the axes\n",
    "n_1 = np.sum(bools[:,Nz-1]) ## number of r coords with value less than r_cutoff\n",
    "n_2 = Nz - np.sum(bools[0,:]) ## number of z coords with value less than z_cutoff\n",
    "ax.plot_surface(r[0:n_1,n_2:(Nz-1)],z(gamma)[0:n_1,n_2:(Nz-1)],np.abs(psi)[0:n_1,n_2:(Nz-1)],cmap='jet')\n",
    "ax.set_title('Psi')\n",
    "ax.set_xlabel('r position')\n",
    "ax.set_ylabel('z position')\n",
    "ax.set_zlabel('psi')\n",
    "plt.show()\n",
    "\n",
    "plt.plot(r[:,0],np.abs(psi[:,Nz-1]),label=\"numerical solution, z=0\")\n",
    "plt.plot(r[:,0],gnd_state[:,Nz-1],label=\"true solution, z=0\")\n",
    "#plt.plot(r[:,0],TF_contact[:,Nz-1], label=\"Thomas Fermi for contact, z=0\")\n",
    "#plt.plot(r[:,0],TF_quasi[:,Nz-1], label=\"Thomas Fermi for purely dipolar, z=0\")\n",
    "plt.title('psi in z=0 plane')\n",
    "#plt.xlim(10,20)\n",
    "plt.legend()\n",
    "plt.xlabel('r position')\n",
    "plt.ylabel('psi')\n",
    "plt.show()        \n",
    "\n",
    "plt.plot(z(gamma)[0,:],np.abs(psi[0,:]),label=\"numerical solution, r=0\")\n",
    "plt.plot(z(gamma)[0,:],np.abs(gnd_state[0,:]),label = \"ground state, r=0\")\n",
    "#plt.plot(z(gamma)[0,:],np.abs(TF_contact[0,:]),label=\"Thomas Fermi for contact,z=0\")\n",
    "plt.title('psi in z direction, r=0')\n",
    "#plt.xlim(0,5)\n",
    "plt.legend()\n",
    "plt.xlabel(' z position')\n",
    "plt.ylabel('psi')\n",
    "plt.show()  \n",
    "\n",
    "plt.plot(r[:,0],100*diff_zr[:,Nz-1]/np.max(psi),label=\"diff in r direction, z=0\")\n",
    "plt.plot(z(gamma)[0,:],100*diff_zr[0,:]/np.max(psi),label=\"diff in z direction, r=0\")\n",
    "plt.title('diff/% of psi for r=0 and z=0 to ground state with no interactions')\n",
    "#plt.xlim(0,6)\n",
    "plt.xlabel('r,z')\n",
    "plt.ylabel('difference in % of max psi\"')\n",
    "plt.legend()\n",
    "plt.show()  \n",
    "\n",
    "plt.plot(np.asarray(E_index_list),np.asarray(E_list))\n",
    "plt.xlabel('iteration number')\n",
    "plt.ylabel('energy')\n",
    "plt.show()\n",
    "\n",
    "\n",
    "fig,ax = plt.subplots()\n",
    "ax.contour(r,z(gamma),np.abs(psi))\n",
    "ax.set_title('contour plot of psi')\n",
    "#ax.set_ylim(0,5/gamma)\n",
    "#ax.set_xlim(0,b/2)\n",
    "ax.set_xlabel('r position')\n",
    "ax.set_ylabel('z position')\n",
    "plt.show()\n"
   ]
  },
  {
   "cell_type": "markdown",
   "metadata": {},
   "source": [
    "# Stability code"
   ]
  },
  {
   "cell_type": "code",
   "execution_count": null,
   "metadata": {
    "scrolled": true
   },
   "outputs": [],
   "source": []
  },
  {
   "cell_type": "code",
   "execution_count": null,
   "metadata": {},
   "outputs": [],
   "source": []
  },
  {
   "cell_type": "code",
   "execution_count": 88,
   "metadata": {},
   "outputs": [
    {
     "data": {
      "application/vnd.jupyter.widget-view+json": {
       "model_id": "",
       "version_major": 2,
       "version_minor": 0
      },
      "text/plain": [
       "HBox(children=(FloatProgress(value=0.0, max=81.0), HTML(value='')))"
      ]
     },
     "metadata": {},
     "output_type": "display_data"
    },
    {
     "data": {
      "application/vnd.jupyter.widget-view+json": {
       "model_id": "",
       "version_major": 2,
       "version_minor": 0
      },
      "text/plain": [
       "HBox(children=(FloatProgress(value=0.0, max=81.0), HTML(value='')))"
      ]
     },
     "metadata": {},
     "output_type": "display_data"
    },
    {
     "data": {
      "application/vnd.jupyter.widget-view+json": {
       "model_id": "",
       "version_major": 2,
       "version_minor": 0
      },
      "text/plain": [
       "HBox(children=(FloatProgress(value=0.0, max=81.0), HTML(value='')))"
      ]
     },
     "metadata": {},
     "output_type": "display_data"
    },
    {
     "data": {
      "application/vnd.jupyter.widget-view+json": {
       "model_id": "",
       "version_major": 2,
       "version_minor": 0
      },
      "text/plain": [
       "HBox(children=(FloatProgress(value=0.0, max=81.0), HTML(value='')))"
      ]
     },
     "metadata": {},
     "output_type": "display_data"
    },
    {
     "data": {
      "application/vnd.jupyter.widget-view+json": {
       "model_id": "",
       "version_major": 2,
       "version_minor": 0
      },
      "text/plain": [
       "HBox(children=(FloatProgress(value=0.0, max=81.0), HTML(value='')))"
      ]
     },
     "metadata": {},
     "output_type": "display_data"
    },
    {
     "data": {
      "application/vnd.jupyter.widget-view+json": {
       "model_id": "",
       "version_major": 2,
       "version_minor": 0
      },
      "text/plain": [
       "HBox(children=(FloatProgress(value=0.0, max=81.0), HTML(value='')))"
      ]
     },
     "metadata": {},
     "output_type": "display_data"
    },
    {
     "data": {
      "application/vnd.jupyter.widget-view+json": {
       "model_id": "",
       "version_major": 2,
       "version_minor": 0
      },
      "text/plain": [
       "HBox(children=(FloatProgress(value=0.0, max=81.0), HTML(value='')))"
      ]
     },
     "metadata": {},
     "output_type": "display_data"
    },
    {
     "data": {
      "application/vnd.jupyter.widget-view+json": {
       "model_id": "",
       "version_major": 2,
       "version_minor": 0
      },
      "text/plain": [
       "HBox(children=(FloatProgress(value=0.0, max=81.0), HTML(value='')))"
      ]
     },
     "metadata": {},
     "output_type": "display_data"
    },
    {
     "data": {
      "application/vnd.jupyter.widget-view+json": {
       "model_id": "",
       "version_major": 2,
       "version_minor": 0
      },
      "text/plain": [
       "HBox(children=(FloatProgress(value=0.0, max=81.0), HTML(value='')))"
      ]
     },
     "metadata": {},
     "output_type": "display_data"
    },
    {
     "data": {
      "application/vnd.jupyter.widget-view+json": {
       "model_id": "",
       "version_major": 2,
       "version_minor": 0
      },
      "text/plain": [
       "HBox(children=(FloatProgress(value=0.0, max=81.0), HTML(value='')))"
      ]
     },
     "metadata": {},
     "output_type": "display_data"
    },
    {
     "data": {
      "application/vnd.jupyter.widget-view+json": {
       "model_id": "",
       "version_major": 2,
       "version_minor": 0
      },
      "text/plain": [
       "HBox(children=(FloatProgress(value=0.0, max=81.0), HTML(value='')))"
      ]
     },
     "metadata": {},
     "output_type": "display_data"
    },
    {
     "data": {
      "application/vnd.jupyter.widget-view+json": {
       "model_id": "",
       "version_major": 2,
       "version_minor": 0
      },
      "text/plain": [
       "HBox(children=(FloatProgress(value=0.0, max=81.0), HTML(value='')))"
      ]
     },
     "metadata": {},
     "output_type": "display_data"
    },
    {
     "data": {
      "application/vnd.jupyter.widget-view+json": {
       "model_id": "",
       "version_major": 2,
       "version_minor": 0
      },
      "text/plain": [
       "HBox(children=(FloatProgress(value=0.0, max=81.0), HTML(value='')))"
      ]
     },
     "metadata": {},
     "output_type": "display_data"
    },
    {
     "data": {
      "application/vnd.jupyter.widget-view+json": {
       "model_id": "",
       "version_major": 2,
       "version_minor": 0
      },
      "text/plain": [
       "HBox(children=(FloatProgress(value=0.0, max=81.0), HTML(value='')))"
      ]
     },
     "metadata": {},
     "output_type": "display_data"
    },
    {
     "data": {
      "application/vnd.jupyter.widget-view+json": {
       "model_id": "",
       "version_major": 2,
       "version_minor": 0
      },
      "text/plain": [
       "HBox(children=(FloatProgress(value=0.0, max=81.0), HTML(value='')))"
      ]
     },
     "metadata": {},
     "output_type": "display_data"
    },
    {
     "data": {
      "application/vnd.jupyter.widget-view+json": {
       "model_id": "",
       "version_major": 2,
       "version_minor": 0
      },
      "text/plain": [
       "HBox(children=(FloatProgress(value=0.0, max=81.0), HTML(value='')))"
      ]
     },
     "metadata": {},
     "output_type": "display_data"
    },
    {
     "data": {
      "application/vnd.jupyter.widget-view+json": {
       "model_id": "",
       "version_major": 2,
       "version_minor": 0
      },
      "text/plain": [
       "HBox(children=(FloatProgress(value=0.0, max=81.0), HTML(value='')))"
      ]
     },
     "metadata": {},
     "output_type": "display_data"
    },
    {
     "data": {
      "application/vnd.jupyter.widget-view+json": {
       "model_id": "",
       "version_major": 2,
       "version_minor": 0
      },
      "text/plain": [
       "HBox(children=(FloatProgress(value=0.0, max=81.0), HTML(value='')))"
      ]
     },
     "metadata": {},
     "output_type": "display_data"
    },
    {
     "data": {
      "application/vnd.jupyter.widget-view+json": {
       "model_id": "",
       "version_major": 2,
       "version_minor": 0
      },
      "text/plain": [
       "HBox(children=(FloatProgress(value=0.0, max=81.0), HTML(value='')))"
      ]
     },
     "metadata": {},
     "output_type": "display_data"
    },
    {
     "data": {
      "application/vnd.jupyter.widget-view+json": {
       "model_id": "",
       "version_major": 2,
       "version_minor": 0
      },
      "text/plain": [
       "HBox(children=(FloatProgress(value=0.0, max=81.0), HTML(value='')))"
      ]
     },
     "metadata": {},
     "output_type": "display_data"
    },
    {
     "data": {
      "application/vnd.jupyter.widget-view+json": {
       "model_id": "",
       "version_major": 2,
       "version_minor": 0
      },
      "text/plain": [
       "HBox(children=(FloatProgress(value=0.0, max=81.0), HTML(value='')))"
      ]
     },
     "metadata": {},
     "output_type": "display_data"
    },
    {
     "data": {
      "application/vnd.jupyter.widget-view+json": {
       "model_id": "",
       "version_major": 2,
       "version_minor": 0
      },
      "text/plain": [
       "HBox(children=(FloatProgress(value=0.0, max=81.0), HTML(value='')))"
      ]
     },
     "metadata": {},
     "output_type": "display_data"
    },
    {
     "data": {
      "application/vnd.jupyter.widget-view+json": {
       "model_id": "",
       "version_major": 2,
       "version_minor": 0
      },
      "text/plain": [
       "HBox(children=(FloatProgress(value=0.0, max=81.0), HTML(value='')))"
      ]
     },
     "metadata": {},
     "output_type": "display_data"
    },
    {
     "data": {
      "application/vnd.jupyter.widget-view+json": {
       "model_id": "",
       "version_major": 2,
       "version_minor": 0
      },
      "text/plain": [
       "HBox(children=(FloatProgress(value=0.0, max=81.0), HTML(value='')))"
      ]
     },
     "metadata": {},
     "output_type": "display_data"
    },
    {
     "data": {
      "application/vnd.jupyter.widget-view+json": {
       "model_id": "",
       "version_major": 2,
       "version_minor": 0
      },
      "text/plain": [
       "HBox(children=(FloatProgress(value=0.0, max=81.0), HTML(value='')))"
      ]
     },
     "metadata": {},
     "output_type": "display_data"
    },
    {
     "data": {
      "application/vnd.jupyter.widget-view+json": {
       "model_id": "",
       "version_major": 2,
       "version_minor": 0
      },
      "text/plain": [
       "HBox(children=(FloatProgress(value=0.0, max=81.0), HTML(value='')))"
      ]
     },
     "metadata": {},
     "output_type": "display_data"
    },
    {
     "data": {
      "application/vnd.jupyter.widget-view+json": {
       "model_id": "",
       "version_major": 2,
       "version_minor": 0
      },
      "text/plain": [
       "HBox(children=(FloatProgress(value=0.0, max=81.0), HTML(value='')))"
      ]
     },
     "metadata": {},
     "output_type": "display_data"
    },
    {
     "data": {
      "application/vnd.jupyter.widget-view+json": {
       "model_id": "",
       "version_major": 2,
       "version_minor": 0
      },
      "text/plain": [
       "HBox(children=(FloatProgress(value=0.0, max=81.0), HTML(value='')))"
      ]
     },
     "metadata": {},
     "output_type": "display_data"
    },
    {
     "data": {
      "application/vnd.jupyter.widget-view+json": {
       "model_id": "",
       "version_major": 2,
       "version_minor": 0
      },
      "text/plain": [
       "HBox(children=(FloatProgress(value=0.0, max=81.0), HTML(value='')))"
      ]
     },
     "metadata": {},
     "output_type": "display_data"
    },
    {
     "data": {
      "application/vnd.jupyter.widget-view+json": {
       "model_id": "",
       "version_major": 2,
       "version_minor": 0
      },
      "text/plain": [
       "HBox(children=(FloatProgress(value=0.0, max=81.0), HTML(value='')))"
      ]
     },
     "metadata": {},
     "output_type": "display_data"
    },
    {
     "data": {
      "application/vnd.jupyter.widget-view+json": {
       "model_id": "",
       "version_major": 2,
       "version_minor": 0
      },
      "text/plain": [
       "HBox(children=(FloatProgress(value=0.0, max=81.0), HTML(value='')))"
      ]
     },
     "metadata": {},
     "output_type": "display_data"
    },
    {
     "data": {
      "application/vnd.jupyter.widget-view+json": {
       "model_id": "",
       "version_major": 2,
       "version_minor": 0
      },
      "text/plain": [
       "HBox(children=(FloatProgress(value=0.0, max=81.0), HTML(value='')))"
      ]
     },
     "metadata": {},
     "output_type": "display_data"
    },
    {
     "data": {
      "application/vnd.jupyter.widget-view+json": {
       "model_id": "",
       "version_major": 2,
       "version_minor": 0
      },
      "text/plain": [
       "HBox(children=(FloatProgress(value=0.0, max=81.0), HTML(value='')))"
      ]
     },
     "metadata": {},
     "output_type": "display_data"
    },
    {
     "data": {
      "application/vnd.jupyter.widget-view+json": {
       "model_id": "",
       "version_major": 2,
       "version_minor": 0
      },
      "text/plain": [
       "HBox(children=(FloatProgress(value=0.0, max=81.0), HTML(value='')))"
      ]
     },
     "metadata": {},
     "output_type": "display_data"
    },
    {
     "data": {
      "application/vnd.jupyter.widget-view+json": {
       "model_id": "",
       "version_major": 2,
       "version_minor": 0
      },
      "text/plain": [
       "HBox(children=(FloatProgress(value=0.0, max=81.0), HTML(value='')))"
      ]
     },
     "metadata": {},
     "output_type": "display_data"
    },
    {
     "data": {
      "application/vnd.jupyter.widget-view+json": {
       "model_id": "",
       "version_major": 2,
       "version_minor": 0
      },
      "text/plain": [
       "HBox(children=(FloatProgress(value=0.0, max=81.0), HTML(value='')))"
      ]
     },
     "metadata": {},
     "output_type": "display_data"
    },
    {
     "data": {
      "application/vnd.jupyter.widget-view+json": {
       "model_id": "",
       "version_major": 2,
       "version_minor": 0
      },
      "text/plain": [
       "HBox(children=(FloatProgress(value=0.0, max=81.0), HTML(value='')))"
      ]
     },
     "metadata": {},
     "output_type": "display_data"
    },
    {
     "data": {
      "application/vnd.jupyter.widget-view+json": {
       "model_id": "",
       "version_major": 2,
       "version_minor": 0
      },
      "text/plain": [
       "HBox(children=(FloatProgress(value=0.0, max=81.0), HTML(value='')))"
      ]
     },
     "metadata": {},
     "output_type": "display_data"
    },
    {
     "data": {
      "application/vnd.jupyter.widget-view+json": {
       "model_id": "",
       "version_major": 2,
       "version_minor": 0
      },
      "text/plain": [
       "HBox(children=(FloatProgress(value=0.0, max=81.0), HTML(value='')))"
      ]
     },
     "metadata": {},
     "output_type": "display_data"
    },
    {
     "data": {
      "application/vnd.jupyter.widget-view+json": {
       "model_id": "",
       "version_major": 2,
       "version_minor": 0
      },
      "text/plain": [
       "HBox(children=(FloatProgress(value=0.0, max=81.0), HTML(value='')))"
      ]
     },
     "metadata": {},
     "output_type": "display_data"
    },
    {
     "data": {
      "application/vnd.jupyter.widget-view+json": {
       "model_id": "",
       "version_major": 2,
       "version_minor": 0
      },
      "text/plain": [
       "HBox(children=(FloatProgress(value=0.0, max=81.0), HTML(value='')))"
      ]
     },
     "metadata": {},
     "output_type": "display_data"
    },
    {
     "data": {
      "application/vnd.jupyter.widget-view+json": {
       "model_id": "",
       "version_major": 2,
       "version_minor": 0
      },
      "text/plain": [
       "HBox(children=(FloatProgress(value=0.0, max=81.0), HTML(value='')))"
      ]
     },
     "metadata": {},
     "output_type": "display_data"
    },
    {
     "data": {
      "application/vnd.jupyter.widget-view+json": {
       "model_id": "",
       "version_major": 2,
       "version_minor": 0
      },
      "text/plain": [
       "HBox(children=(FloatProgress(value=0.0, max=81.0), HTML(value='')))"
      ]
     },
     "metadata": {},
     "output_type": "display_data"
    },
    {
     "data": {
      "application/vnd.jupyter.widget-view+json": {
       "model_id": "",
       "version_major": 2,
       "version_minor": 0
      },
      "text/plain": [
       "HBox(children=(FloatProgress(value=0.0, max=81.0), HTML(value='')))"
      ]
     },
     "metadata": {},
     "output_type": "display_data"
    },
    {
     "data": {
      "application/vnd.jupyter.widget-view+json": {
       "model_id": "",
       "version_major": 2,
       "version_minor": 0
      },
      "text/plain": [
       "HBox(children=(FloatProgress(value=0.0, max=81.0), HTML(value='')))"
      ]
     },
     "metadata": {},
     "output_type": "display_data"
    },
    {
     "data": {
      "application/vnd.jupyter.widget-view+json": {
       "model_id": "",
       "version_major": 2,
       "version_minor": 0
      },
      "text/plain": [
       "HBox(children=(FloatProgress(value=0.0, max=81.0), HTML(value='')))"
      ]
     },
     "metadata": {},
     "output_type": "display_data"
    },
    {
     "data": {
      "application/vnd.jupyter.widget-view+json": {
       "model_id": "",
       "version_major": 2,
       "version_minor": 0
      },
      "text/plain": [
       "HBox(children=(FloatProgress(value=0.0, max=81.0), HTML(value='')))"
      ]
     },
     "metadata": {},
     "output_type": "display_data"
    },
    {
     "data": {
      "application/vnd.jupyter.widget-view+json": {
       "model_id": "",
       "version_major": 2,
       "version_minor": 0
      },
      "text/plain": [
       "HBox(children=(FloatProgress(value=0.0, max=81.0), HTML(value='')))"
      ]
     },
     "metadata": {},
     "output_type": "display_data"
    },
    {
     "data": {
      "application/vnd.jupyter.widget-view+json": {
       "model_id": "",
       "version_major": 2,
       "version_minor": 0
      },
      "text/plain": [
       "HBox(children=(FloatProgress(value=0.0, max=81.0), HTML(value='')))"
      ]
     },
     "metadata": {},
     "output_type": "display_data"
    },
    {
     "data": {
      "application/vnd.jupyter.widget-view+json": {
       "model_id": "",
       "version_major": 2,
       "version_minor": 0
      },
      "text/plain": [
       "HBox(children=(FloatProgress(value=0.0, max=81.0), HTML(value='')))"
      ]
     },
     "metadata": {},
     "output_type": "display_data"
    },
    {
     "data": {
      "application/vnd.jupyter.widget-view+json": {
       "model_id": "",
       "version_major": 2,
       "version_minor": 0
      },
      "text/plain": [
       "HBox(children=(FloatProgress(value=0.0, max=81.0), HTML(value='')))"
      ]
     },
     "metadata": {},
     "output_type": "display_data"
    },
    {
     "data": {
      "application/vnd.jupyter.widget-view+json": {
       "model_id": "",
       "version_major": 2,
       "version_minor": 0
      },
      "text/plain": [
       "HBox(children=(FloatProgress(value=0.0, max=81.0), HTML(value='')))"
      ]
     },
     "metadata": {},
     "output_type": "display_data"
    },
    {
     "data": {
      "application/vnd.jupyter.widget-view+json": {
       "model_id": "",
       "version_major": 2,
       "version_minor": 0
      },
      "text/plain": [
       "HBox(children=(FloatProgress(value=0.0, max=81.0), HTML(value='')))"
      ]
     },
     "metadata": {},
     "output_type": "display_data"
    },
    {
     "data": {
      "application/vnd.jupyter.widget-view+json": {
       "model_id": "",
       "version_major": 2,
       "version_minor": 0
      },
      "text/plain": [
       "HBox(children=(FloatProgress(value=0.0, max=81.0), HTML(value='')))"
      ]
     },
     "metadata": {},
     "output_type": "display_data"
    },
    {
     "data": {
      "application/vnd.jupyter.widget-view+json": {
       "model_id": "",
       "version_major": 2,
       "version_minor": 0
      },
      "text/plain": [
       "HBox(children=(FloatProgress(value=0.0, max=81.0), HTML(value='')))"
      ]
     },
     "metadata": {},
     "output_type": "display_data"
    },
    {
     "data": {
      "application/vnd.jupyter.widget-view+json": {
       "model_id": "",
       "version_major": 2,
       "version_minor": 0
      },
      "text/plain": [
       "HBox(children=(FloatProgress(value=0.0, max=81.0), HTML(value='')))"
      ]
     },
     "metadata": {},
     "output_type": "display_data"
    },
    {
     "data": {
      "application/vnd.jupyter.widget-view+json": {
       "model_id": "",
       "version_major": 2,
       "version_minor": 0
      },
      "text/plain": [
       "HBox(children=(FloatProgress(value=0.0, max=81.0), HTML(value='')))"
      ]
     },
     "metadata": {},
     "output_type": "display_data"
    },
    {
     "data": {
      "application/vnd.jupyter.widget-view+json": {
       "model_id": "",
       "version_major": 2,
       "version_minor": 0
      },
      "text/plain": [
       "HBox(children=(FloatProgress(value=0.0, max=81.0), HTML(value='')))"
      ]
     },
     "metadata": {},
     "output_type": "display_data"
    },
    {
     "data": {
      "application/vnd.jupyter.widget-view+json": {
       "model_id": "",
       "version_major": 2,
       "version_minor": 0
      },
      "text/plain": [
       "HBox(children=(FloatProgress(value=0.0, max=81.0), HTML(value='')))"
      ]
     },
     "metadata": {},
     "output_type": "display_data"
    },
    {
     "data": {
      "application/vnd.jupyter.widget-view+json": {
       "model_id": "",
       "version_major": 2,
       "version_minor": 0
      },
      "text/plain": [
       "HBox(children=(FloatProgress(value=0.0, max=81.0), HTML(value='')))"
      ]
     },
     "metadata": {},
     "output_type": "display_data"
    },
    {
     "data": {
      "application/vnd.jupyter.widget-view+json": {
       "model_id": "",
       "version_major": 2,
       "version_minor": 0
      },
      "text/plain": [
       "HBox(children=(FloatProgress(value=0.0, max=81.0), HTML(value='')))"
      ]
     },
     "metadata": {},
     "output_type": "display_data"
    },
    {
     "data": {
      "application/vnd.jupyter.widget-view+json": {
       "model_id": "",
       "version_major": 2,
       "version_minor": 0
      },
      "text/plain": [
       "HBox(children=(FloatProgress(value=0.0, max=81.0), HTML(value='')))"
      ]
     },
     "metadata": {},
     "output_type": "display_data"
    },
    {
     "data": {
      "application/vnd.jupyter.widget-view+json": {
       "model_id": "",
       "version_major": 2,
       "version_minor": 0
      },
      "text/plain": [
       "HBox(children=(FloatProgress(value=0.0, max=81.0), HTML(value='')))"
      ]
     },
     "metadata": {},
     "output_type": "display_data"
    },
    {
     "data": {
      "application/vnd.jupyter.widget-view+json": {
       "model_id": "",
       "version_major": 2,
       "version_minor": 0
      },
      "text/plain": [
       "HBox(children=(FloatProgress(value=0.0, max=81.0), HTML(value='')))"
      ]
     },
     "metadata": {},
     "output_type": "display_data"
    },
    {
     "data": {
      "application/vnd.jupyter.widget-view+json": {
       "model_id": "",
       "version_major": 2,
       "version_minor": 0
      },
      "text/plain": [
       "HBox(children=(FloatProgress(value=0.0, max=81.0), HTML(value='')))"
      ]
     },
     "metadata": {},
     "output_type": "display_data"
    },
    {
     "data": {
      "application/vnd.jupyter.widget-view+json": {
       "model_id": "",
       "version_major": 2,
       "version_minor": 0
      },
      "text/plain": [
       "HBox(children=(FloatProgress(value=0.0, max=81.0), HTML(value='')))"
      ]
     },
     "metadata": {},
     "output_type": "display_data"
    },
    {
     "data": {
      "application/vnd.jupyter.widget-view+json": {
       "model_id": "",
       "version_major": 2,
       "version_minor": 0
      },
      "text/plain": [
       "HBox(children=(FloatProgress(value=0.0, max=81.0), HTML(value='')))"
      ]
     },
     "metadata": {},
     "output_type": "display_data"
    },
    {
     "data": {
      "application/vnd.jupyter.widget-view+json": {
       "model_id": "",
       "version_major": 2,
       "version_minor": 0
      },
      "text/plain": [
       "HBox(children=(FloatProgress(value=0.0, max=81.0), HTML(value='')))"
      ]
     },
     "metadata": {},
     "output_type": "display_data"
    },
    {
     "data": {
      "application/vnd.jupyter.widget-view+json": {
       "model_id": "",
       "version_major": 2,
       "version_minor": 0
      },
      "text/plain": [
       "HBox(children=(FloatProgress(value=0.0, max=81.0), HTML(value='')))"
      ]
     },
     "metadata": {},
     "output_type": "display_data"
    },
    {
     "data": {
      "application/vnd.jupyter.widget-view+json": {
       "model_id": "",
       "version_major": 2,
       "version_minor": 0
      },
      "text/plain": [
       "HBox(children=(FloatProgress(value=0.0, max=81.0), HTML(value='')))"
      ]
     },
     "metadata": {},
     "output_type": "display_data"
    },
    {
     "data": {
      "application/vnd.jupyter.widget-view+json": {
       "model_id": "",
       "version_major": 2,
       "version_minor": 0
      },
      "text/plain": [
       "HBox(children=(FloatProgress(value=0.0, max=81.0), HTML(value='')))"
      ]
     },
     "metadata": {},
     "output_type": "display_data"
    },
    {
     "data": {
      "application/vnd.jupyter.widget-view+json": {
       "model_id": "",
       "version_major": 2,
       "version_minor": 0
      },
      "text/plain": [
       "HBox(children=(FloatProgress(value=0.0, max=81.0), HTML(value='')))"
      ]
     },
     "metadata": {},
     "output_type": "display_data"
    },
    {
     "data": {
      "application/vnd.jupyter.widget-view+json": {
       "model_id": "",
       "version_major": 2,
       "version_minor": 0
      },
      "text/plain": [
       "HBox(children=(FloatProgress(value=0.0, max=81.0), HTML(value='')))"
      ]
     },
     "metadata": {},
     "output_type": "display_data"
    },
    {
     "data": {
      "application/vnd.jupyter.widget-view+json": {
       "model_id": "",
       "version_major": 2,
       "version_minor": 0
      },
      "text/plain": [
       "HBox(children=(FloatProgress(value=0.0, max=81.0), HTML(value='')))"
      ]
     },
     "metadata": {},
     "output_type": "display_data"
    },
    {
     "data": {
      "application/vnd.jupyter.widget-view+json": {
       "model_id": "",
       "version_major": 2,
       "version_minor": 0
      },
      "text/plain": [
       "HBox(children=(FloatProgress(value=0.0, max=81.0), HTML(value='')))"
      ]
     },
     "metadata": {},
     "output_type": "display_data"
    },
    {
     "data": {
      "application/vnd.jupyter.widget-view+json": {
       "model_id": "",
       "version_major": 2,
       "version_minor": 0
      },
      "text/plain": [
       "HBox(children=(FloatProgress(value=0.0, max=81.0), HTML(value='')))"
      ]
     },
     "metadata": {},
     "output_type": "display_data"
    },
    {
     "data": {
      "application/vnd.jupyter.widget-view+json": {
       "model_id": "",
       "version_major": 2,
       "version_minor": 0
      },
      "text/plain": [
       "HBox(children=(FloatProgress(value=0.0, max=81.0), HTML(value='')))"
      ]
     },
     "metadata": {},
     "output_type": "display_data"
    },
    {
     "data": {
      "application/vnd.jupyter.widget-view+json": {
       "model_id": "",
       "version_major": 2,
       "version_minor": 0
      },
      "text/plain": [
       "HBox(children=(FloatProgress(value=0.0, max=81.0), HTML(value='')))"
      ]
     },
     "metadata": {},
     "output_type": "display_data"
    },
    {
     "data": {
      "application/vnd.jupyter.widget-view+json": {
       "model_id": "",
       "version_major": 2,
       "version_minor": 0
      },
      "text/plain": [
       "HBox(children=(FloatProgress(value=0.0, max=81.0), HTML(value='')))"
      ]
     },
     "metadata": {},
     "output_type": "display_data"
    },
    {
     "data": {
      "application/vnd.jupyter.widget-view+json": {
       "model_id": "",
       "version_major": 2,
       "version_minor": 0
      },
      "text/plain": [
       "HBox(children=(FloatProgress(value=0.0, max=81.0), HTML(value='')))"
      ]
     },
     "metadata": {},
     "output_type": "display_data"
    },
    {
     "data": {
      "application/vnd.jupyter.widget-view+json": {
       "model_id": "",
       "version_major": 2,
       "version_minor": 0
      },
      "text/plain": [
       "HBox(children=(FloatProgress(value=0.0, max=81.0), HTML(value='')))"
      ]
     },
     "metadata": {},
     "output_type": "display_data"
    },
    {
     "data": {
      "application/vnd.jupyter.widget-view+json": {
       "model_id": "",
       "version_major": 2,
       "version_minor": 0
      },
      "text/plain": [
       "HBox(children=(FloatProgress(value=0.0, max=81.0), HTML(value='')))"
      ]
     },
     "metadata": {},
     "output_type": "display_data"
    },
    {
     "data": {
      "image/png": "[encoded data removed]",
      "text/plain": [
       "<Figure size 432x288 with 2 Axes>"
      ]
     },
     "metadata": {
      "needs_background": "light"
     },
     "output_type": "display_data"
    },
    {
     "data": {
      "image/png": "[encoded data removed]",
      "text/plain": [
       "<Figure size 432x288 with 1 Axes>"
      ]
     },
     "metadata": {
      "needs_background": "light"
     },
     "output_type": "display_data"
    }
   ],
   "source": [
    "gs = 0 #purely dipolar\n",
    "Ds = np.linspace(0,180,81)  ##range of (dimensionless) dipole strength to iterate over\n",
    "gammas = np.linspace(1,17,81) ##range of gamma to iterate over\n",
    "stability_matrix = np.zeros([len(gammas),len(Ds)])\n",
    "\n",
    "p_max = 5000 ## max iteration number\n",
    "for i in tqdm_notebook(range(len(gammas)),leave = False):\n",
    "    gamma = gammas[i]\n",
    "    init_psi = np.exp((-r**2)/2)*np.exp(-gamma*(z(gamma)**2)/2)  ## true ground state for D = 0\n",
    "    #init_psi /= Norm_r_or_rho(init_psi,gamma) \n",
    "    for j in tqdm_notebook(range(len(Ds)),leave=False):\n",
    "        D = Ds[j] ##iterates through different values of D and gamma\n",
    "        #if D == 0: \n",
    "        psi = init_psi\n",
    "        #else:\n",
    "        psi = psi**0.05 ##smoothing\n",
    "        psi /= Norm_r_or_rho(psi,gamma)\n",
    "        ###for the method of not resetting it each time, the change in D has to be smaller, or at\n",
    "        ##least the starting psi should be smoothed in the r direction\n",
    "        \n",
    "        hist_psi = [[0,psi[0:int(N/2),int(Nz/2):int(Nz)]]] ##list of historical psi's\n",
    "        lamda = 4*np.pi*D/3\n",
    "        Udd = 3*(np.nan_to_num(kz(gamma)/k_mag(gamma),posinf=0))**2 - 1\n",
    "        Udd += 3*np.exp(-Zc(gamma)*2*np.pi*rho)*((np.nan_to_num(2*np.pi*rho/k_mag(gamma),posinf=0)**2)*np.cos(Zc(gamma)*kz(gamma))\n",
    "                        -np.nan_to_num(2*np.pi*rho/k_mag(gamma),posinf=0)*np.nan_to_num(kz(gamma)/k_mag(gamma),posinf=0)*np.sin(Zc(gamma)*kz(gamma)))\n",
    "        Udd *= lamda     \n",
    "        E_list = []\n",
    "        isConv=False\n",
    "        p=0\n",
    "        trig = False\n",
    "        dt_ = dt(E_list)\n",
    "        exp_T_ = exp_T(E_list,gamma)\n",
    "        while not isConv and p<p_max: ##loops until convergence or p=p_max\n",
    "            if p%10==0:\n",
    "                E_list.append([E(psi,gamma,gs,Udd)])\n",
    "                exp_T_ = exp_T(E_list,gamma)\n",
    "                if not trig:\n",
    "                    new_dt = dt(E_list)\n",
    "                    trig = (abs(new_dt)<abs(dt_))\n",
    "                    dt_ = new_dt\n",
    "            psi = np.exp(-0.5j*dt_*Vzr(psi,r,gamma,gs,J))*psi\n",
    "            psi = exp_T_*qfht(dct(psi,1,axis=1),J)\n",
    "            psi = idct(iqfht(psi,J),1,axis=1)\n",
    "            psi /= Norm_r_or_rho(psi,gamma)\n",
    "            psi *= np.exp(-0.5j*dt_*Vzr(psi,r,gamma,gs,J))\n",
    "            psi /= Norm_r_or_rho(psi,gamma)\n",
    "            if np.isnan(psi).any() or np.min(E_list)<0 or np.max(E_list)>E_list[0] or (psi[0,Nz-1]/np.max(psi))<0.01:  ##stops the loop early if there is a collapse to nan\n",
    "                isConv=True\n",
    "            \n",
    "            if E_conv(E_list,criteria=1e-8) and not isConv: ###use a stricter criteria\n",
    "                if np.max(E_list[-5:])<E_list[0]:\n",
    "                    if (psi[0,Nz-1]/np.max(psi))<0.01:\n",
    "                        stability_matrix[i][j]=3 ##spike \n",
    "                        isConv=True\n",
    "                    else:\n",
    "                        if (np.abs(psi)[0,Nz-1]==np.max(np.abs(psi))): ##checks where the max is\n",
    "                            stability_matrix[i][j]=2 ##non red blood cell\n",
    "                            isConv=True\n",
    "                    \n",
    "                        else:\n",
    "                            stability_matrix[i][j]=1 ##red blood cell\n",
    "                            isConv=True \n",
    "            \n",
    "\n",
    "            p+=1\n",
    "\n",
    "gammasv = gammas.reshape(-1,1).repeat(len(Ds),1)\n",
    "Dsv = Ds.reshape(1,-1).repeat(len(gammas),0)\n",
    "\n",
    "df = pd.DataFrame(np.rot90(stability_matrix),index = np.max(Ds)-Ds,columns=gammas)\n",
    "sns.heatmap(df)\n",
    "plt.xlabel('$\\gamma$')\n",
    "plt.ylabel('D')\n",
    "plt.show()        \n",
    "\n",
    "fig=plt.figure()\n",
    "ax=plt.axes(projection=\"3d\")\n",
    "ax.plot_surface(gammasv,Dsv,stability_matrix,cmap=\"jet\")\n",
    "\n",
    "plt.xlabel(\"gamma\")\n",
    "plt.ylabel(\"Dipole strength\")\n",
    "ax.set_title(\"Convergence plot\")\n",
    "plt.show()      \n",
    "\n",
    "\n",
    "#####save energy and psi each time"
   ]
  },
  {
   "cell_type": "code",
   "execution_count": 459,
   "metadata": {},
   "outputs": [
    {
     "data": {
      "image/png": "[encoded data removed]",
      "text/plain": [
       "<Figure size 432x288 with 2 Axes>"
      ]
     },
     "metadata": {
      "needs_background": "light"
     },
     "output_type": "display_data"
    },
    {
     "ename": "NameError",
     "evalue": "name 'gammavs' is not defined",
     "output_type": "error",
     "traceback": [
      "\u001b[1;31m---------------------------------------------------------------------------\u001b[0m",
      "\u001b[1;31mNameError\u001b[0m                                 Traceback (most recent call last)",
      "\u001b[1;32m<ipython-input-459-9d5b90cbca3c>\u001b[0m in \u001b[0;36m<module>\u001b[1;34m\u001b[0m\n\u001b[0;32m     10\u001b[0m \u001b[0mfig\u001b[0m\u001b[1;33m=\u001b[0m\u001b[0mplt\u001b[0m\u001b[1;33m.\u001b[0m\u001b[0mfigure\u001b[0m\u001b[1;33m(\u001b[0m\u001b[1;33m)\u001b[0m\u001b[1;33m\u001b[0m\u001b[1;33m\u001b[0m\u001b[0m\n\u001b[0;32m     11\u001b[0m \u001b[0max\u001b[0m\u001b[1;33m=\u001b[0m\u001b[0mplt\u001b[0m\u001b[1;33m.\u001b[0m\u001b[0maxes\u001b[0m\u001b[1;33m(\u001b[0m\u001b[0mprojection\u001b[0m\u001b[1;33m=\u001b[0m\u001b[1;34m\"3d\"\u001b[0m\u001b[1;33m)\u001b[0m\u001b[1;33m\u001b[0m\u001b[1;33m\u001b[0m\u001b[0m\n\u001b[1;32m---> 12\u001b[1;33m \u001b[0max\u001b[0m\u001b[1;33m.\u001b[0m\u001b[0mplot_surface\u001b[0m\u001b[1;33m(\u001b[0m\u001b[0mgammavs\u001b[0m\u001b[1;33m,\u001b[0m\u001b[0mDsv\u001b[0m\u001b[1;33m,\u001b[0m\u001b[0mstability_matrix\u001b[0m\u001b[1;33m,\u001b[0m\u001b[0mcmap\u001b[0m\u001b[1;33m=\u001b[0m\u001b[1;34m\"jet\"\u001b[0m\u001b[1;33m)\u001b[0m\u001b[1;33m\u001b[0m\u001b[1;33m\u001b[0m\u001b[0m\n\u001b[0m\u001b[0;32m     13\u001b[0m \u001b[1;33m\u001b[0m\u001b[0m\n\u001b[0;32m     14\u001b[0m \u001b[0mplt\u001b[0m\u001b[1;33m.\u001b[0m\u001b[0mxlabel\u001b[0m\u001b[1;33m(\u001b[0m\u001b[1;34m\"gamma\"\u001b[0m\u001b[1;33m)\u001b[0m\u001b[1;33m\u001b[0m\u001b[1;33m\u001b[0m\u001b[0m\n",
      "\u001b[1;31mNameError\u001b[0m: name 'gammavs' is not defined"
     ]
    },
    {
     "data": {
      "image/png": "[encoded data removed]",
      "text/plain": [
       "<Figure size 432x288 with 1 Axes>"
      ]
     },
     "metadata": {
      "needs_background": "light"
     },
     "output_type": "display_data"
    }
   ],
   "source": [
    "            "
   ]
  },
  {
   "cell_type": "code",
   "execution_count": null,
   "metadata": {},
   "outputs": [],
   "source": [
    "\n"
   ]
  },
  {
   "cell_type": "code",
   "execution_count": null,
   "metadata": {},
   "outputs": [],
   "source": []
  },
  {
   "cell_type": "code",
   "execution_count": null,
   "metadata": {},
   "outputs": [],
   "source": []
  }
 ],
 "metadata": {
  "kernelspec": {
   "display_name": "Python 3",
   "language": "python",
   "name": "python3"
  },
  "language_info": {
   "codemirror_mode": {
    "name": "ipython",
    "version": 3
   },
   "file_extension": ".py",
   "mimetype": "text/x-python",
   "name": "python",
   "nbconvert_exporter": "python",
   "pygments_lexer": "ipython3",
   "version": "3.7.6"
  }
 },
 "nbformat": 4,
 "nbformat_minor": 4
}
