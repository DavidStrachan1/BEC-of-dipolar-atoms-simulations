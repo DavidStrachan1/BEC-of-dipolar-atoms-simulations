{
 "cells": [
  {
   "cell_type": "code",
   "execution_count": 1,
   "metadata": {},
   "outputs": [
    {
     "data": {
      "text/html": [
       "<style>.container { width:100% !important; }</style>"
      ],
      "text/plain": [
       "<IPython.core.display.HTML object>"
      ]
     },
     "metadata": {},
     "output_type": "display_data"
    }
   ],
   "source": [
    "from IPython.core.display import display, HTML\n",
    "display(HTML(\"<style>.container { width:100% !important; }</style>\"))"
   ]
  },
  {
   "cell_type": "code",
   "execution_count": 5,
   "metadata": {},
   "outputs": [],
   "source": [
    "import math\n",
    "import numpy as np\n",
    "import scipy.constants as sc\n",
    "from scipy.fft import fft,ifft,fftfreq, dct, idct\n",
    "import matplotlib.pyplot as plt\n",
    "from numpy import linalg as LA\n",
    "import warnings\n",
    "warnings.simplefilter('ignore')\n",
    "from tqdm import tqdm_notebook\n",
    "import mpl_toolkits.mplot3d as mplot3d\n",
    "import scipy.special as ss\n",
    "from scipy.integrate import quad, dblquad\n",
    "import plotly.graph_objects as go\n",
    "import pandas as pd\n",
    "import seaborn as sns"
   ]
  },
  {
   "cell_type": "markdown",
   "metadata": {},
   "source": [
    "# 3D split step method using the Hankel transform"
   ]
  },
  {
   "cell_type": "code",
   "execution_count": 42,
   "metadata": {},
   "outputs": [
    {
     "name": "stdout",
     "output_type": "stream",
     "text": [
      "Doing Hankel without Cosine.\n"
     ]
    },
    {
     "data": {
      "application/vnd.jupyter.widget-view+json": {
       "model_id": "",
       "version_major": 2,
       "version_minor": 0
      },
      "text/plain": [
       "HBox(children=(FloatProgress(value=0.0, description='Creating C.', max=241.0, style=ProgressStyle(description_…"
      ]
     },
     "metadata": {},
     "output_type": "display_data"
    },
    {
     "data": {
      "application/vnd.jupyter.widget-view+json": {
       "model_id": "9b6fa6206fa4401c8869b18c79dee488",
       "version_major": 2,
       "version_minor": 0
      },
      "text/plain": [
       "HBox(children=(FloatProgress(value=0.0, description='Iterating over Imaginary Time', max=5000.0, style=Progres…"
      ]
     },
     "metadata": {},
     "output_type": "display_data"
    },
    {
     "data": {
      "image/png": "[encoded data removed]",
      "text/plain": [
       "<Figure size 432x288 with 1 Axes>"
      ]
     },
     "metadata": {
      "needs_background": "light"
     },
     "output_type": "display_data"
    },
    {
     "data": {
      "image/png": "[encoded data removed]",
      "text/plain": [
       "<Figure size 432x288 with 1 Axes>"
      ]
     },
     "metadata": {
      "needs_background": "light"
     },
     "output_type": "display_data"
    }
   ],
   "source": [
    "class Davids_3D_split_method():\n",
    "    def __init__(self,\n",
    "                 N,Nz,\n",
    "                gamma,\n",
    "                b = 25, ##max radius, large to prevent aliasing,\n",
    "                 use_cosine_transform = False,\n",
    "                 quasi_2D = False,\n",
    "                 \n",
    "                 gs = 0, ##dimensionless contact factor\n",
    "                D = 8, ## dimensionless dipole factor\n",
    "\n",
    "                m = 2.7774e-25, ##mass of erbium atom\n",
    "                w=100*np.pi, ##radial frequency\n",
    "                Ao = 5.29*1e-11, #Bohr radius\n",
    "                 \n",
    "                mu =6.98, ##dipole moment of erbium\n",
    "                mu_B =9.2740100783e-24, ##Bohr magneton\n",
    "                 \n",
    "                 No = 4.5*1e4, #number of particles\n",
    "                ):\n",
    "        \n",
    "        for local in locals().copy(): \n",
    "            ## equivalent of writing self.gamma = gamma,self.b = b etc.\n",
    "            ## without having to rewrite it.\n",
    "            exec('self.' + local +  ' = locals()[local]')\n",
    "        \n",
    "        if self.use_cosine_transform + self.quasi_2D > 1: \n",
    "            raise AttributeError('Can only do Quasi or Cosine.')\n",
    "        if self.use_cosine_transform + self.quasi_2D == 0:\n",
    "            print(\"Doing Hankel without Cosine.\")\n",
    "        \n",
    "        self.initialise_variables() \n",
    "        ## variables not dependent on gamma\n",
    "        \n",
    "        self.update_variables_based_on_gamma()\n",
    "        \n",
    "        psi,self.E_list,E_index_list = self.split_step_method_loop()\n",
    "        \n",
    "        self.plot_results_from_split_step_method(psi,self.E_list,E_index_list)\n",
    "    def plot_results_from_split_step_method(self,psi,E_list,E_index_list):\n",
    "        plt.plot(np.asarray(E_index_list),np.asarray(E_list))\n",
    "        plt.xlabel('iteration number')\n",
    "        plt.ylabel('energy')\n",
    "        plt.show()\n",
    "        \n",
    "        fig,ax = plt.subplots()\n",
    "        ax.contour(self.r,self.z,np.abs(psi))\n",
    "        ax.set_title('contour plot of psi')\n",
    "        #ax.set_ylim(0,5/gamma)\n",
    "        #ax.set_xlim(0,b/2)\n",
    "        ax.set_xlabel('r position')\n",
    "        ax.set_ylabel('z position')\n",
    "        plt.show()\n",
    "\n",
    "    def split_step_method_loop(self,N_iterations = 5000):\n",
    "        \n",
    "        self.initialise_psi()\n",
    "        psi = self.psi.copy()\n",
    "        \n",
    "        E_list = []\n",
    "        E_index_list = []\n",
    "        \n",
    "        exp_T = self.initialise_exp_T(E_list,)\n",
    "        self.split_step_method_dt_trig = False\n",
    "        dt = self.dt(E_list)\n",
    "        \n",
    "        for i in tqdm_notebook(range(N_iterations),leave = False,\n",
    "                              desc = 'Iterating over Imaginary Time'):  ##split step loop\n",
    "            \n",
    "            if i%10==0:\n",
    "                E_list.append([self.ENERGY(psi,self.gamma,self.gs,self.J)])\n",
    "                E_index_list.append([i])\n",
    "                \n",
    "                exp_T = self.initialise_exp_T(E_list,)\n",
    "                if not self.split_step_method_dt_trig:\n",
    "                    new_dt = self.dt(E_list)\n",
    "                    self.split_step_method_dt_trig = (abs(new_dt) < abs(dt))\n",
    "                    dt = new_dt\n",
    "                \n",
    "            psi_alt = dt\n",
    "            psi_alt*= -0.5j\n",
    "            psi_alt*= self.V(psi,self.J,self.gs,)\n",
    "            psi = np.exp(psi_alt)*psi ##applies half the potential\n",
    "            psi = exp_T*self.do_forward_transform(dct(psi,1,axis=1),self.J) ## applies kinetic in (cosine) fourier and bessel space\n",
    "            psi = idct(self.do_inverse_transform(psi,self.J),1,axis=1)  ##transforms back to position space\n",
    "            psi /= self.Norm_r(psi)\n",
    "            \n",
    "            \n",
    "            psi *= np.exp(-0.5j*dt*self.V(psi,self.J,self.gs,)) ##applies second half of potential\n",
    "            psi /= self.Norm_r(psi)\n",
    "            \n",
    "            if self.E_conv(E_list,criteria=1e-6) or np.isnan(E_list).any():\n",
    "                break\n",
    "        return psi,E_list,E_index_list\n",
    "\n",
    "    def initialise_psi(self,):\n",
    "        \n",
    "        self.psi = np.exp((-self.r**2)/2)*np.exp(-self.gamma*(self.z**2)/2) ##initial guess\n",
    "        self.psi = self.psi**0.05\n",
    "        self.psi /= self.Norm_r(self.psi)\n",
    "        \n",
    "    \n",
    "    def dt(self,E_list):\n",
    "        \"\"\"The timestep for the split-step loop.\"\"\"\n",
    "        if self.E_conv(E_list,criteria=1e-1):\n",
    "            return -0.01j\n",
    "        return -0.1j\n",
    "\n",
    "    def E_conv(self,E_list,\n",
    "               criteria, ## upper bound for erange\n",
    "              ): \n",
    "        \"\"\"The convergence criteria function for E_list\"\"\"\n",
    "        if np.size(E_list)>5:\n",
    "            e = E_list[-5:]\n",
    "            erange = np.ptp(e) ## np.ptp gives range of e.\n",
    "            erange/=e[-1]\n",
    "            return (erange < criteria)\n",
    "        \n",
    "        return False\n",
    "        \n",
    "        \n",
    "    def update_lamda(self,):\n",
    "        self.lamda = 4*np.pi*self.D/3\n",
    "        \n",
    "    def initialise_variables(self,):\n",
    "        \n",
    "        self.k = int(self.N/4) \n",
    "        ## k is the optimal value for making C orthogonal.\n",
    "                 \n",
    "        self.update_lamda()\n",
    "        \n",
    "        self.alpha=np.pad(ss.jnp_zeros(0,\n",
    "                                       self.N),\n",
    "                            (1,0),\n",
    "                            'constant',\n",
    "                            constant_values=(0)) \n",
    "        # alpha is the zeros of first derivative of zeroth order bessel function \n",
    "        #I add a zero at the start, so there are N+1 points in total\n",
    "        \n",
    "        self.J0 = ss.jn_zeros(0,self.N+2) \n",
    "        #zeros of zeroth order bessel function\n",
    "        \n",
    "        \n",
    "        self.J = np.abs(ss.jv(0,self.alpha))\n",
    "        if not self.quasi_2D:\n",
    "            self.J = self.J.reshape(-1,1)\n",
    "        \n",
    "        self.S = self.get_S() ## hidden this code in separate function\n",
    "        \n",
    "        self.C = self.get_C() ## hidden code in separate function.\n",
    "        \n",
    "        \n",
    "        self.r = (self.alpha*self.b/self.S).reshape(-1,\n",
    "                                    1).repeat(self.Nz,1)    \n",
    "        self.dr = (self.r[self.N,0]-self.r[1,0])/(self.N-1) \n",
    "        self.beta = self.S/(2*np.pi*self.b) ##max rho value\n",
    "        self.rho= (self.alpha*self.beta/self.S).reshape(-1,\n",
    "                                    1).repeat(self.Nz,1) \n",
    "        ##defining 2D arrays\n",
    "        \n",
    "        \n",
    "        \n",
    "        ##equations for dimensionless interaction factors\n",
    "#         self.a = 100*self.Ao ##See Fortran paper, they analyse stability\n",
    "        self.xs = np.sqrt(sc.hbar/(self.m*self.w)) ##length scale\n",
    "\n",
    "    def get_C(self,):\n",
    "        \"\"\"C is orthogonal Bessel Transformation Matrix.\"\"\"\n",
    "        C = np.zeros((self.N+1,self.N+1))\n",
    "        for i in tqdm_notebook(range(self.N+1),leave = False,desc = 'Creating C.'):\n",
    "            for j in range(self.N+1):\n",
    "                C[i,j] = ss.jv(0,self.alpha[i]*self.alpha[j]/self.S)\n",
    "                C[i,j] /= self.S\n",
    "                C[i,j] /=np.abs(ss.jv(0,self.alpha[i]))\n",
    "                C[i,j] /=np.abs(ss.jv(0,self.alpha[j]))\n",
    "                C[i,j] *= 2\n",
    "        return C\n",
    "                \n",
    "                #defining orthogonal transformation matrix    \n",
    "    \n",
    "    def get_S(self,):\n",
    "        \"\"\"S is based on method in report. All variables should already \n",
    "        be defined at this point. ss is short-hand for scipy.special.\"\"\"\n",
    "        S = ss.jv(0,self.alpha[self.k]*self.alpha/self.J0[self.N+1])**2\n",
    "        S /= ss.jv(0,self.alpha)**2\n",
    "        S = np.sqrt(1+sum(S)-S[0])\n",
    "        S /= (np.abs(ss.jv(0,self.alpha[self.k]))/2) ##defining S based on method in report\n",
    "        return S\n",
    "    \n",
    "    def size_z(self,):\n",
    "        out = self.b/np.sqrt(self.gamma)\n",
    "        return out\n",
    "    \n",
    "    def update_variables_based_on_gamma(self,):\n",
    "        \"\"\"This function will be slightly different depending on \n",
    "        use_cosine_transform.\"\"\"\n",
    "        size_Z_gamma = self.size_z()\n",
    "        self.Zc = size_Z_gamma / 2\n",
    "        \"\"\"Z-Cut-off in terms of Gamma.\"\"\"\n",
    "    \n",
    "        self.dz = (2-self.use_cosine_transform) * size_Z_gamma/(self.Nz-1)\n",
    "        ## dz is the grid-resolution in the z-direction\n",
    "        \n",
    "        self.z = np.linspace(-size_Z_gamma,\n",
    "                             (1-self.use_cosine_transform)*size_Z_gamma,\n",
    "                             self.Nz).reshape(1,-1).repeat(self.N+1,0)\n",
    "        ## will have shape N+1 x Nz\n",
    "        \n",
    "        \n",
    "        self.kz = fftfreq((1+self.use_cosine_transform)*self.Nz,\n",
    "                  self.dz/(2*np.pi))\n",
    "        if self.use_cosine_transform:\n",
    "            self.kz = self.kz[:self.Nz]\n",
    "        self.kz = self.kz.reshape(1,-1).repeat(self.N+1,0)\n",
    "        ## will also have shape N+1 x Nz\n",
    "        ## Kz is frequency of z (for cosine)\n",
    "        \n",
    "        self.eps = 1/self.gamma\n",
    "        self.wz =self.gamma*self.w\n",
    "        \n",
    "        self.k_mag = np.sqrt(self.kz**2 + (2*np.pi*self.rho)**2)\n",
    "        ## kmag is total magnitude of k vector.\n",
    "        \n",
    "        self.update_UDD()\n",
    "        \n",
    "        \n",
    "        \n",
    "    \n",
    "    def initialise_exp_T(self,E_list):\n",
    "        T = 0.5*self.k_mag**2\n",
    "        return np.exp((-1j*self.dt(E_list)*T)) ## this is exp_T\n",
    "    \n",
    "    def do_forward_transform(self,psi,J):\n",
    "        \"\"\"Hankel Transform\"\"\"\n",
    "        out = psi*self.b/J  #changes variables\n",
    "        out = np.matmul(self.C,out) #applies transformation matrix \n",
    "        out *= J/self.beta \n",
    "        return out\n",
    "    def do_inverse_transform(self,psi,J):\n",
    "        \"\"\" Inverse-Hankel Transform\"\"\"\n",
    "        out = psi.copy()\n",
    "        out *= J/self.beta\n",
    "        out = np.matmul(self.C,out) #applies transformation matrix  \n",
    "        out /= (self.b/J)  #changes variables\n",
    "        return out\n",
    "    \n",
    "    def Norm_r(self,psi): \n",
    "\n",
    "        ##space is either r or rho, Normalisation function\n",
    "        out = 2*np.pi\n",
    "        out*=np.sum(np.abs(psi[1,:])**2)\n",
    "        out*=self.dz\n",
    "        out*=self.r[1,0]*self.r[1,0] ##first r term has slightly different dr\n",
    "        out/=2 \n",
    "        ####################################\n",
    "        next_term = 2*np.pi\n",
    "        next_term*=np.sum(self.r[2:,:]*np.abs(psi[2:,:])**2)\n",
    "        next_term*=self.dr ##rest of normalisation using average dr\n",
    "        next_term*=self.dz\n",
    "        ##############################\n",
    "        out += next_term\n",
    "        out *=2 \n",
    "        ## actual normalisation is for both positive and negative z\n",
    "        out = np.sqrt(out)\n",
    "        return out\n",
    "        \n",
    "    def calc_dd_cont_cyl(self,psi,Udd,J,pre_calculated_psi_squared = None):\n",
    "        if pre_calculated_psi_squared is None:\n",
    "            psi_squared = np.abs(psi)**2\n",
    "        else:\n",
    "            psi_squared = pre_calculated_psi_squared\n",
    "            \n",
    "        out = dct(psi_squared,1,axis=1)\n",
    "        out = self.do_forward_transform(out,J)\n",
    "        out*=Udd\n",
    "        out = self.do_inverse_transform(out,J)\n",
    "        return idct(out,1,axis=1)\n",
    "        \n",
    "    def ENERGY(self,psi_zr,gamma,gs,J):\n",
    "        \"\"\"idct is the descrete inverse fourier cosine transform by scipy.\n",
    "        dcd is the discrete fourier by scipy.\n",
    "        \"\"\"\n",
    "        psi_alt = dct(psi_zr,axis=1)\n",
    "        psi_alt = self.do_forward_transform(psi_alt,J)\n",
    "        psi_alt = psi_alt*(-1j*self.k_mag)\n",
    "        psi_alt = self.do_inverse_transform(psi_alt,J)\n",
    "        psi_alt = idct(psi_alt,axis = 1)\n",
    "        \n",
    "        \n",
    "        integrand = 0.5*np.abs(psi_alt)**2 \n",
    "        \n",
    "        V_trap = 0.5*(self.r**2 + (self.gamma*self.z)**2)\n",
    "        \n",
    "        psi_zr_squared = np.abs(psi_zr)**2 \n",
    "        \n",
    "        integrand += V_trap*psi_zr_squared\n",
    "        integrand += (gs/2)*psi_zr_squared**2\n",
    "        \n",
    "        dd_cont_cyl = self.calc_dd_cont_cyl(psi_zr,self.Udd,J,\n",
    "                              pre_calculated_psi_squared = psi_zr_squared) ## separate function\n",
    "        \n",
    "        \n",
    "        \n",
    "        integrand += 0.5 *dd_cont_cyl*psi_zr_squared\n",
    "        \n",
    "        ###########################################\n",
    "        \n",
    "        energy = 2*np.pi\n",
    "        energy *= np.sum(integrand[1,:])\n",
    "        energy *= self.dz\n",
    "        energy *= self.r[1,0]*self.r[1,0]/2 ##first r term has slightly different dr\n",
    "        energy += 2*np.pi*np.sum(self.r[2:,:]*integrand[2:,:])*self.dr*self.dz ##rest of normalisation using average dr\n",
    "        energy *= 2\n",
    "        return energy.real\n",
    "    \n",
    "    def V(self,psi,J,gs):##potential function, includes interactions\n",
    "        out = 0.5*(self.r**2 + (self.gamma*self.z)**2)\n",
    "        out+= (gs*np.abs(psi)**2) \n",
    "        dd_cont_cyl = self.calc_dd_cont_cyl(psi,self.Udd,J,) ## separate function\n",
    "        out+=dd_cont_cyl\n",
    "        return out\n",
    "    def update_UDD(self):\n",
    "        self.Udd = 3*(np.nan_to_num(self.kz/self.k_mag,posinf=0))**2 \n",
    "        self.Udd*=3\n",
    "        self.Udd-=1\n",
    "        \n",
    "        next_term = self.Zc*2*np.pi*self.rho\n",
    "        next_term = np.exp(-next_term)\n",
    "        next_term *=np.cos(self.Zc*self.kz)\n",
    "        next_term *= np.nan_to_num(2*np.pi*self.rho/self.k_mag,posinf=0)**2\n",
    "        \n",
    "        self.Udd += next_term\n",
    "        self.Udd *= self.lamda##z cut off dipole term\n",
    "        \n",
    "    def chem(self,gamma,gs,a,m,xs,g):\n",
    "        \"\"\"Standalone function executed in a local-scope only. (ignore self. variables)\"\"\"\n",
    "        No = gs*xs/(4*np.pi*a) #number of particles\n",
    "        chem = (15*g*No/(8*np.pi))\n",
    "        chem *= w*w*w*gamma*((m/2)**1.5)\n",
    "        chem = chem**(2/5)\n",
    "        return chem      \n",
    "    \n",
    "b = 30\n",
    "method = Davids_3D_split_method(N =8*b,b = b,Nz = 4*b + 1,gamma = 1,D = 0)"
   ]
  },
  {
   "cell_type": "code",
   "execution_count": 48,
   "metadata": {},
   "outputs": [
    {
     "data": {
      "text/plain": [
       "(-0-0.01j)"
      ]
     },
     "execution_count": 48,
     "metadata": {},
     "output_type": "execute_result"
    }
   ],
   "source": [
    "method.dt(method.E_list,)"
   ]
  },
  {
   "cell_type": "code",
   "execution_count": 126,
   "metadata": {
    "scrolled": false
   },
   "outputs": [
    {
     "name": "stdout",
     "output_type": "stream",
     "text": [
      "[]\n"
     ]
    }
   ],
   "source": [
    "def func():\n",
    "    print([local for local in locals()])\n",
    "func()"
   ]
  },
  {
   "cell_type": "code",
   "execution_count": null,
   "metadata": {},
   "outputs": [],
   "source": [
    "globals()"
   ]
  },
  {
   "cell_type": "code",
   "execution_count": 69,
   "metadata": {},
   "outputs": [
    {
     "data": {
      "application/vnd.jupyter.widget-view+json": {
       "model_id": "",
       "version_major": 2,
       "version_minor": 0
      },
      "text/plain": [
       "HBox(children=(FloatProgress(value=0.0, max=201.0), HTML(value='')))"
      ]
     },
     "metadata": {},
     "output_type": "display_data"
    }
   ],
   "source": [
    "box =20\n",
    "b = 25 ##max radius, large to prevent aliasing\n",
    "def size_z(gamma): ##max z value\n",
    "    if box:\n",
    "        out = b/(np.sqrt(gamma*box))\n",
    "    else:\n",
    "        out = b/np.sqrt(gamma)\n",
    "    return out\n",
    "N = 200#8*b ## number of points (actually one less than)\n",
    "##one paper only uses N=32, quote \"generally, convergence will depend\n",
    "#on the parameters of the problem, but in most cases this grid already achieves\n",
    "#convergence to very high accuracy\"\n",
    "##this paper is S. Ronen, D.C.E. Bortolotti, and J.L. Bohn, Phys. Rev. A 74, 013623 (2006)\n",
    "Nz = int((N+1)/2) +1 ##due to smaller range of z (b/gamma) we may be able to use a lower number of z values\n",
    "def E_conv(E_list,criteria,window=10): \n",
    "        if np.size(E_list)>window:\n",
    "            std = np.std(E_list[-window:])\n",
    "            mean = np.mean(E_list[-window:])\n",
    "            return (std/mean)<criteria\n",
    "        return False    \n",
    "    \n",
    "\n",
    "\n",
    "\n",
    "\n",
    "def dt(E_list):\n",
    "    #i = E_list\n",
    "    if E_conv(E_list,criteria=1e-1):\n",
    "        return -0.02j\n",
    "    return -0.1j\n",
    "\n",
    "    \n",
    "    \n",
    "    #if E_conv(E_list,criteria=1e-1):\n",
    "    #    return -0.01j\n",
    "    #return -0.1j\n",
    "\n",
    "def Zc(gamma): ##dipole cut off in z direction\n",
    "    return size_z(gamma)/2\n",
    "\n",
    "k = int(N/4) ## needed for Hankel transform \n",
    "alpha=np.pad(ss.jnp_zeros(0,N),(1,0),'constant',constant_values=(0)) # zeros of first derivative of zeroth order bessel function \n",
    "##I add a zero at the start, so there are N+1 points in total\n",
    "J0 = ss.jn_zeros(0,N+2) #zeros of zeroth order bessel function\n",
    "S = ss.jv(0,alpha[k]*alpha/J0[N+1])**2\n",
    "S /= ss.jv(0,alpha)**2\n",
    "S = np.sqrt(1+sum(S)-S[0])\n",
    "S /= np.abs(ss.jv(0,alpha[k]))/2 ##defining S based on method in report\n",
    "C = np.zeros((N+1,N+1))\n",
    "for i in tqdm_notebook(range(N+1),leave = False):\n",
    "    for j in range(N+1):\n",
    "        C[i,j] = ss.jv(0,alpha[i]*alpha[j]/S)\n",
    "        C[i,j] /= S*np.abs(ss.jv(0,alpha[i]))*np.abs(ss.jv(0,alpha[j]))/2\n",
    "##defining orthogonal transformation matrix    \n",
    "\n",
    "def dz(gamma):\n",
    "    return 2*size_z(gamma)/(Nz-1)\n",
    "def z(gamma):\n",
    "    return np.linspace(-size_z(gamma),size_z(gamma),Nz).reshape(1,-1).repeat(N+1,0)\n",
    "def kz(gamma):\n",
    "    return fftfreq(Nz,dz(gamma)/(2*np.pi)).reshape(1,-1).repeat(N+1,0)\n",
    "def exp_T(E_list,gamma):\n",
    "    T = 0.5*k_mag(gamma)**2\n",
    "    return np.exp((-1j*dt(E_list)*T))\n",
    "def k_mag(gamma):\n",
    "    return np.sqrt(kz(gamma)**2+(2*np.pi*rho)**2)\n",
    "    \n",
    "r = (alpha*b/S).reshape(-1,1).repeat(Nz,1)\n",
    "beta = S/(2*np.pi*b) ##max rho\n",
    "rho= (alpha*beta/S).reshape(-1,1).repeat(Nz,1)\n",
    "\n",
    "def F(f,J):\n",
    "    out = f*b/J\n",
    "    return out\n",
    "def G(g,J):\n",
    "    out = g*beta/J\n",
    "    return out\n",
    "def Finv(f,J):\n",
    "    out = f*J/b\n",
    "    return out\n",
    "def Ginv(g,J):\n",
    "    out = g*J/beta ##these make transform more clean\n",
    "    return out\n",
    "def qfht(psi,J):\n",
    "    out = F(psi,J) #changes variables\n",
    "    out = np.matmul(C,out)#applies transformation matrix \n",
    "    out = Ginv(out,J)\n",
    "    return out\n",
    "def iqfht(psi,J):\n",
    "    out = G(psi,J)\n",
    "    out = np.matmul(C,out)\n",
    "    out = Finv(out,J)\n",
    "    return out\n",
    "\n",
    "\n",
    "########## Nz_uni = 2*Nz\n",
    "########## def dz_uni(gamma):\n",
    "##########     return 2*size_z(gamma)/Nz_uni\n",
    "########## def z_uni(gamma):\n",
    "##########     return np.linspace(-size_z(gamma),size_z(gamma),Nz_uni).reshape(1,-1).repeat(N+1,0)\n",
    "\n",
    "########### # def uniform_interp(psi):\n",
    "########### #     psi_uni = np.zeros((N,Nz_uni))\n",
    "########### #     for i in tqdm_notebook(range(N),leave = False):\n",
    "########### #         psi_uni[i,:] = np.interp(z_uni(gamma)[0,:],z(gamma)[0,:],psi[i,:])\n",
    "########### #     return psi_uni\n",
    "\n",
    "N_uni = N\n",
    "dr_uni = b/N_uni\n",
    "r_uni = np.linspace(dr_uni/2,b-dr_uni/2,N_uni).reshape(-1,1).repeat(Nz,1) ###takes mid points \n",
    "def uniform_interp(psi):\n",
    "    psi_uni = np.zeros((N_uni,Nz))\n",
    "    for i in range(Nz):\n",
    "        psi_uni[:,i] = np.interp(r_uni[:,0],r[:,0],psi[:,i])\n",
    "    return psi_uni\n",
    "## really slows down loop, doesn't increase accuracy too much\n",
    "\n",
    "# def Norm_r_or_rho(psi,gamma): ##space is either r or rho, normalisation function\n",
    "#     psi = uniform_interp(psi)\n",
    "#     out = 2*np.pi*np.sum(r_uni*np.abs(psi)**2)*dr_uni*dz(gamma) ##rest of normalisation using average dr\n",
    "#     out = np.sqrt(out) ###need to take points in the middle\n",
    "#     ##apart from first dr\n",
    "#     return out\n",
    "dr = (r[N,0]-r[1,0])/(N-1) \n",
    "def Norm_r_or_rho(psi,gamma): ##space is either r or rho, Normalisation function\n",
    "    out = 2*np.pi*np.sum(np.abs(psi[1,:])**2)*dz(gamma)*r[1,0]*r[1,0]/2 ##first r term has slightly different dr\n",
    "    out += 2*np.pi*np.sum(r[2:,:]*np.abs(psi[2:,:])**2)*dr*dz(gamma) ##rest of normalisation using average dr\n",
    "    out = np.sqrt(out)\n",
    "    ##apart from first dr\n",
    "    return out\n",
    "\n",
    "def E(psi_zr,gamma,gs,Udd):\n",
    "    integrand = 0.5*np.abs(ifft(iqfht(-1j*k_mag(gamma)*qfht(fft(psi_zr,axis=1),J),J),axis=1))**2 \\\n",
    "    + V_trap(gamma)*np.abs(psi_zr)**2 + (gs/2)*np.abs(psi_zr)**4 + (1/2)*dd_cont_cyl(psi_zr,Udd,J)*np.abs(psi_zr)**2\n",
    "    #integrand = uniform_interp(integrand)\n",
    "    #energy = 2*np.pi*np.sum(integrand*r_uni)*dr_uni*dz(gamma)\n",
    "    energy = 2*np.pi*np.sum(integrand[1,:])*dz(gamma)*r[1,0]*r[1,0]/2 ##first r term has slightly different dr\n",
    "    energy += 2*np.pi*np.sum(r[2:,:]*integrand[2:,:])*dr*dz(gamma) ##rest of normalisation using average dr\n",
    "    \n",
    "    return energy.real\n",
    "\n",
    "def dd_cont_cyl(psi_zr,Udd,J):\n",
    "    return ifft(iqfht(Udd*qfht(fft(np.abs(psi_zr)**2,axis=1),J),J),axis=1) ## Convolution of dipole term\n",
    "    \n",
    "def V_trap(gamma):\n",
    "    return (r/box)**20 + 0.5*(gamma*z(gamma))**2#0.5*(r**2 + (gamma*z(gamma))**2)\n",
    "def Vzr(psi,r,gamma,gs,J): ##potential function, including interaction terms\n",
    "    return V_trap(gamma) +(gs*np.abs(psi)**2) +dd_cont_cyl(psi_zr,Udd,J)\n",
    "\n",
    "def chem(gamma,gs,a,m,xs,g): ##chemical potential in Thomas-Fermi limit\n",
    "    No = gs*xs/(4*np.pi*a) #number of particles\n",
    "    chem = (15*g*No/(8*np.pi))\n",
    "    chem *= w*w*w*gamma*((m/2)**1.5)\n",
    "    chem = chem**(2/5)\n",
    "    return chem  \n",
    "\n",
    "#####\n",
    "##all physical quantities, mainly book keeping before going into dimensionless variables\n",
    "##values needed for functions\n",
    "m = 2.7774e-25 ##mass of erbium atom\n",
    "w=100*np.pi ##radial frequency\n",
    "Ao = 5.29*1e-11 #Bohr radius\n",
    "a = 100*Ao ##See Fortran paper, they analyse stability by varying a\n",
    "g = 4*np.pi*(sc.hbar**2)*a/m ##for book keeping\n",
    "\n",
    "##purely book keeping\n",
    "mu =6.98 ##dipole moment of erbium\n",
    "mu_B =9.2740100783e-24 ##Bohr magneton\n",
    "Cdd = 0#sc.mu_0*(mu*mu_B)**2 \n",
    "#######\n",
    "\n",
    "##equations for dimensionless interaction factors\n",
    "xs = np.sqrt(sc.hbar/(m*w)) ##length scale\n",
    "No = 0#4.5*1e4 #number of particles\n",
    "gs = 4*np.pi*a*No/xs#  g in dimensionless units\n",
    "D = (m*No*Cdd)/(4*np.pi*(sc.hbar**2)*xs) "
   ]
  },
  {
   "cell_type": "code",
   "execution_count": 67,
   "metadata": {},
   "outputs": [
    {
     "data": {
      "text/plain": [
       "3.0148467667636036"
      ]
     },
     "execution_count": 67,
     "metadata": {},
     "output_type": "execute_result"
    }
   ],
   "source": [
    "J = np.abs(ss.jv(0,alpha)).reshape(-1,1)\n",
    "gamma = 4\n",
    "gnd_state = np.exp((-r**2)/2)*np.exp((-gamma*(z(gamma))**2)/2)\n",
    "gnd_state /= Norm_r_or_rho(gnd_state,gamma)\n",
    "E(gnd_state,4,0,0)\n"
   ]
  },
  {
   "cell_type": "code",
   "execution_count": 32,
   "metadata": {},
   "outputs": [
    {
     "data": {
      "text/plain": [
       "6.034746772804623"
      ]
     },
     "execution_count": 32,
     "metadata": {},
     "output_type": "execute_result"
    }
   ],
   "source": [
    "gamma = 10\n",
    "gnd_state = np.exp((-r**2)/2)*np.exp((-gamma*(z(gamma))**2)/2)\n",
    "gnd_state /= Norm_r_or_rho(gnd_state,gamma)\n",
    "E(gnd_state,10,0,0)\n"
   ]
  },
  {
   "cell_type": "code",
   "execution_count": 54,
   "metadata": {},
   "outputs": [
    {
     "data": {
      "text/plain": [
       "array([0.00280882])"
      ]
     },
     "execution_count": 54,
     "metadata": {},
     "output_type": "execute_result"
    }
   ],
   "source": [
    "e = E_list[-10:]\n",
    "erange = np.ptp(e)\n",
    "erange/=e[-1]\n",
    "erange"
   ]
  },
  {
   "cell_type": "markdown",
   "metadata": {},
   "source": [
    "# Finding Ground State"
   ]
  },
  {
   "cell_type": "code",
   "execution_count": 70,
   "metadata": {},
   "outputs": [
    {
     "data": {
      "application/vnd.jupyter.widget-view+json": {
       "model_id": "28f78742f5744084a5e76fba283aa55e",
       "version_major": 2,
       "version_minor": 0
      },
      "text/plain": [
       "HBox(children=(FloatProgress(value=0.0, max=10000.0), HTML(value='')))"
      ]
     },
     "metadata": {},
     "output_type": "display_data"
    },
    {
     "name": "stdout",
     "output_type": "stream",
     "text": [
      "converged\n"
     ]
    },
    {
     "data": {
      "image/png": "[encoded data removed]",
      "text/plain": [
       "<Figure size 432x288 with 1 Axes>"
      ]
     },
     "metadata": {
      "needs_background": "light"
     },
     "output_type": "display_data"
    },
    {
     "data": {
      "image/png": "[encoded data removed]",
      "text/plain": [
       "<Figure size 432x288 with 1 Axes>"
      ]
     },
     "metadata": {
      "needs_background": "light"
     },
     "output_type": "display_data"
    },
    {
     "data": {
      "image/png": "[encoded data removed]",
      "text/plain": [
       "<Figure size 432x288 with 1 Axes>"
      ]
     },
     "metadata": {
      "needs_background": "light"
     },
     "output_type": "display_data"
    },
    {
     "data": {
      "image/png": "[encoded data removed]",
      "text/plain": [
       "<Figure size 432x288 with 1 Axes>"
      ]
     },
     "metadata": {
      "needs_background": "light"
     },
     "output_type": "display_data"
    },
    {
     "data": {
      "image/png": "[encoded data removed]",
      "text/plain": [
       "<Figure size 432x288 with 1 Axes>"
      ]
     },
     "metadata": {
      "needs_background": "light"
     },
     "output_type": "display_data"
    },
    {
     "data": {
      "image/png": "[encoded data removed]",
      "text/plain": [
       "<Figure size 432x288 with 1 Axes>"
      ]
     },
     "metadata": {
      "needs_background": "light"
     },
     "output_type": "display_data"
    },
    {
     "data": {
      "image/png": "[encoded data removed]",
      "text/plain": [
       "<Figure size 432x288 with 1 Axes>"
      ]
     },
     "metadata": {
      "needs_background": "light"
     },
     "output_type": "display_data"
    }
   ],
   "source": [
    "U = 0 \n",
    "J = np.abs(ss.jv(0,alpha)).reshape(-1,1)\n",
    "\n",
    "#overriding parameters\n",
    "gs = 0#dimensionless contact factor\n",
    "D = 0##dimensionless dipolar factor\n",
    "gamma = 7##ratio of axial frequency to radial frequency\n",
    "eps = 1/gamma\n",
    "wz = gamma*w\n",
    "\n",
    "# k_mag = np.sqrt(kz(gamma)**2+(2*np.pi*rho)**2)\n",
    "# T = 0.5*k_mag**2\n",
    "\n",
    "\n",
    "lamda = 4*np.pi*D/3\n",
    "Udd = 3*(np.nan_to_num(kz(gamma)/k_mag(gamma),posinf=0))**2 - 1\n",
    "Udd += np.exp(-Zc(gamma)*2*np.pi*rho)*((np.nan_to_num(2*np.pi*rho/k_mag(gamma),posinf=0)**2)*np.cos(Zc(gamma)*kz(gamma))\n",
    "                        -np.nan_to_num(2*np.pi*rho/k_mag(gamma),posinf=0)*np.nan_to_num(kz(gamma)/k_mag(gamma),posinf=0)*np.sin(Zc(gamma)*kz(gamma)))\n",
    "Udd*= lamda    ##z cutoff \n",
    "\n",
    "\n",
    "\n",
    "psi_zr = np.exp((-r**2)/2)*np.exp((-gamma*(z(gamma))**2)/2)\n",
    "psi_zr = psi_zr**0.05\n",
    "psi_zr /= Norm_r_or_rho(psi_zr,gamma)\n",
    "# psi_zr = np.exp((-gamma*(z(gamma)**2)/2))\n",
    "# psi_zr *= ss.jv(0,J0[0]*r/box)*(np.abs(r)<box)\n",
    "# #psi = psi**0.1 ##smoothing\n",
    "# psi_zr /= Norm_r_or_rho(psi_zr,gamma)##normalisatin\n",
    "\n",
    "\n",
    "\n",
    "E_list = []\n",
    "E_index_list = []\n",
    "trig = False\n",
    "# for i in tqdm_notebook(range(1000),leave = False): ##split step loop\n",
    "#     if i%10==0:\n",
    "#         E_list.append([E(psi_zr,gamma,gs,Udd)])\n",
    "#         E_index_list.append([i])\n",
    "#     psi_zr = np.exp(-0.5j*dt(j)*Vzr(psi_zr,r,gamma,gs,J))*psi_zr ##applies half the potential\n",
    "#     psi_zr = exp_T(j,gamma)*qfht(fft(psi_zr,axis=1),J) ##applies kinetic in k space\n",
    "#     psi_zr = ifft(iqfht(psi_zr,J),axis=1) ##transforms back to position space\n",
    "#     psi_zr /= Norm_r_or_rho(psi_zr,gamma) ##normalising, needs to be right normalisation for psi dependent V\n",
    "#     psi_zr *= np.exp(-0.5j*dt(j)*Vzr(psi_zr,r,gamma,gs,J)) ##applies second half of potential\n",
    "#     psi_zr /= Norm_r_or_rho(psi_zr,gamma) ##normalises\n",
    "#     if np.isnan(E_list).any():\n",
    "#         break\n",
    "#     if E_conv(E_list,criteria=1e-1):\n",
    "#         j = True\n",
    "#         if i%50==0:\n",
    "#             E_list.append([E(psi_zr,gamma,gs,Udd)])\n",
    "#             E_index_list.append([i])\n",
    "#         psi_zr = np.exp(-0.5j*dt(j)*Vzr(psi_zr,r,gamma,gs,J))*psi_zr ##applies half the potential\n",
    "#         psi_zr = exp_T(j,gamma)*qfht(fft(psi_zr,axis=1),J) ##applies kinetic in k space\n",
    "#         psi_zr = ifft(iqfht(psi_zr,J),axis=1) ##transforms back to position space\n",
    "#         psi_zr /= Norm_r_or_rho(psi_zr,gamma) ##normalising, needs to be right normalisation for psi dependent V\n",
    "#         psi_zr *= np.exp(-0.5j*dt(j)*Vzr(psi_zr,r,gamma,gs,J)) ##applies second half of potential\n",
    "#         psi_zr /= Norm_r_or_rho(psi_zr,gamma) ##normalises\n",
    "#         if E_conv(E_list,criteria=1e-7):\n",
    "#             print('converged')\n",
    "#             break\n",
    "#         if np.isnan(psi_zr).any() or np.min(E_list)<0:\n",
    "#             print('not converged')\n",
    "#             break\n",
    "trig = False\n",
    "dt_ = dt(E_list)\n",
    "exp_T_ = exp_T(E_list,gamma)\n",
    "for i in tqdm_notebook(range(10000),leave = False): ##loops until convergence or p=p_max\n",
    "    if i%10==0:\n",
    "        E_list.append([E(psi_zr,gamma,gs,Udd)])\n",
    "        E_index_list.append([i])\n",
    "        exp_T_ = exp_T(E_list,gamma)\n",
    "        if not trig:\n",
    "            new_dt = dt(E_list)\n",
    "            trig = (abs(new_dt)<abs(dt_))\n",
    "            dt_ = new_dt\n",
    "            \n",
    "    psi_zr = np.exp(-0.5j*dt_*Vzr(psi_zr,r,gamma,gs,J))*psi_zr\n",
    "    psi_zr = exp_T_*qfht(fft(psi_zr,axis=1),J)\n",
    "    psi_zr = ifft(iqfht(psi_zr,J),axis=1) ## was doing them separately before\n",
    "    psi_zr /= Norm_r_or_rho(psi_zr,gamma)\n",
    "    psi_zr *= np.exp(-0.5j*dt_*Vzr(psi_zr,r,gamma,gs,J))\n",
    "    psi_zr /= Norm_r_or_rho(psi_zr,gamma)\n",
    "    if np.isnan(psi_zr).any() or np.min(E_list)<0: #or (psi_zr[0,Nz-1]/np.max(psi_zr))<0.01: ##stops the loop early if there is a collapse to nan\n",
    "        print('not converged')\n",
    "        break\n",
    "    if E_conv(E_list,criteria=1e-7): \n",
    "        print('converged')\n",
    "        break\n",
    "            \n",
    "        \n",
    "\n",
    "    \n",
    "    \n",
    "\n",
    "##full harmonic\n",
    "gnd_state = np.exp((-r**2)/2)*np.exp((-gamma*(z(gamma))**2)/2)\n",
    "gnd_state /= Norm_r_or_rho(gnd_state,gamma) ##ground state with no interactions\n",
    "diff_zr = np.abs(psi_zr)-np.abs(gnd_state) ## defines a difference array\n",
    "\n",
    "\n",
    "R = (8*lamda/(np.pi*np.sqrt(2*np.pi*eps)))**0.25 ##Thomas fermi radius for purely dipolar case\n",
    "R_validity = lamda/(2*np.pi*np.sqrt(gamma**3))  ## valid when R_validity <<1\n",
    "##both from quasi 2D/1D paper, notation\n",
    "##is confusing, compare to rigorous paper\n",
    "#This R is the thomas fermi radius for quasi 2D with no contact term\n",
    "Rr = np.sqrt((2*chem(gamma,gs,a,m,xs,g))/(m*w*w))\n",
    "Rz = np.sqrt((2*chem(gamma,gs,a,m,xs,g))/(m*wz*wz))\n",
    "Rr = Rr/xs\n",
    "Rz =Rz/xs\n",
    "TF_contact = np.nan_to_num(np.sqrt(1-(r/Rr)**2 - (z(gamma)/Rz)**2))\n",
    "TF_contact /= Norm_r_or_rho(TF_contact,gamma)\n",
    "TF_quasi = np.nan_to_num(np.sqrt(1-(r/R)**2))*np.exp((-gamma*(z(gamma))**2)/2) ##thomas fermi\n",
    "TF_quasi /= Norm_r_or_rho(TF_quasi,gamma) ##normalisation\n",
    "\n",
    "fig=plt.figure()\n",
    "ax = plt.axes(projection='3d')\n",
    "\n",
    "midway_index_z = int(Nz/2)\n",
    "z_cutoff =1\n",
    "r_cutoff = 1\n",
    "bools =(np.abs(r) <= r_cutoff)*(np.abs(z(gamma)) <=z_cutoff)\n",
    "n_1 = np.sum(bools[:,midway_index_z]) ## number of r coords with value less than r_cutoff\n",
    "n_2 = np.sum(bools[0,:]) ## number of z coords with value less than z_cutoff\n",
    "z_coord_i = int(midway_index_z-n_2/2)\n",
    "z_coord_f = int(midway_index_z+n_2/2)\n",
    "#ax.plot_surface(r[0:n_1,z_coord_i:z_coord_f],z(gamma)[0:n_1,z_coord_i:z_coord_f],np.abs(psi_zr)[0:n_1,z_coord_i:z_coord_f],cmap='jet')\n",
    "ax.plot_surface(r,z(gamma),np.abs(psi_zr))\n",
    "ax.set_title('Psi')\n",
    "ax.set_xlabel('r position')\n",
    "ax.set_ylabel('z position')\n",
    "ax.set_zlabel('psi')\n",
    "plt.show()\n",
    "\n",
    "\n",
    "ax = plt.axes(projection='3d')\n",
    "ax.plot_surface(r[0:n_1,z_coord_i:z_coord_f],z(gamma)[0:n_1,z_coord_i:z_coord_f],gnd_state[0:n_1,z_coord_i:z_coord_f],cmap='jet')\n",
    "ax.set_title('Ground state with no interactions')\n",
    "ax.set_xlabel('r position')\n",
    "ax.set_ylabel('z position')\n",
    "ax.set_zlabel('psi')\n",
    "plt.show()\n",
    "\n",
    "midway_index_z = int(Nz/2)\n",
    "plt.plot(r[:,0],np.abs(psi_zr[:,midway_index_z]),label=\"numerical solution, z=0\")\n",
    "#plt.plot(r[:,0],gnd_state[:,midway_index_z],label=\"true solution, z=0\")\n",
    "#plt.plot(r[:,0],TF_contact[:,midway_index_z], label = \"Thomas Fermi, z=1\")\n",
    "#plt.plot(r[:,0],TF_quasi[:,midway_index_z], label = \"Thomas Fermi, z=0\")\n",
    "plt.title('psi in z=0 plane')\n",
    "#plt.xlim(0,r_cutoff)\n",
    "plt.legend()\n",
    "plt.xlabel('r position')\n",
    "plt.ylabel('psi')\n",
    "plt.show()        \n",
    "\n",
    "plt.plot(z(gamma)[0,:],np.abs(psi_zr[0,:]),label=\"numerical solution, r=0\")\n",
    "#plt.plot(z(gamma)[0,:],np.abs(gnd_state[0,:]),label = \"ground state, r=0\")\n",
    "plt.title('psi in z direction, r=0')\n",
    "#plt.xlim(0,r_cutoff)\n",
    "plt.legend()\n",
    "plt.xlabel(' z position')\n",
    "plt.ylabel('psi')\n",
    "plt.show()  \n",
    "\n",
    "plt.plot(r[:,0],100*diff_zr[:,midway_index_z]/np.max(psi_zr),label=\"diff in r direction, z=0\")\n",
    "plt.plot(z(gamma)[0,:],100*diff_zr[0,:]/np.max(psi_zr),label=\"diff in z direction, r=0\")\n",
    "plt.title('diff/% of psi for r=0 and z=0 to ground state with no interactions')\n",
    "plt.xlabel('r,z')\n",
    "plt.ylabel('difference in % of max psi\"')\n",
    "plt.legend()\n",
    "plt.show()  \n",
    "\n",
    "plt.plot(np.asarray(E_index_list),np.asarray(E_list))\n",
    "plt.xlabel('iteration number')\n",
    "plt.ylabel('energy')\n",
    "plt.show()\n",
    "\n",
    "\n",
    "fig,ax = plt.subplots()\n",
    "ax.contour(r,z(gamma),np.abs(psi_zr))\n",
    "ax.set_title('contour plot of psi')\n",
    "#ax.set_ylim(-1,1)\n",
    "#ax.set_xlim(0,box)\n",
    "ax.set_xlabel('r position')\n",
    "ax.set_ylabel('z position')\n",
    "ax.set_xlim([0,r_cutoff])\n",
    "ax.set_ylim([-z_cutoff,z_cutoff])\n",
    "plt.show()"
   ]
  },
  {
   "cell_type": "markdown",
   "metadata": {},
   "source": [
    "# Stability code"
   ]
  },
  {
   "cell_type": "code",
   "execution_count": 64,
   "metadata": {},
   "outputs": [
    {
     "name": "stdout",
     "output_type": "stream",
     "text": [
      "True\n"
     ]
    },
    {
     "data": {
      "text/plain": [
       "[[24.13477337299158],\n",
       " [4.223416226601685],\n",
       " [4.012321448291971],\n",
       " [3.915861792464236],\n",
       " [3.8629727952744113],\n",
       " [3.8347899221099926],\n",
       " [3.8213724264615214],\n",
       " [3.8157828955121236],\n",
       " [3.813705533431406],\n",
       " [3.8129878387991485],\n",
       " [3.8127459550193716],\n",
       " [3.8065407036596244],\n",
       " [3.806123204088013],\n",
       " [3.8060781957842282],\n",
       " [3.8060631701450385],\n",
       " [3.806052680329136],\n",
       " [3.8060438771235012],\n",
       " [3.806036181249483],\n",
       " [3.8060293836150034],\n",
       " [3.8060233627543156],\n",
       " [3.8060180258131187],\n",
       " [3.8060132939553157],\n",
       " [3.8060090980750347],\n",
       " [3.806005377062557],\n",
       " [3.8060020767624647],\n",
       " [3.8059991491656953],\n",
       " [3.8059965517175387],\n",
       " [3.8059942467070123],\n",
       " [3.8059922007238502],\n",
       " [3.8059903841748355],\n",
       " [3.8059887708531],\n",
       " [3.8059873375547624],\n",
       " [3.8059860637379606],\n",
       " [3.8059849312197316],\n",
       " [3.8059839239067697],\n",
       " [3.805983027556336],\n",
       " [3.8059822295641075],\n",
       " [3.8059815187759902],\n",
       " [3.8059808853212886],\n",
       " [3.8059803204648452],\n",
       " [3.8059798164760474],\n",
       " [3.805979366512835],\n",
       " [3.8059789645190127],\n",
       " [3.8059786051333497],\n",
       " [3.8059782836091713],\n",
       " [3.8059779957432194],\n",
       " [3.805977737812729],\n",
       " [3.8059775065198105],\n",
       " [3.80597729894225],\n",
       " [3.805977112490041],\n",
       " [3.8059769448669596],\n",
       " [3.8059767940365883],\n",
       " [3.8059766581923222],\n",
       " [3.8059765357308373],\n",
       " [3.805976425228658],\n",
       " [3.8059763254214602],\n",
       " [3.805976235185767],\n",
       " [3.8059761535227876],\n",
       " [3.805976079544135],\n",
       " [3.8059760124591975],\n",
       " [3.8059759515639926],\n",
       " [3.805975896231299],\n",
       " [3.8059758459019464],\n",
       " [3.8059758000771073],\n",
       " [3.8059757583115017],\n",
       " [3.805975720207343],\n",
       " [3.8059756854090434],\n",
       " [3.8059756535984697],\n",
       " [3.8059756244908067],\n",
       " [3.805975597830833],\n",
       " [3.8059755733896727],\n",
       " [3.8059755509618958],\n",
       " [3.8059755303629568],\n",
       " [3.8059755114269143],\n",
       " [3.8059754940044344],\n",
       " [3.8059754779609776],\n",
       " [3.8059754631752476],\n",
       " [3.8059754495377542],\n",
       " [3.8059754369495815],\n",
       " [3.8059754253212774],\n",
       " [3.8059754145718623],\n",
       " [3.805975404627948],\n",
       " [3.805975395422975],\n",
       " [3.8059753868964963],\n",
       " [3.8059753789935655],\n",
       " [3.8059753716641995],\n",
       " [3.805975364862858],\n",
       " [3.8059753585480287],\n",
       " [3.805975352681822],\n",
       " [3.8059753472296256],\n",
       " [3.8059753421597864],\n",
       " [3.805975337443327],\n",
       " [3.805975333053699],\n",
       " [3.8059753289665594],\n",
       " [3.8059753251595523],\n",
       " [3.805975321612151],\n",
       " [3.805975318305469],\n",
       " [3.8059753152221267],\n",
       " [3.8059753123461175],\n",
       " [3.8059753096626787],\n",
       " [3.8059753071581945],\n",
       " [3.8059753048200977],\n",
       " [3.8059753026367655],\n",
       " [3.8059753005974484],\n",
       " [3.8059752986922217],\n",
       " [3.805975296911871],\n",
       " [3.8059752952478676],\n",
       " [3.805975293692312],\n",
       " [3.8059752922378616],\n",
       " [3.8059752908777136],\n",
       " [3.8059752896055477],\n",
       " [3.805975288415485],\n",
       " [3.8059752873020676],\n",
       " [3.80597528626022],\n",
       " [3.8059752852852107],\n",
       " [3.8059752843726438],\n",
       " [3.805975283518426],\n",
       " [3.8059752827187348],\n",
       " [3.8059752819700186],\n",
       " [3.8059752812689585],\n",
       " [3.805975280612465],\n",
       " [3.805975279997652],\n",
       " [3.805975279421827],\n",
       " [3.8059752788824786],\n",
       " [3.805975278377264],\n",
       " [3.805975277903988],\n",
       " [3.805975277460603],\n",
       " [3.8059752770452002],\n",
       " [3.8059752766559924],\n",
       " [3.805975276291308],\n",
       " [3.8059752759495855],\n",
       " [3.8059752756293648],\n",
       " [3.8059752753292795],\n",
       " [3.8059752750480556],\n",
       " [3.805975274784494],\n",
       " [3.805975274537475],\n",
       " [3.8059752743059625],\n",
       " [3.8059752740889663],\n",
       " [3.805975273885573],\n",
       " [3.8059752736949273],\n",
       " [3.8059752735162236],\n",
       " [3.80597527334871],\n",
       " [3.805975273191681],\n",
       " [3.805975273044479],\n",
       " [3.8059752729064877],\n",
       " [3.8059752727771246],\n",
       " [3.8059752726558527],\n",
       " [3.8059752725421587],\n",
       " [3.805975272435572],\n",
       " [3.8059752723356457],\n",
       " [3.8059752722419598],\n",
       " [3.8059752721541282],\n",
       " [3.8059752720717803],\n",
       " [3.8059752719945723],\n",
       " [3.8059752719221858],\n",
       " [3.805975271854316],\n",
       " [3.805975271790684],\n",
       " [3.805975271731022],\n",
       " [3.80597527167508],\n",
       " [3.805975271622631],\n",
       " [3.805975271573453],\n",
       " [3.8059752715273416],\n",
       " [3.805975271484109],\n",
       " [3.805975271443568],\n",
       " [3.80597527140556],\n",
       " [3.8059752713699195],\n",
       " [3.805975271336503],\n",
       " [3.8059752713051656],\n",
       " [3.805975271275784],\n",
       " [3.8059752712482333],\n",
       " [3.8059752712224015],\n",
       " [3.80597527119818],\n",
       " [3.8059752711754635],\n",
       " [3.8059752711541686],\n",
       " [3.805975271134198],\n",
       " [3.8059752711154746],\n",
       " [3.8059752710979136],\n",
       " [3.8059752710814485],\n",
       " [3.8059752710660097],\n",
       " [3.8059752710515338],\n",
       " [3.805975271037959],\n",
       " [3.80597527102523],\n",
       " [3.8059752710132955],\n",
       " [3.805975271002103],\n",
       " [3.805975270991608],\n",
       " [3.8059752709817687],\n",
       " [3.805975270972538],\n",
       " [3.8059752709638857],\n",
       " [3.805975270955772],\n",
       " [3.805975270948163],\n",
       " [3.8059752709410284],\n",
       " [3.8059752709343373],\n",
       " [3.805975270928064],\n",
       " [3.805975270922182],\n",
       " [3.805975270916667],\n",
       " [3.8059752709114942],\n",
       " [3.805975270906642],\n",
       " [3.805975270902094],\n",
       " [3.8059752708978296],\n",
       " [3.805975270893828],\n",
       " [3.8059752708900816],\n",
       " [3.8059752708865635],\n",
       " [3.8059752708832657],\n",
       " [3.805975270880172],\n",
       " [3.8059752708772723],\n",
       " [3.8059752708745553],\n",
       " [3.805975270872004],\n",
       " [3.8059752708696135],\n",
       " [3.8059752708673726],\n",
       " [3.8059752708652717],\n",
       " [3.8059752708632995],\n",
       " [3.8059752708614503],\n",
       " [3.8059752708597174],\n",
       " [3.805975270858091],\n",
       " [3.8059752708565684],\n",
       " [3.8059752708551393],\n",
       " [3.8059752708537964],\n",
       " [3.8059752708525423],\n",
       " [3.8059752708513623],\n",
       " [3.805975270850258],\n",
       " [3.805975270849221],\n",
       " [3.8059752708482493],\n",
       " [3.805975270847339],\n",
       " [3.805975270846483],\n",
       " [3.805975270845683],\n",
       " [3.80597527084493],\n",
       " [3.8059752708442267],\n",
       " [3.805975270843566],\n",
       " [3.8059752708429473],\n",
       " [3.805975270842365],\n",
       " [3.8059752708418215],\n",
       " [3.8059752708413086],\n",
       " [3.8059752708408316],\n",
       " [3.80597527084038],\n",
       " [3.8059752708399603],\n",
       " [3.8059752708395647],\n",
       " [3.805975270839196],\n",
       " [3.805975270838849],\n",
       " [3.8059752708385215],\n",
       " [3.805975270838217],\n",
       " [3.805975270837929],\n",
       " [3.805975270837662],\n",
       " [3.805975270837411],\n",
       " [3.8059752708371737],\n",
       " [3.805975270836952],\n",
       " [3.8059752708367434],\n",
       " [3.805975270836549],\n",
       " [3.8059752708363663],\n",
       " [3.8059752708361967],\n",
       " [3.805975270836037],\n",
       " [3.8059752708358863],\n",
       " [3.805975270835745],\n",
       " [3.8059752708356105],\n",
       " [3.805975270835486],\n",
       " [3.8059752708353702],\n",
       " [3.8059752708352623],\n",
       " [3.8059752708351593],\n",
       " [3.8059752708350647],\n",
       " [3.8059752708349737],\n",
       " [3.80597527083489],\n",
       " [3.805975270834809],\n",
       " [3.805975270834736],\n",
       " [3.8059752708346672],\n",
       " [3.8059752708346015],\n",
       " [3.80597527083454],\n",
       " [3.8059752708344834],\n",
       " [3.8059752708344288],\n",
       " [3.805975270834377],\n",
       " [3.805975270834331],\n",
       " [3.8059752708342875],\n",
       " [3.8059752708342454],\n",
       " [3.8059752708342054],\n",
       " [3.80597527083417],\n",
       " [3.8059752708341357],\n",
       " [3.805975270834103],\n",
       " [3.805975270834073],\n",
       " [3.805975270834044],\n",
       " [3.805975270834018],\n",
       " [3.8059752708339927],\n",
       " [3.8059752708339687],\n",
       " [3.8059752708339483],\n",
       " [3.805975270833928],\n",
       " [3.805975270833908],\n",
       " [3.80597527083389],\n",
       " [3.805975270833874],\n",
       " [3.805975270833857],\n",
       " [3.8059752708338426],\n",
       " [3.805975270833826],\n",
       " [3.8059752708338173],\n",
       " [3.805975270833804],\n",
       " [3.8059752708337915],\n",
       " [3.8059752708337804],\n",
       " [3.805975270833771],\n",
       " [3.8059752708337617],\n",
       " [3.8059752708337538],\n",
       " [3.8059752708337435],\n",
       " [3.8059752708337355],\n",
       " [3.8059752708337298],\n",
       " [3.8059752708337222],\n",
       " [3.8059752708337156],\n",
       " [3.8059752708337085],\n",
       " [3.8059752708337045],\n",
       " [3.8059752708336974],\n",
       " [3.8059752708336942],\n",
       " [3.805975270833687],\n",
       " [3.805975270833684],\n",
       " [3.805975270833679],\n",
       " [3.805975270833675],\n",
       " [3.805975270833673],\n",
       " [3.80597527083367],\n",
       " [3.805975270833665],\n",
       " [3.805975270833663],\n",
       " [3.80597527083366],\n",
       " [3.8059752708336583],\n",
       " [3.8059752708336556],\n",
       " [3.8059752708336543],\n",
       " [3.805975270833648],\n",
       " [3.8059752708336494],\n",
       " [3.805975270833647],\n",
       " [3.805975270833646],\n",
       " [3.8059752708336436],\n",
       " [3.805975270833643],\n",
       " [3.80597527083364],\n",
       " [3.805975270833639],\n",
       " [3.805975270833637],\n",
       " [3.8059752708336374],\n",
       " [3.805975270833636],\n",
       " [3.805975270833636],\n",
       " [3.805975270833633],\n",
       " [3.8059752708336325],\n",
       " [3.8059752708336307],\n",
       " [3.805975270833632],\n",
       " [3.8059752708336303],\n",
       " [3.80597527083363],\n",
       " [3.8059752708336276],\n",
       " [3.8059752708336294],\n",
       " [3.8059752708336285],\n",
       " [3.805975270833628],\n",
       " [3.805975270833627],\n",
       " [3.8059752708336263],\n",
       " [3.8059752708336263],\n",
       " [3.8059752708336254],\n",
       " [3.805975270833624],\n",
       " [3.805975270833624],\n",
       " [3.805975270833624],\n",
       " [3.8059752708336236],\n",
       " [3.805975270833622],\n",
       " [3.805975270833622],\n",
       " [3.8059752708336236],\n",
       " [3.805975270833622],\n",
       " [3.805975270833623],\n",
       " [3.8059752708336214],\n",
       " [3.805975270833622],\n",
       " [3.805975270833622],\n",
       " [3.8059752708336223],\n",
       " [3.805975270833621],\n",
       " [3.8059752708336214],\n",
       " [3.8059752708336223],\n",
       " [3.8059752708336214],\n",
       " [3.805975270833621],\n",
       " [3.8059752708336214],\n",
       " [3.8059752708336196],\n",
       " [3.8059752708336205],\n",
       " [3.8059752708336214],\n",
       " [3.805975270833621],\n",
       " [3.8059752708336196],\n",
       " [3.8059752708336196],\n",
       " [3.8059752708336196],\n",
       " [3.805975270833619],\n",
       " [3.8059752708336214],\n",
       " [3.805975270833621],\n",
       " [3.80597527083362],\n",
       " [3.805975270833619],\n",
       " [3.8059752708336188],\n",
       " [3.80597527083362],\n",
       " [3.8059752708336188],\n",
       " [3.805975270833619],\n",
       " [3.8059752708336188],\n",
       " [3.8059752708336188],\n",
       " [3.8059752708336188],\n",
       " [3.80597527083362],\n",
       " [3.8059752708336188],\n",
       " [3.80597527083362],\n",
       " [3.8059752708336188],\n",
       " [3.8059752708336188],\n",
       " [3.805975270833619],\n",
       " [3.8059752708336188],\n",
       " [3.80597527083362],\n",
       " [3.8059752708336188],\n",
       " [3.8059752708336183],\n",
       " [3.805975270833619],\n",
       " [3.8059752708336188],\n",
       " [3.80597527083362],\n",
       " [3.8059752708336188],\n",
       " [3.8059752708336205],\n",
       " [3.805975270833619],\n",
       " [3.8059752708336188],\n",
       " [3.805975270833619],\n",
       " [3.805975270833619],\n",
       " [3.805975270833619],\n",
       " [3.8059752708336188],\n",
       " [3.8059752708336174],\n",
       " [3.805975270833621],\n",
       " [3.80597527083362],\n",
       " [3.805975270833621],\n",
       " [3.80597527083362],\n",
       " [3.80597527083362],\n",
       " [3.805975270833619],\n",
       " [3.80597527083362],\n",
       " [3.8059752708336183],\n",
       " [3.8059752708336205],\n",
       " [3.8059752708336188],\n",
       " [3.8059752708336205],\n",
       " [3.80597527083362],\n",
       " [3.80597527083362],\n",
       " [3.8059752708336205],\n",
       " [3.8059752708336188],\n",
       " [3.805975270833621],\n",
       " [3.8059752708336174],\n",
       " [3.80597527083362],\n",
       " [3.8059752708336188],\n",
       " [3.80597527083362],\n",
       " [3.805975270833621],\n",
       " [3.805975270833619],\n",
       " [3.80597527083362],\n",
       " [3.80597527083362],\n",
       " [3.8059752708336188],\n",
       " [3.805975270833619],\n",
       " [3.8059752708336188],\n",
       " [3.8059752708336188],\n",
       " [3.8059752708336205],\n",
       " [3.80597527083362],\n",
       " [3.8059752708336174],\n",
       " [3.805975270833619],\n",
       " [3.8059752708336188],\n",
       " [3.805975270833619],\n",
       " [3.8059752708336188],\n",
       " [3.8059752708336183],\n",
       " [3.8059752708336188],\n",
       " [3.80597527083362],\n",
       " [3.80597527083362],\n",
       " [3.8059752708336183],\n",
       " [3.80597527083362],\n",
       " [3.80597527083362],\n",
       " [3.80597527083362],\n",
       " [3.8059752708336183],\n",
       " [3.80597527083362],\n",
       " [3.8059752708336188],\n",
       " [3.8059752708336188],\n",
       " [3.805975270833619],\n",
       " [3.8059752708336183],\n",
       " [3.805975270833619],\n",
       " [3.8059752708336188],\n",
       " [3.8059752708336188],\n",
       " [3.805975270833619],\n",
       " [3.80597527083362],\n",
       " [3.8059752708336188],\n",
       " [3.8059752708336188],\n",
       " [3.805975270833619],\n",
       " [3.80597527083362],\n",
       " [3.8059752708336205],\n",
       " [3.805975270833619],\n",
       " [3.80597527083362],\n",
       " [3.8059752708336205],\n",
       " [3.8059752708336188],\n",
       " [3.80597527083362],\n",
       " [3.8059752708336183],\n",
       " [3.80597527083362],\n",
       " [3.8059752708336205],\n",
       " [3.80597527083362],\n",
       " [3.8059752708336188],\n",
       " [3.8059752708336205],\n",
       " [3.805975270833619],\n",
       " [3.805975270833621],\n",
       " [3.80597527083362],\n",
       " [3.80597527083362],\n",
       " [3.80597527083362],\n",
       " [3.8059752708336188],\n",
       " [3.805975270833619],\n",
       " [3.8059752708336205],\n",
       " [3.80597527083362],\n",
       " [3.8059752708336188],\n",
       " [3.8059752708336174],\n",
       " [3.8059752708336183],\n",
       " [3.8059752708336188],\n",
       " [3.80597527083362],\n",
       " [3.805975270833619],\n",
       " [3.8059752708336183],\n",
       " [3.805975270833619],\n",
       " [3.8059752708336188],\n",
       " [3.8059752708336188],\n",
       " [3.8059752708336188],\n",
       " [3.8059752708336183],\n",
       " [3.8059752708336183],\n",
       " [3.8059752708336183],\n",
       " [3.805975270833619],\n",
       " [3.8059752708336188],\n",
       " [3.8059752708336188],\n",
       " [3.8059752708336188],\n",
       " [3.80597527083362],\n",
       " [3.8059752708336183],\n",
       " [3.8059752708336188],\n",
       " [3.8059752708336188],\n",
       " [3.8059752708336188],\n",
       " [3.805975270833619],\n",
       " [3.8059752708336183],\n",
       " [3.8059752708336188],\n",
       " [3.8059752708336188],\n",
       " [3.80597527083362],\n",
       " [3.8059752708336188],\n",
       " [3.80597527083362],\n",
       " [3.80597527083362],\n",
       " [3.8059752708336188],\n",
       " [3.8059752708336183],\n",
       " [3.8059752708336183],\n",
       " [3.805975270833619],\n",
       " [3.8059752708336183],\n",
       " [3.8059752708336188],\n",
       " [3.8059752708336188],\n",
       " [3.80597527083362],\n",
       " [3.8059752708336188],\n",
       " [3.805975270833621],\n",
       " [3.8059752708336188],\n",
       " [3.8059752708336188],\n",
       " [3.8059752708336205],\n",
       " [3.8059752708336183],\n",
       " [3.8059752708336188],\n",
       " [3.8059752708336188],\n",
       " [3.8059752708336188],\n",
       " [3.80597527083362],\n",
       " [3.8059752708336188],\n",
       " [3.8059752708336188],\n",
       " [3.80597527083362],\n",
       " [3.80597527083362],\n",
       " [3.8059752708336188],\n",
       " [3.8059752708336188],\n",
       " [3.805975270833619],\n",
       " [3.805975270833619],\n",
       " [3.8059752708336188],\n",
       " [3.8059752708336188],\n",
       " [3.8059752708336188],\n",
       " [3.8059752708336188],\n",
       " [3.8059752708336188],\n",
       " [3.8059752708336188],\n",
       " [3.8059752708336183],\n",
       " [3.805975270833619],\n",
       " [3.80597527083362],\n",
       " [3.80597527083362],\n",
       " [3.8059752708336188],\n",
       " [3.8059752708336188],\n",
       " [3.8059752708336188],\n",
       " [3.8059752708336188],\n",
       " [3.8059752708336183],\n",
       " [3.8059752708336188],\n",
       " [3.8059752708336183],\n",
       " [3.8059752708336188],\n",
       " [3.8059752708336174],\n",
       " [3.8059752708336188],\n",
       " [3.8059752708336188],\n",
       " [3.8059752708336183],\n",
       " [3.8059752708336174],\n",
       " [3.8059752708336188],\n",
       " [3.8059752708336183],\n",
       " [3.805975270833617],\n",
       " [3.8059752708336188],\n",
       " [3.8059752708336188],\n",
       " [3.8059752708336188],\n",
       " [3.8059752708336183],\n",
       " [3.8059752708336188],\n",
       " [3.8059752708336188],\n",
       " [3.805975270833619],\n",
       " [3.80597527083362],\n",
       " [3.80597527083362],\n",
       " [3.80597527083362],\n",
       " [3.805975270833619],\n",
       " [3.805975270833619],\n",
       " [3.80597527083362],\n",
       " [3.805975270833619],\n",
       " [3.80597527083362],\n",
       " [3.805975270833619],\n",
       " [3.8059752708336188],\n",
       " [3.8059752708336188],\n",
       " [3.8059752708336188],\n",
       " [3.80597527083362],\n",
       " [3.8059752708336188],\n",
       " [3.8059752708336183],\n",
       " [3.8059752708336188],\n",
       " [3.8059752708336188],\n",
       " [3.8059752708336183],\n",
       " [3.80597527083362],\n",
       " [3.8059752708336188],\n",
       " [3.80597527083362],\n",
       " [3.8059752708336188],\n",
       " [3.8059752708336188],\n",
       " [3.80597527083362],\n",
       " [3.8059752708336188],\n",
       " [3.8059752708336188],\n",
       " [3.805975270833619],\n",
       " [3.8059752708336188],\n",
       " [3.8059752708336188],\n",
       " [3.8059752708336188],\n",
       " [3.8059752708336188],\n",
       " [3.8059752708336188],\n",
       " [3.8059752708336188],\n",
       " [3.8059752708336188],\n",
       " [3.8059752708336188],\n",
       " [3.8059752708336188],\n",
       " [3.805975270833619],\n",
       " [3.8059752708336188],\n",
       " [3.8059752708336188],\n",
       " [3.805975270833619],\n",
       " [3.805975270833619],\n",
       " [3.805975270833619],\n",
       " [3.80597527083362],\n",
       " [3.8059752708336188],\n",
       " [3.8059752708336188],\n",
       " [3.805975270833619],\n",
       " [3.8059752708336183],\n",
       " [3.8059752708336188],\n",
       " [3.80597527083362],\n",
       " [3.8059752708336188],\n",
       " [3.805975270833619],\n",
       " [3.80597527083362],\n",
       " [3.80597527083362],\n",
       " [3.8059752708336188],\n",
       " [3.8059752708336188],\n",
       " [3.80597527083362],\n",
       " [3.8059752708336188],\n",
       " [3.8059752708336183],\n",
       " [3.805975270833619],\n",
       " [3.8059752708336188],\n",
       " [3.8059752708336188],\n",
       " [3.805975270833619],\n",
       " [3.8059752708336183],\n",
       " [3.805975270833619],\n",
       " [3.8059752708336174],\n",
       " [3.80597527083362],\n",
       " [3.8059752708336188],\n",
       " [3.805975270833619],\n",
       " [3.80597527083362],\n",
       " [3.8059752708336188],\n",
       " [3.80597527083362],\n",
       " [3.805975270833619],\n",
       " [3.8059752708336188],\n",
       " [3.80597527083362],\n",
       " [3.8059752708336188],\n",
       " [3.8059752708336188],\n",
       " [3.8059752708336188],\n",
       " [3.8059752708336183],\n",
       " [3.8059752708336188],\n",
       " [3.8059752708336205],\n",
       " [3.805975270833619],\n",
       " [3.805975270833619],\n",
       " [3.80597527083362],\n",
       " [3.80597527083362],\n",
       " [3.805975270833619],\n",
       " [3.8059752708336205],\n",
       " [3.80597527083362],\n",
       " [3.8059752708336188],\n",
       " [3.80597527083362],\n",
       " [3.805975270833621],\n",
       " [3.8059752708336188],\n",
       " [3.8059752708336205],\n",
       " [3.8059752708336188],\n",
       " [3.805975270833619],\n",
       " [3.8059752708336183],\n",
       " [3.8059752708336183],\n",
       " [3.8059752708336188],\n",
       " [3.8059752708336188],\n",
       " [3.8059752708336188],\n",
       " [3.8059752708336188],\n",
       " [3.8059752708336183],\n",
       " [3.8059752708336188],\n",
       " [3.8059752708336188],\n",
       " [3.8059752708336183],\n",
       " [3.80597527083362],\n",
       " [3.8059752708336188],\n",
       " [3.805975270833619],\n",
       " [3.8059752708336188],\n",
       " [3.805975270833619],\n",
       " [3.8059752708336188],\n",
       " [3.80597527083362],\n",
       " [3.805975270833619],\n",
       " [3.80597527083362],\n",
       " [3.80597527083362],\n",
       " [3.8059752708336188],\n",
       " [3.8059752708336183],\n",
       " [3.8059752708336188],\n",
       " [3.8059752708336188],\n",
       " [3.8059752708336183],\n",
       " [3.805975270833619],\n",
       " [3.80597527083362],\n",
       " [3.8059752708336205],\n",
       " [3.8059752708336188],\n",
       " [3.80597527083362],\n",
       " [3.8059752708336183],\n",
       " [3.80597527083362],\n",
       " [3.80597527083362],\n",
       " [3.8059752708336188],\n",
       " [3.8059752708336188],\n",
       " [3.8059752708336188],\n",
       " [3.8059752708336188],\n",
       " [3.8059752708336188],\n",
       " [3.8059752708336188],\n",
       " [3.80597527083362],\n",
       " [3.80597527083362],\n",
       " [3.8059752708336183],\n",
       " [3.80597527083362],\n",
       " [3.8059752708336188],\n",
       " [3.8059752708336188],\n",
       " [3.8059752708336188],\n",
       " [3.8059752708336188],\n",
       " [3.80597527083362],\n",
       " [3.805975270833619],\n",
       " [3.80597527083362],\n",
       " [3.80597527083362],\n",
       " [3.8059752708336188],\n",
       " [3.805975270833619],\n",
       " [3.8059752708336205],\n",
       " [3.8059752708336188],\n",
       " [3.8059752708336188],\n",
       " [3.805975270833619],\n",
       " [3.8059752708336188],\n",
       " [3.8059752708336188],\n",
       " [3.80597527083362],\n",
       " [3.8059752708336188],\n",
       " [3.80597527083362],\n",
       " [3.8059752708336188],\n",
       " [3.8059752708336188],\n",
       " [3.8059752708336188],\n",
       " [3.8059752708336183],\n",
       " [3.8059752708336183],\n",
       " [3.80597527083362],\n",
       " [3.8059752708336205],\n",
       " [3.8059752708336188],\n",
       " [3.80597527083362],\n",
       " [3.80597527083362],\n",
       " [3.8059752708336188],\n",
       " [3.8059752708336188],\n",
       " [3.805975270833619],\n",
       " [3.8059752708336183],\n",
       " [3.8059752708336205],\n",
       " [3.805975270833619],\n",
       " [3.8059752708336188],\n",
       " [3.8059752708336188],\n",
       " [3.8059752708336188],\n",
       " [3.8059752708336188],\n",
       " [3.805975270833621],\n",
       " [3.8059752708336205],\n",
       " [3.8059752708336188],\n",
       " [3.8059752708336188],\n",
       " [3.805975270833619],\n",
       " [3.8059752708336188],\n",
       " [3.8059752708336183],\n",
       " [3.8059752708336188],\n",
       " [3.8059752708336188],\n",
       " [3.805975270833619],\n",
       " [3.80597527083362],\n",
       " [3.805975270833619],\n",
       " [3.8059752708336183],\n",
       " [3.8059752708336188],\n",
       " [3.8059752708336188],\n",
       " [3.8059752708336188],\n",
       " [3.8059752708336188],\n",
       " [3.8059752708336188],\n",
       " [3.8059752708336183],\n",
       " [3.8059752708336188],\n",
       " [3.8059752708336188],\n",
       " [3.80597527083362],\n",
       " [3.80597527083362],\n",
       " [3.8059752708336183],\n",
       " [3.80597527083362],\n",
       " [3.8059752708336183],\n",
       " [3.8059752708336183],\n",
       " [3.8059752708336188],\n",
       " [3.805975270833619],\n",
       " [3.805975270833619],\n",
       " [3.805975270833619],\n",
       " [3.805975270833619],\n",
       " [3.8059752708336183],\n",
       " [3.8059752708336188],\n",
       " [3.805975270833619],\n",
       " [3.8059752708336205],\n",
       " [3.8059752708336188],\n",
       " [3.8059752708336188],\n",
       " [3.8059752708336188],\n",
       " [3.805975270833619],\n",
       " [3.805975270833619],\n",
       " [3.8059752708336188],\n",
       " [3.805975270833619],\n",
       " [3.8059752708336188],\n",
       " [3.8059752708336188],\n",
       " [3.8059752708336183],\n",
       " [3.8059752708336205],\n",
       " [3.80597527083362],\n",
       " [3.8059752708336188],\n",
       " [3.8059752708336188],\n",
       " [3.8059752708336188],\n",
       " [3.8059752708336188],\n",
       " [3.8059752708336188],\n",
       " [3.8059752708336188],\n",
       " [3.8059752708336183],\n",
       " [3.805975270833619],\n",
       " [3.8059752708336188],\n",
       " [3.8059752708336188],\n",
       " [3.80597527083362],\n",
       " [3.80597527083362],\n",
       " [3.8059752708336183],\n",
       " [3.805975270833619],\n",
       " [3.8059752708336205],\n",
       " [3.8059752708336205],\n",
       " [3.805975270833619],\n",
       " [3.8059752708336188],\n",
       " [3.805975270833619],\n",
       " [3.8059752708336188],\n",
       " [3.8059752708336188],\n",
       " [3.80597527083362],\n",
       " [3.8059752708336183],\n",
       " [3.805975270833619],\n",
       " [3.805975270833619],\n",
       " [3.8059752708336188],\n",
       " [3.8059752708336174],\n",
       " [3.805975270833619],\n",
       " [3.805975270833619],\n",
       " [3.805975270833619],\n",
       " [3.8059752708336188],\n",
       " [3.805975270833619],\n",
       " [3.8059752708336174],\n",
       " [3.8059752708336183],\n",
       " [3.8059752708336183],\n",
       " [3.8059752708336188],\n",
       " [3.8059752708336188],\n",
       " [3.8059752708336188],\n",
       " [3.8059752708336188],\n",
       " [3.8059752708336183],\n",
       " [3.805975270833619],\n",
       " [3.805975270833619],\n",
       " [3.805975270833619],\n",
       " [3.8059752708336188],\n",
       " [3.8059752708336188],\n",
       " [3.8059752708336188],\n",
       " [3.8059752708336188],\n",
       " [3.80597527083362],\n",
       " [3.805975270833619],\n",
       " [3.8059752708336188],\n",
       " [3.8059752708336174],\n",
       " [3.8059752708336188],\n",
       " [3.80597527083362],\n",
       " [3.8059752708336188],\n",
       " [3.80597527083362],\n",
       " [3.80597527083362],\n",
       " [3.8059752708336188],\n",
       " [3.8059752708336183],\n",
       " [3.8059752708336188],\n",
       " [3.805975270833617],\n",
       " [3.8059752708336188],\n",
       " [3.8059752708336188],\n",
       " [3.805975270833619],\n",
       " [3.80597527083362],\n",
       " [3.8059752708336183],\n",
       " [3.8059752708336183],\n",
       " [3.8059752708336183],\n",
       " [3.8059752708336188],\n",
       " [3.805975270833619],\n",
       " [3.8059752708336188],\n",
       " [3.80597527083362],\n",
       " [3.8059752708336188],\n",
       " [3.80597527083362],\n",
       " [3.8059752708336188],\n",
       " [3.8059752708336174],\n",
       " [3.80597527083362],\n",
       " [3.80597527083362],\n",
       " [3.805975270833619],\n",
       " [3.8059752708336188],\n",
       " [3.8059752708336188],\n",
       " [3.8059752708336188],\n",
       " [3.80597527083362],\n",
       " [3.8059752708336188],\n",
       " [3.8059752708336188],\n",
       " [3.8059752708336188],\n",
       " [3.8059752708336188],\n",
       " [3.80597527083362],\n",
       " [3.8059752708336188],\n",
       " [3.8059752708336205],\n",
       " [3.805975270833619],\n",
       " [3.805975270833619],\n",
       " [3.805975270833619],\n",
       " [3.8059752708336183],\n",
       " [3.8059752708336188],\n",
       " [3.8059752708336188],\n",
       " [3.8059752708336188],\n",
       " [3.80597527083362],\n",
       " [3.80597527083362],\n",
       " [3.8059752708336183],\n",
       " [3.805975270833619],\n",
       " [3.80597527083362],\n",
       " [3.805975270833619],\n",
       " [3.8059752708336188],\n",
       " [3.8059752708336188],\n",
       " [3.80597527083362],\n",
       " [3.8059752708336188],\n",
       " [3.8059752708336188],\n",
       " [3.8059752708336188],\n",
       " [3.8059752708336188],\n",
       " [3.8059752708336188],\n",
       " [3.8059752708336183],\n",
       " [3.80597527083362],\n",
       " [3.805975270833619],\n",
       " [3.80597527083362],\n",
       " [3.8059752708336188],\n",
       " [3.8059752708336183],\n",
       " [3.8059752708336183],\n",
       " [3.80597527083362],\n",
       " [3.8059752708336188],\n",
       " [3.8059752708336188],\n",
       " [3.805975270833619],\n",
       " [3.8059752708336188],\n",
       " [3.8059752708336188],\n",
       " [3.8059752708336188],\n",
       " [3.8059752708336188],\n",
       " [3.805975270833619],\n",
       " [3.8059752708336188],\n",
       " [3.805975270833619],\n",
       " [3.8059752708336188],\n",
       " [3.805975270833619],\n",
       " [3.8059752708336188],\n",
       " [3.8059752708336188],\n",
       " [3.805975270833619],\n",
       " [3.8059752708336188],\n",
       " [3.8059752708336188],\n",
       " [3.8059752708336183],\n",
       " [3.80597527083362],\n",
       " [3.8059752708336183],\n",
       " [3.8059752708336188],\n",
       " [3.8059752708336188],\n",
       " [3.8059752708336188],\n",
       " [3.80597527083362],\n",
       " [3.805975270833619],\n",
       " [3.8059752708336183],\n",
       " [3.8059752708336188],\n",
       " [3.8059752708336188],\n",
       " [3.8059752708336188],\n",
       " [3.8059752708336188],\n",
       " [3.8059752708336183],\n",
       " [3.8059752708336188],\n",
       " [3.80597527083362],\n",
       " [3.8059752708336188],\n",
       " [3.805975270833619],\n",
       " [3.8059752708336188],\n",
       " [3.8059752708336188],\n",
       " [3.8059752708336188],\n",
       " [3.80597527083362],\n",
       " [3.8059752708336188],\n",
       " [3.805975270833619],\n",
       " [3.805975270833619],\n",
       " [3.8059752708336188],\n",
       " [3.8059752708336188],\n",
       " [3.8059752708336188],\n",
       " [3.80597527083362],\n",
       " [3.8059752708336188],\n",
       " [3.805975270833619],\n",
       " [3.8059752708336188],\n",
       " [3.8059752708336188],\n",
       " [3.80597527083362],\n",
       " [3.8059752708336188],\n",
       " [3.80597527083362],\n",
       " [3.8059752708336188],\n",
       " [3.8059752708336188],\n",
       " [3.8059752708336188],\n",
       " [3.80597527083362],\n",
       " [3.8059752708336188],\n",
       " [3.8059752708336188],\n",
       " [3.805975270833619],\n",
       " [3.8059752708336183],\n",
       " [3.805975270833619],\n",
       " [3.8059752708336188],\n",
       " [3.8059752708336188],\n",
       " [3.8059752708336188],\n",
       " [3.805975270833619],\n",
       " [3.8059752708336188],\n",
       " [3.80597527083362],\n",
       " [3.805975270833619],\n",
       " [3.805975270833619],\n",
       " [3.805975270833619],\n",
       " [3.8059752708336183],\n",
       " [3.8059752708336188],\n",
       " [3.8059752708336183],\n",
       " [3.8059752708336183],\n",
       " [3.8059752708336188],\n",
       " [3.805975270833619],\n",
       " [3.8059752708336183],\n",
       " [3.805975270833619],\n",
       " [3.8059752708336188],\n",
       " [3.8059752708336188],\n",
       " [3.8059752708336188],\n",
       " [3.8059752708336183],\n",
       " [3.8059752708336188],\n",
       " [3.8059752708336183],\n",
       " [3.80597527083362],\n",
       " [3.805975270833619]]"
      ]
     },
     "execution_count": 64,
     "metadata": {},
     "output_type": "execute_result"
    }
   ],
   "source": [
    "# plt.plot(r[:,0],np.abs(psi_zr[:,midway_index_z]),label=\"numerical solution, z=0\")\n",
    "# #plt.plot(r[:,0],gnd_state[:,midway_index_z],label=\"true solution, z=0\")\n",
    "# #plt.plot(r[:,0],TF_contact[:,midway_index_z], label = \"Thomas Fermi, z=1\")\n",
    "# #plt.plot(r[:,0],TF_quasi[:,midway_index_z], label = \"Thomas Fermi, z=0\")\n",
    "# plt.title('psi in z=0 plane')\n",
    "# plt.xlim(0,r_cutoff)\n",
    "# plt.legend()\n",
    "# plt.xlabel('r position')\n",
    "# plt.ylabel('psi')\n",
    "# plt.show()      \n",
    "print(E_conv(E_list,criteria=1e-7))\n",
    "E_list\n"
   ]
  },
  {
   "cell_type": "code",
   "execution_count": null,
   "metadata": {},
   "outputs": [
    {
     "data": {
      "application/vnd.jupyter.widget-view+json": {
       "model_id": "9a55e65794434822be8bd8f94393ccff",
       "version_major": 2,
       "version_minor": 0
      },
      "text/plain": [
       "HBox(children=(FloatProgress(value=0.0, max=41.0), HTML(value='')))"
      ]
     },
     "metadata": {},
     "output_type": "display_data"
    },
    {
     "data": {
      "application/vnd.jupyter.widget-view+json": {
       "model_id": "",
       "version_major": 2,
       "version_minor": 0
      },
      "text/plain": [
       "HBox(children=(FloatProgress(value=0.0, max=41.0), HTML(value='')))"
      ]
     },
     "metadata": {},
     "output_type": "display_data"
    },
    {
     "data": {
      "application/vnd.jupyter.widget-view+json": {
       "model_id": "",
       "version_major": 2,
       "version_minor": 0
      },
      "text/plain": [
       "HBox(children=(FloatProgress(value=0.0, max=41.0), HTML(value='')))"
      ]
     },
     "metadata": {},
     "output_type": "display_data"
    },
    {
     "data": {
      "application/vnd.jupyter.widget-view+json": {
       "model_id": "",
       "version_major": 2,
       "version_minor": 0
      },
      "text/plain": [
       "HBox(children=(FloatProgress(value=0.0, max=41.0), HTML(value='')))"
      ]
     },
     "metadata": {},
     "output_type": "display_data"
    },
    {
     "data": {
      "application/vnd.jupyter.widget-view+json": {
       "model_id": "",
       "version_major": 2,
       "version_minor": 0
      },
      "text/plain": [
       "HBox(children=(FloatProgress(value=0.0, max=41.0), HTML(value='')))"
      ]
     },
     "metadata": {},
     "output_type": "display_data"
    },
    {
     "data": {
      "application/vnd.jupyter.widget-view+json": {
       "model_id": "",
       "version_major": 2,
       "version_minor": 0
      },
      "text/plain": [
       "HBox(children=(FloatProgress(value=0.0, max=41.0), HTML(value='')))"
      ]
     },
     "metadata": {},
     "output_type": "display_data"
    },
    {
     "data": {
      "application/vnd.jupyter.widget-view+json": {
       "model_id": "",
       "version_major": 2,
       "version_minor": 0
      },
      "text/plain": [
       "HBox(children=(FloatProgress(value=0.0, max=41.0), HTML(value='')))"
      ]
     },
     "metadata": {},
     "output_type": "display_data"
    },
    {
     "data": {
      "application/vnd.jupyter.widget-view+json": {
       "model_id": "",
       "version_major": 2,
       "version_minor": 0
      },
      "text/plain": [
       "HBox(children=(FloatProgress(value=0.0, max=41.0), HTML(value='')))"
      ]
     },
     "metadata": {},
     "output_type": "display_data"
    },
    {
     "data": {
      "application/vnd.jupyter.widget-view+json": {
       "model_id": "",
       "version_major": 2,
       "version_minor": 0
      },
      "text/plain": [
       "HBox(children=(FloatProgress(value=0.0, max=41.0), HTML(value='')))"
      ]
     },
     "metadata": {},
     "output_type": "display_data"
    },
    {
     "data": {
      "application/vnd.jupyter.widget-view+json": {
       "model_id": "",
       "version_major": 2,
       "version_minor": 0
      },
      "text/plain": [
       "HBox(children=(FloatProgress(value=0.0, max=41.0), HTML(value='')))"
      ]
     },
     "metadata": {},
     "output_type": "display_data"
    },
    {
     "data": {
      "application/vnd.jupyter.widget-view+json": {
       "model_id": "",
       "version_major": 2,
       "version_minor": 0
      },
      "text/plain": [
       "HBox(children=(FloatProgress(value=0.0, max=41.0), HTML(value='')))"
      ]
     },
     "metadata": {},
     "output_type": "display_data"
    },
    {
     "data": {
      "application/vnd.jupyter.widget-view+json": {
       "model_id": "",
       "version_major": 2,
       "version_minor": 0
      },
      "text/plain": [
       "HBox(children=(FloatProgress(value=0.0, max=41.0), HTML(value='')))"
      ]
     },
     "metadata": {},
     "output_type": "display_data"
    },
    {
     "data": {
      "application/vnd.jupyter.widget-view+json": {
       "model_id": "",
       "version_major": 2,
       "version_minor": 0
      },
      "text/plain": [
       "HBox(children=(FloatProgress(value=0.0, max=41.0), HTML(value='')))"
      ]
     },
     "metadata": {},
     "output_type": "display_data"
    },
    {
     "data": {
      "application/vnd.jupyter.widget-view+json": {
       "model_id": "",
       "version_major": 2,
       "version_minor": 0
      },
      "text/plain": [
       "HBox(children=(FloatProgress(value=0.0, max=41.0), HTML(value='')))"
      ]
     },
     "metadata": {},
     "output_type": "display_data"
    },
    {
     "data": {
      "application/vnd.jupyter.widget-view+json": {
       "model_id": "",
       "version_major": 2,
       "version_minor": 0
      },
      "text/plain": [
       "HBox(children=(FloatProgress(value=0.0, max=41.0), HTML(value='')))"
      ]
     },
     "metadata": {},
     "output_type": "display_data"
    },
    {
     "data": {
      "application/vnd.jupyter.widget-view+json": {
       "model_id": "",
       "version_major": 2,
       "version_minor": 0
      },
      "text/plain": [
       "HBox(children=(FloatProgress(value=0.0, max=41.0), HTML(value='')))"
      ]
     },
     "metadata": {},
     "output_type": "display_data"
    },
    {
     "data": {
      "application/vnd.jupyter.widget-view+json": {
       "model_id": "",
       "version_major": 2,
       "version_minor": 0
      },
      "text/plain": [
       "HBox(children=(FloatProgress(value=0.0, max=41.0), HTML(value='')))"
      ]
     },
     "metadata": {},
     "output_type": "display_data"
    },
    {
     "data": {
      "application/vnd.jupyter.widget-view+json": {
       "model_id": "",
       "version_major": 2,
       "version_minor": 0
      },
      "text/plain": [
       "HBox(children=(FloatProgress(value=0.0, max=41.0), HTML(value='')))"
      ]
     },
     "metadata": {},
     "output_type": "display_data"
    },
    {
     "data": {
      "application/vnd.jupyter.widget-view+json": {
       "model_id": "",
       "version_major": 2,
       "version_minor": 0
      },
      "text/plain": [
       "HBox(children=(FloatProgress(value=0.0, max=41.0), HTML(value='')))"
      ]
     },
     "metadata": {},
     "output_type": "display_data"
    },
    {
     "data": {
      "application/vnd.jupyter.widget-view+json": {
       "model_id": "",
       "version_major": 2,
       "version_minor": 0
      },
      "text/plain": [
       "HBox(children=(FloatProgress(value=0.0, max=41.0), HTML(value='')))"
      ]
     },
     "metadata": {},
     "output_type": "display_data"
    },
    {
     "data": {
      "application/vnd.jupyter.widget-view+json": {
       "model_id": "",
       "version_major": 2,
       "version_minor": 0
      },
      "text/plain": [
       "HBox(children=(FloatProgress(value=0.0, max=41.0), HTML(value='')))"
      ]
     },
     "metadata": {},
     "output_type": "display_data"
    },
    {
     "data": {
      "application/vnd.jupyter.widget-view+json": {
       "model_id": "",
       "version_major": 2,
       "version_minor": 0
      },
      "text/plain": [
       "HBox(children=(FloatProgress(value=0.0, max=41.0), HTML(value='')))"
      ]
     },
     "metadata": {},
     "output_type": "display_data"
    },
    {
     "data": {
      "application/vnd.jupyter.widget-view+json": {
       "model_id": "",
       "version_major": 2,
       "version_minor": 0
      },
      "text/plain": [
       "HBox(children=(FloatProgress(value=0.0, max=41.0), HTML(value='')))"
      ]
     },
     "metadata": {},
     "output_type": "display_data"
    },
    {
     "data": {
      "application/vnd.jupyter.widget-view+json": {
       "model_id": "",
       "version_major": 2,
       "version_minor": 0
      },
      "text/plain": [
       "HBox(children=(FloatProgress(value=0.0, max=41.0), HTML(value='')))"
      ]
     },
     "metadata": {},
     "output_type": "display_data"
    },
    {
     "data": {
      "application/vnd.jupyter.widget-view+json": {
       "model_id": "",
       "version_major": 2,
       "version_minor": 0
      },
      "text/plain": [
       "HBox(children=(FloatProgress(value=0.0, max=41.0), HTML(value='')))"
      ]
     },
     "metadata": {},
     "output_type": "display_data"
    },
    {
     "data": {
      "application/vnd.jupyter.widget-view+json": {
       "model_id": "",
       "version_major": 2,
       "version_minor": 0
      },
      "text/plain": [
       "HBox(children=(FloatProgress(value=0.0, max=41.0), HTML(value='')))"
      ]
     },
     "metadata": {},
     "output_type": "display_data"
    },
    {
     "data": {
      "application/vnd.jupyter.widget-view+json": {
       "model_id": "",
       "version_major": 2,
       "version_minor": 0
      },
      "text/plain": [
       "HBox(children=(FloatProgress(value=0.0, max=41.0), HTML(value='')))"
      ]
     },
     "metadata": {},
     "output_type": "display_data"
    },
    {
     "data": {
      "application/vnd.jupyter.widget-view+json": {
       "model_id": "",
       "version_major": 2,
       "version_minor": 0
      },
      "text/plain": [
       "HBox(children=(FloatProgress(value=0.0, max=41.0), HTML(value='')))"
      ]
     },
     "metadata": {},
     "output_type": "display_data"
    },
    {
     "data": {
      "application/vnd.jupyter.widget-view+json": {
       "model_id": "",
       "version_major": 2,
       "version_minor": 0
      },
      "text/plain": [
       "HBox(children=(FloatProgress(value=0.0, max=41.0), HTML(value='')))"
      ]
     },
     "metadata": {},
     "output_type": "display_data"
    },
    {
     "data": {
      "application/vnd.jupyter.widget-view+json": {
       "model_id": "",
       "version_major": 2,
       "version_minor": 0
      },
      "text/plain": [
       "HBox(children=(FloatProgress(value=0.0, max=41.0), HTML(value='')))"
      ]
     },
     "metadata": {},
     "output_type": "display_data"
    },
    {
     "data": {
      "application/vnd.jupyter.widget-view+json": {
       "model_id": "",
       "version_major": 2,
       "version_minor": 0
      },
      "text/plain": [
       "HBox(children=(FloatProgress(value=0.0, max=41.0), HTML(value='')))"
      ]
     },
     "metadata": {},
     "output_type": "display_data"
    },
    {
     "data": {
      "application/vnd.jupyter.widget-view+json": {
       "model_id": "",
       "version_major": 2,
       "version_minor": 0
      },
      "text/plain": [
       "HBox(children=(FloatProgress(value=0.0, max=41.0), HTML(value='')))"
      ]
     },
     "metadata": {},
     "output_type": "display_data"
    },
    {
     "data": {
      "application/vnd.jupyter.widget-view+json": {
       "model_id": "",
       "version_major": 2,
       "version_minor": 0
      },
      "text/plain": [
       "HBox(children=(FloatProgress(value=0.0, max=41.0), HTML(value='')))"
      ]
     },
     "metadata": {},
     "output_type": "display_data"
    },
    {
     "data": {
      "application/vnd.jupyter.widget-view+json": {
       "model_id": "",
       "version_major": 2,
       "version_minor": 0
      },
      "text/plain": [
       "HBox(children=(FloatProgress(value=0.0, max=41.0), HTML(value='')))"
      ]
     },
     "metadata": {},
     "output_type": "display_data"
    },
    {
     "data": {
      "application/vnd.jupyter.widget-view+json": {
       "model_id": "",
       "version_major": 2,
       "version_minor": 0
      },
      "text/plain": [
       "HBox(children=(FloatProgress(value=0.0, max=41.0), HTML(value='')))"
      ]
     },
     "metadata": {},
     "output_type": "display_data"
    },
    {
     "data": {
      "application/vnd.jupyter.widget-view+json": {
       "model_id": "",
       "version_major": 2,
       "version_minor": 0
      },
      "text/plain": [
       "HBox(children=(FloatProgress(value=0.0, max=41.0), HTML(value='')))"
      ]
     },
     "metadata": {},
     "output_type": "display_data"
    },
    {
     "data": {
      "application/vnd.jupyter.widget-view+json": {
       "model_id": "",
       "version_major": 2,
       "version_minor": 0
      },
      "text/plain": [
       "HBox(children=(FloatProgress(value=0.0, max=41.0), HTML(value='')))"
      ]
     },
     "metadata": {},
     "output_type": "display_data"
    },
    {
     "data": {
      "application/vnd.jupyter.widget-view+json": {
       "model_id": "",
       "version_major": 2,
       "version_minor": 0
      },
      "text/plain": [
       "HBox(children=(FloatProgress(value=0.0, max=41.0), HTML(value='')))"
      ]
     },
     "metadata": {},
     "output_type": "display_data"
    },
    {
     "data": {
      "application/vnd.jupyter.widget-view+json": {
       "model_id": "",
       "version_major": 2,
       "version_minor": 0
      },
      "text/plain": [
       "HBox(children=(FloatProgress(value=0.0, max=41.0), HTML(value='')))"
      ]
     },
     "metadata": {},
     "output_type": "display_data"
    },
    {
     "data": {
      "application/vnd.jupyter.widget-view+json": {
       "model_id": "",
       "version_major": 2,
       "version_minor": 0
      },
      "text/plain": [
       "HBox(children=(FloatProgress(value=0.0, max=41.0), HTML(value='')))"
      ]
     },
     "metadata": {},
     "output_type": "display_data"
    },
    {
     "data": {
      "application/vnd.jupyter.widget-view+json": {
       "model_id": "",
       "version_major": 2,
       "version_minor": 0
      },
      "text/plain": [
       "HBox(children=(FloatProgress(value=0.0, max=41.0), HTML(value='')))"
      ]
     },
     "metadata": {},
     "output_type": "display_data"
    },
    {
     "data": {
      "application/vnd.jupyter.widget-view+json": {
       "model_id": "bcf96ae6a7ca4836a4e664e06d1da9d5",
       "version_major": 2,
       "version_minor": 0
      },
      "text/plain": [
       "HBox(children=(FloatProgress(value=0.0, max=41.0), HTML(value='')))"
      ]
     },
     "metadata": {},
     "output_type": "display_data"
    }
   ],
   "source": [
    "###do spherical cut off for gamma less than 5 and z cutoff for higher gamma,\n",
    "##have the same cutoff for all gamma greater than 5\n",
    "\n",
    "gs = 0 #purely dipolar\n",
    "Ds = np.linspace(0,3000,121)  ##range of (dimensionless) dipole strength to iterate over\n",
    "gammas = np.linspace(1,30,121) ##range of gamma to iterate over\n",
    "gammas /= np.sqrt(box)\n",
    "stability_matrix = np.zeros([len(gammas),len(Ds)])\n",
    "\n",
    "p_max = 6000 ##max iteration number\n",
    "for i in tqdm_notebook(range(len(gammas)),leave = False):\n",
    "    gamma = gammas[i]\n",
    "    init_psi = np.exp((-r**2)/2)*np.exp((-gamma*(z(gamma))**2)/2) ## true ground state for D = 0\n",
    "    #init_psi /= Norm_r_or_rho(init_psi,gamma)\n",
    "    for j in tqdm_notebook(range(len(Ds)),leave=False):\n",
    "        D = Ds[j] #iterates through different values of D and gamma\n",
    "        #if D==0:\n",
    "        psi_zr = init_psi\n",
    "        #else:\n",
    "        psi_zr = psi_zr**0.05 ##smoothing\n",
    "        psi_zr /= Norm_r_or_rho(psi_zr,gamma)\n",
    "        hist_psi = [[0,psi_zr[0:int(N/2),int(N/4):int(3*N/4)]]] #list of historical psi's\n",
    "        lamda = 4*np.pi*D/3\n",
    "        Udd = 3*(np.nan_to_num(kz(gamma)/k_mag(gamma),posinf=0))**2 - 1 ##z cutoff\n",
    "        Udd += 3*np.exp(-Zc(gamma)*2*np.pi*rho)*((np.nan_to_num(2*np.pi*rho/k_mag(gamma),posinf=0)**2)*np.cos(Zc(gamma)*kz(gamma))\n",
    "                        -np.nan_to_num(2*np.pi*rho/k_mag(gamma),posinf=0)*np.nan_to_num(kz(gamma)/k_mag(gamma),posinf=0)*np.sin(Zc(gamma)*kz(gamma)))\n",
    "\n",
    "        Udd *= lamda\n",
    "        E_list = []\n",
    "        isConv=False\n",
    "        p=0\n",
    "        trig = False\n",
    "        dt_ = dt(E_list)\n",
    "        exp_T_ = exp_T(E_list,gamma)\n",
    "        while isConv==False and p<p_max: ##loops until convergence or p=p_max\n",
    "            if p%10==0:\n",
    "                E_list.append([E(psi_zr,gamma,gs,Udd)])\n",
    "                exp_T_ = exp_T(E_list,gamma)\n",
    "                if not trig:\n",
    "                    new_dt = dt(E_list)\n",
    "                    trig = (abs(new_dt)<abs(dt_))\n",
    "                    dt_ = new_dt\n",
    "            \n",
    "            psi_zr = np.exp(-0.5j*dt_*Vzr(psi_zr,r,gamma,gs,J))*psi_zr\n",
    "            psi_zr = exp_T_*qfht(fft(psi_zr,axis=1),J)\n",
    "            psi_zr = ifft(iqfht(psi_zr,J),axis=1) ## was doing them separately before\n",
    "            psi_zr /= Norm_r_or_rho(psi_zr,gamma)\n",
    "            psi_zr *= np.exp(-0.5j*dt_*Vzr(psi_zr,r,gamma,gs,J))\n",
    "            psi_zr /= Norm_r_or_rho(psi_zr,gamma)\n",
    "            if np.isnan(psi_zr).any() or np.min(E_list)<0: #or (psi_zr[0,Nz-1]/np.max(psi_zr))<0.01: ##stops the loop early if there is a collapse to nan\n",
    "                stability_matrix[i][j]=0\n",
    "                isConv=True\n",
    "            if E_conv(E_list,criteria=1e-7) and not isConv:\n",
    "                ###################################\n",
    "                ###for low D it takes longer to converge, for D = 0 it takes 9000 iterations, can solve this by going to small dt closer to  onvergence, or use dt=0.05 as low point\n",
    "                ###################################\n",
    "                \n",
    "                \n",
    "                \n",
    "                \n",
    "                \n",
    "                if np.max(E_list[-5:])<E_list[0]:\n",
    "                    if Nz%2==1:\n",
    "                        if (np.abs(psi_zr)[0,midway_index_z]==np.max(np.abs(psi_zr))):  ##checks where the max is\n",
    "                            stability_matrix[i][j]=2 ##non red blood cell\n",
    "                            isConv=True\n",
    "                        else:\n",
    "                            stability_matrix[i][j]=1 ##red blood cell\n",
    "                            isConv=True \n",
    "                    else:\n",
    "                        if (np.abs(psi_zr)[0,midway_index_z]==np.max(np.abs(psi_zr))) or (np.abs(psi_zr)[0,int(midway_index_z-1)]==np.max(np.abs(psi_zr))) :  ##checks where the max is\n",
    "                            stability_matrix[i][j]=2 ##non red blood cell\n",
    "                            isConv=True\n",
    "                        else:\n",
    "                            stability_matrix[i][j]=1 ##red blood cell\n",
    "                            isConv=True\n",
    "                        \n",
    "#             hist_psi.append([p,psi_zr[0:int(N/2),int(Nz/4):int(3*Nz/4)]]) #adds to historical list\n",
    "#             if len(hist_psi) > 50 and len(hist_psi)%10 == 0: #list has size 50\n",
    "#                 hist_psi = hist_psi[-50:] ## gives most recent 100 psi's\n",
    "#                 psi_percent_diff_list = []\n",
    "#                 for k in range(10):\n",
    "#                     psi_percent_diff_list.append([100*(hist_psi[5*k][1] - hist_psi[0][1])/hist_psi[0][1]])\n",
    "#                 if np.max(np.abs(psi_percent_diff_list[-1])) <1e-3:\n",
    "#                     if (sorted(psi_zr.ravel())[-1]+sorted(psi_zr.ravel())[-2])/sorted(psi_zr.ravel())[-1] > 1.1: ## if second largest value is greater than 10% of largest value\n",
    "#                         if (np.abs(psi_zr)[0,midway_index_z]==np.max(np.abs(psi_zr))): ##checks where the max is\n",
    "#                             stability_matrix[i][j]=2 ##non red blood cell\n",
    "#                             isConv=True\n",
    "#                         else:\n",
    "#                             stability_matrix[i][j]=1\n",
    "#                             isConv=True\n",
    "                \n",
    "            p+=1\n",
    "        #if stability_matrix[i][j]==0:\n",
    "          #  psi_zr = init_psi ##setting to original psi if psi hasn't converged\n",
    "\n",
    "                \n",
    "\n",
    "gammav = gammas.reshape(-1,1).repeat(len(Ds),1)\n",
    "Dsv = Ds.reshape(1,-1).repeat(len(gammas),0)\n",
    "\n",
    "df = pd.DataFrame(np.rot90(stability_matrix),index = np.max(Ds)-Ds,columns=gammas)\n",
    "sns.heatmap(df)\n",
    "plt.xlabel('$\\gamma$')\n",
    "plt.ylabel('D')\n",
    "plt.show()        \n",
    "\n",
    "fig=plt.figure()\n",
    "ax=plt.axes(projection=\"3d\")\n",
    "ax.plot_surface(gammav,Dsv,stability_matrix,cmap=\"jet\")\n",
    "\n",
    "plt.xlabel(\"gamma\")\n",
    "plt.ylabel(\"Dipole strength\")\n",
    "ax.set_title(\"Convergence plot\")\n",
    "plt.show()\n",
    "midway_index_z = int(Nz/2)+1\n",
    "plt.plot(r[:,0],np.abs(psi_zr[:,midway_index_z]),label=\"numerical solution, z=0\")\n",
    "#plt.plot(r[:,0],gnd_state[:,midway_index_z],label=\"true solution, z=0\")\n",
    "#plt.plot(r[:,0],TF_contact[:,midway_index_z], label = \"Thomas Fermi, z=1\")\n",
    "#plt.plot(r[:,0],TF_quasi[:,midway_index_z], label = \"Thomas Fermi, z=0\")\n",
    "plt.title('psi in z=0 plane')\n",
    "#plt.xlim(0,r_cutoff)\n",
    "plt.legend()\n",
    "plt.xlabel('r position')\n",
    "plt.ylabel('psi')\n",
    "plt.show()        \n",
    "\n",
    "plt.plot(z(gamma)[0,:],np.abs(psi_zr[0,:]),label=\"numerical solution, r=0\")\n",
    "#plt.plot(z(gamma)[0,:],np.abs(gnd_state[0,:]),label = \"ground state, r=0\")\n",
    "plt.title('psi in z direction, r=0')\n",
    "#plt.xlim(0,r_cutoff)\n",
    "plt.legend()\n",
    "plt.xlabel(' z position')\n",
    "plt.ylabel('psi')\n",
    "plt.show()  \n",
    "\n",
    "plt.plot(r[:,0],100*diff_zr[:,midway_index_z]/np.max(psi_zr),label=\"diff in r direction, z=0\")\n",
    "plt.plot(z(gamma)[0,:],100*diff_zr[0,:]/np.max(psi_zr),label=\"diff in z direction, r=0\")\n",
    "plt.title('diff/% of psi for r=0 and z=0 to ground state with no interactions')\n",
    "plt.xlabel('r,z')\n",
    "plt.ylabel('difference in % of max psi\"')\n",
    "plt.legend()\n",
    "plt.show()  \n",
    "\n",
    "\n",
    "fig,ax = plt.subplots()\n",
    "ax.contour(r,z(gamma),np.abs(psi_zr))\n",
    "ax.set_title('contour plot of psi')\n",
    "#ax.set_ylim(-1,1)\n",
    "#ax.set_xlim(0,box)\n",
    "ax.set_xlabel('r position')\n",
    "ax.set_ylabel('z position')\n",
    "ax.set_xlim([0,r_cutoff])\n",
    "ax.set_ylim([-z_cutoff,z_cutoff])\n",
    "plt.show()"
   ]
  },
  {
   "cell_type": "code",
   "execution_count": 32,
   "metadata": {},
   "outputs": [
    {
     "data": {
      "application/vnd.jupyter.widget-view+json": {
       "model_id": "f47b0441bf534aff990894995ed9c4b7",
       "version_major": 2,
       "version_minor": 0
      },
      "text/plain": [
       "HBox(children=(FloatProgress(value=0.0, max=11.0), HTML(value='')))"
      ]
     },
     "metadata": {},
     "output_type": "display_data"
    },
    {
     "data": {
      "application/vnd.jupyter.widget-view+json": {
       "model_id": "",
       "version_major": 2,
       "version_minor": 0
      },
      "text/plain": [
       "HBox(children=(FloatProgress(value=0.0, max=11.0), HTML(value='')))"
      ]
     },
     "metadata": {},
     "output_type": "display_data"
    },
    {
     "data": {
      "application/vnd.jupyter.widget-view+json": {
       "model_id": "c41d026828994f6ab784415c642d7c62",
       "version_major": 2,
       "version_minor": 0
      },
      "text/plain": [
       "HBox(children=(FloatProgress(value=0.0, max=11.0), HTML(value='')))"
      ]
     },
     "metadata": {},
     "output_type": "display_data"
    },
    {
     "ename": "KeyboardInterrupt",
     "evalue": "",
     "output_type": "error",
     "traceback": [
      "\u001b[1;31m---------------------------------------------------------------------------\u001b[0m",
      "\u001b[1;31mKeyboardInterrupt\u001b[0m                         Traceback (most recent call last)",
      "\u001b[1;32m<ipython-input-32-49609af2e9ec>\u001b[0m in \u001b[0;36m<module>\u001b[1;34m\u001b[0m\n\u001b[0;32m     47\u001b[0m             \u001b[0mpsi_zr\u001b[0m \u001b[1;33m/=\u001b[0m \u001b[0mNorm_r_or_rho\u001b[0m\u001b[1;33m(\u001b[0m\u001b[0mpsi_zr\u001b[0m\u001b[1;33m,\u001b[0m\u001b[0mgamma\u001b[0m\u001b[1;33m)\u001b[0m\u001b[1;33m\u001b[0m\u001b[1;33m\u001b[0m\u001b[0m\n\u001b[0;32m     48\u001b[0m             \u001b[0mpsi_zr\u001b[0m \u001b[1;33m*=\u001b[0m \u001b[0mnp\u001b[0m\u001b[1;33m.\u001b[0m\u001b[0mexp\u001b[0m\u001b[1;33m(\u001b[0m\u001b[1;33m-\u001b[0m\u001b[1;36m0.5j\u001b[0m\u001b[1;33m*\u001b[0m\u001b[0mdt_\u001b[0m\u001b[1;33m*\u001b[0m\u001b[0mVzr\u001b[0m\u001b[1;33m(\u001b[0m\u001b[0mpsi_zr\u001b[0m\u001b[1;33m,\u001b[0m\u001b[0mr\u001b[0m\u001b[1;33m,\u001b[0m\u001b[0mgamma\u001b[0m\u001b[1;33m,\u001b[0m\u001b[0mgs\u001b[0m\u001b[1;33m,\u001b[0m\u001b[0mJ\u001b[0m\u001b[1;33m)\u001b[0m\u001b[1;33m)\u001b[0m\u001b[1;33m\u001b[0m\u001b[1;33m\u001b[0m\u001b[0m\n\u001b[1;32m---> 49\u001b[1;33m             \u001b[0mpsi_zr\u001b[0m \u001b[1;33m/=\u001b[0m \u001b[0mNorm_r_or_rho\u001b[0m\u001b[1;33m(\u001b[0m\u001b[0mpsi_zr\u001b[0m\u001b[1;33m,\u001b[0m\u001b[0mgamma\u001b[0m\u001b[1;33m)\u001b[0m\u001b[1;33m\u001b[0m\u001b[1;33m\u001b[0m\u001b[0m\n\u001b[0m\u001b[0;32m     50\u001b[0m             \u001b[1;32mif\u001b[0m \u001b[0mnp\u001b[0m\u001b[1;33m.\u001b[0m\u001b[0misnan\u001b[0m\u001b[1;33m(\u001b[0m\u001b[0mpsi_zr\u001b[0m\u001b[1;33m)\u001b[0m\u001b[1;33m.\u001b[0m\u001b[0many\u001b[0m\u001b[1;33m(\u001b[0m\u001b[1;33m)\u001b[0m \u001b[1;32mor\u001b[0m \u001b[0mnp\u001b[0m\u001b[1;33m.\u001b[0m\u001b[0mmin\u001b[0m\u001b[1;33m(\u001b[0m\u001b[0mE_list\u001b[0m\u001b[1;33m)\u001b[0m\u001b[1;33m<\u001b[0m\u001b[1;36m0\u001b[0m\u001b[1;33m:\u001b[0m \u001b[1;31m#or (psi_zr[0,Nz-1]/np.max(psi_zr))<0.01: ##stops the loop early if there is a collapse to nan\u001b[0m\u001b[1;33m\u001b[0m\u001b[1;33m\u001b[0m\u001b[0m\n\u001b[0;32m     51\u001b[0m                 \u001b[0mstability_matrix\u001b[0m\u001b[1;33m[\u001b[0m\u001b[0mi\u001b[0m\u001b[1;33m]\u001b[0m\u001b[1;33m[\u001b[0m\u001b[0mj\u001b[0m\u001b[1;33m]\u001b[0m\u001b[1;33m=\u001b[0m\u001b[1;36m0\u001b[0m\u001b[1;33m\u001b[0m\u001b[1;33m\u001b[0m\u001b[0m\n",
      "\u001b[1;32m<ipython-input-6-1024f3637d49>\u001b[0m in \u001b[0;36mNorm_r_or_rho\u001b[1;34m(psi, gamma)\u001b[0m\n\u001b[0;32m    125\u001b[0m \u001b[1;32mdef\u001b[0m \u001b[0mNorm_r_or_rho\u001b[0m\u001b[1;33m(\u001b[0m\u001b[0mpsi\u001b[0m\u001b[1;33m,\u001b[0m\u001b[0mgamma\u001b[0m\u001b[1;33m)\u001b[0m\u001b[1;33m:\u001b[0m \u001b[1;31m##space is either r or rho, Normalisation function\u001b[0m\u001b[1;33m\u001b[0m\u001b[1;33m\u001b[0m\u001b[0m\n\u001b[0;32m    126\u001b[0m     \u001b[0mout\u001b[0m \u001b[1;33m=\u001b[0m \u001b[1;36m2\u001b[0m\u001b[1;33m*\u001b[0m\u001b[0mnp\u001b[0m\u001b[1;33m.\u001b[0m\u001b[0mpi\u001b[0m\u001b[1;33m*\u001b[0m\u001b[0mnp\u001b[0m\u001b[1;33m.\u001b[0m\u001b[0msum\u001b[0m\u001b[1;33m(\u001b[0m\u001b[0mnp\u001b[0m\u001b[1;33m.\u001b[0m\u001b[0mabs\u001b[0m\u001b[1;33m(\u001b[0m\u001b[0mpsi\u001b[0m\u001b[1;33m[\u001b[0m\u001b[1;36m1\u001b[0m\u001b[1;33m,\u001b[0m\u001b[1;33m:\u001b[0m\u001b[1;33m]\u001b[0m\u001b[1;33m)\u001b[0m\u001b[1;33m**\u001b[0m\u001b[1;36m2\u001b[0m\u001b[1;33m)\u001b[0m\u001b[1;33m*\u001b[0m\u001b[0mdz\u001b[0m\u001b[1;33m(\u001b[0m\u001b[0mgamma\u001b[0m\u001b[1;33m)\u001b[0m\u001b[1;33m*\u001b[0m\u001b[0mr\u001b[0m\u001b[1;33m[\u001b[0m\u001b[1;36m1\u001b[0m\u001b[1;33m,\u001b[0m\u001b[1;36m0\u001b[0m\u001b[1;33m]\u001b[0m\u001b[1;33m*\u001b[0m\u001b[0mr\u001b[0m\u001b[1;33m[\u001b[0m\u001b[1;36m1\u001b[0m\u001b[1;33m,\u001b[0m\u001b[1;36m0\u001b[0m\u001b[1;33m]\u001b[0m\u001b[1;33m/\u001b[0m\u001b[1;36m2\u001b[0m \u001b[1;31m##first r term has slightly different dr\u001b[0m\u001b[1;33m\u001b[0m\u001b[1;33m\u001b[0m\u001b[0m\n\u001b[1;32m--> 127\u001b[1;33m     \u001b[0mout\u001b[0m \u001b[1;33m+=\u001b[0m \u001b[1;36m2\u001b[0m\u001b[1;33m*\u001b[0m\u001b[0mnp\u001b[0m\u001b[1;33m.\u001b[0m\u001b[0mpi\u001b[0m\u001b[1;33m*\u001b[0m\u001b[0mnp\u001b[0m\u001b[1;33m.\u001b[0m\u001b[0msum\u001b[0m\u001b[1;33m(\u001b[0m\u001b[0mr\u001b[0m\u001b[1;33m[\u001b[0m\u001b[1;36m2\u001b[0m\u001b[1;33m:\u001b[0m\u001b[1;33m,\u001b[0m\u001b[1;33m:\u001b[0m\u001b[1;33m]\u001b[0m\u001b[1;33m*\u001b[0m\u001b[0mnp\u001b[0m\u001b[1;33m.\u001b[0m\u001b[0mabs\u001b[0m\u001b[1;33m(\u001b[0m\u001b[0mpsi\u001b[0m\u001b[1;33m[\u001b[0m\u001b[1;36m2\u001b[0m\u001b[1;33m:\u001b[0m\u001b[1;33m,\u001b[0m\u001b[1;33m:\u001b[0m\u001b[1;33m]\u001b[0m\u001b[1;33m)\u001b[0m\u001b[1;33m**\u001b[0m\u001b[1;36m2\u001b[0m\u001b[1;33m)\u001b[0m\u001b[1;33m*\u001b[0m\u001b[0mdr\u001b[0m\u001b[1;33m*\u001b[0m\u001b[0mdz\u001b[0m\u001b[1;33m(\u001b[0m\u001b[0mgamma\u001b[0m\u001b[1;33m)\u001b[0m \u001b[1;31m##rest of normalisation using average dr\u001b[0m\u001b[1;33m\u001b[0m\u001b[1;33m\u001b[0m\u001b[0m\n\u001b[0m\u001b[0;32m    128\u001b[0m     \u001b[0mout\u001b[0m \u001b[1;33m=\u001b[0m \u001b[0mnp\u001b[0m\u001b[1;33m.\u001b[0m\u001b[0msqrt\u001b[0m\u001b[1;33m(\u001b[0m\u001b[0mout\u001b[0m\u001b[1;33m)\u001b[0m\u001b[1;33m\u001b[0m\u001b[1;33m\u001b[0m\u001b[0m\n\u001b[0;32m    129\u001b[0m     \u001b[1;31m##apart from first dr\u001b[0m\u001b[1;33m\u001b[0m\u001b[1;33m\u001b[0m\u001b[1;33m\u001b[0m\u001b[0m\n",
      "\u001b[1;31mKeyboardInterrupt\u001b[0m: "
     ]
    }
   ],
   "source": [
    "###do spherical cut off for gamma less than 5 and z cutoff for higher gamma,\n",
    "##have the same cutoff for all gamma greater than 5\n",
    "\n",
    "gs = 0 #purely dipolar\n",
    "Ds = np.linspace(0,0,11)  ##range of (dimensionless) dipole strength to iterate over\n",
    "gammas = np.linspace(1,30,11) ##range of gamma to iterate over\n",
    "gammas /= np.sqrt(box)\n",
    "stability_matrix = np.zeros([len(gammas),len(Ds)])\n",
    "\n",
    "p_max = 4000 ##max iteration number\n",
    "for i in tqdm_notebook(range(len(gammas)),leave = False):\n",
    "    gamma = gammas[i]\n",
    "    init_psi = np.exp((-r**2)/2)*np.exp((-gamma*(z(gamma))**2)/2) ## true ground state for D = 0\n",
    "    #init_psi /= Norm_r_or_rho(init_psi,gamma)\n",
    "    for j in tqdm_notebook(range(len(Ds)),leave=False):\n",
    "        D = Ds[j] #iterates through different values of D and gamma\n",
    "        #if D==0:\n",
    "        psi_zr = init_psi\n",
    "        #else:\n",
    "        psi_zr = psi_zr**0.05 ##smoothing\n",
    "        psi_zr /= Norm_r_or_rho(psi_zr,gamma)\n",
    "        hist_psi = [[0,psi_zr[0:int(N/2),int(N/4):int(3*N/4)]]] #list of historical psi's\n",
    "        lamda = 4*np.pi*D/3\n",
    "        Udd = 3*(np.nan_to_num(kz(gamma)/k_mag(gamma),posinf=0))**2 - 1 ##z cutoff\n",
    "        Udd += 3*np.exp(-Zc(gamma)*2*np.pi*rho)*((np.nan_to_num(2*np.pi*rho/k_mag(gamma),posinf=0)**2)*np.cos(Zc(gamma)*kz(gamma))\n",
    "                        -np.nan_to_num(2*np.pi*rho/k_mag(gamma),posinf=0)*np.nan_to_num(kz(gamma)/k_mag(gamma),posinf=0)*np.sin(Zc(gamma)*kz(gamma)))\n",
    "\n",
    "        Udd *= lamda\n",
    "        E_list = []\n",
    "        isConv=False\n",
    "        p=0\n",
    "        trig = False\n",
    "        dt_ = dt(E_list)\n",
    "        exp_T_ = exp_T(E_list,gamma)\n",
    "        while isConv==False and p<p_max: ##loops until convergence or p=p_max\n",
    "            if p%10==0:\n",
    "                E_list.append([E(psi_zr,gamma,gs,Udd)])\n",
    "                exp_T_ = exp_T(E_list,gamma)\n",
    "                if not trig:\n",
    "                    new_dt = dt(E_list)\n",
    "                    trig = (abs(new_dt)<abs(dt_))\n",
    "                    dt_ = new_dt\n",
    "            \n",
    "            psi_zr = np.exp(-0.5j*dt_*Vzr(psi_zr,r,gamma,gs,J))*psi_zr\n",
    "            psi_zr = exp_T_*qfht(fft(psi_zr,axis=1),J)\n",
    "            psi_zr = ifft(iqfht(psi_zr,J),axis=1) ## was doing them separately before\n",
    "            psi_zr /= Norm_r_or_rho(psi_zr,gamma)\n",
    "            psi_zr *= np.exp(-0.5j*dt_*Vzr(psi_zr,r,gamma,gs,J))\n",
    "            psi_zr /= Norm_r_or_rho(psi_zr,gamma)\n",
    "            if np.isnan(psi_zr).any() or np.min(E_list)<0: #or (psi_zr[0,Nz-1]/np.max(psi_zr))<0.01: ##stops the loop early if there is a collapse to nan\n",
    "                stability_matrix[i][j]=0\n",
    "                isConv=True\n",
    "            if E_conv(E_list,criteria=1e-7) and not isConv:\n",
    "                if np.max(E_list[-5:])<E_list[0]:\n",
    "                    if Nz%2==1:\n",
    "                        if (np.abs(psi_zr)[0,midway_index_z]==np.max(np.abs(psi_zr))):  ##checks where the max is\n",
    "                            stability_matrix[i][j]=2 ##non red blood cell\n",
    "                            isConv=True\n",
    "                        else:\n",
    "                            stability_matrix[i][j]=1 ##red blood cell\n",
    "                            isConv=True \n",
    "                    else:\n",
    "                        if (np.abs(psi_zr)[0,midway_index_z]==np.max(np.abs(psi_zr))) or (np.abs(psi_zr)[0,int(midway_index_z-1)]==np.max(np.abs(psi_zr))) :  ##checks where the max is\n",
    "                            stability_matrix[i][j]=2 ##non red blood cell\n",
    "                            isConv=True\n",
    "                        else:\n",
    "                            stability_matrix[i][j]=1 ##red blood cell\n",
    "                            isConv=True\n",
    "                        \n",
    "#             hist_psi.append([p,psi_zr[0:int(N/2),int(Nz/4):int(3*Nz/4)]]) #adds to historical list\n",
    "#             if len(hist_psi) > 50 and len(hist_psi)%10 == 0: #list has size 50\n",
    "#                 hist_psi = hist_psi[-50:] ## gives most recent 100 psi's\n",
    "#                 psi_percent_diff_list = []\n",
    "#                 for k in range(10):\n",
    "#                     psi_percent_diff_list.append([100*(hist_psi[5*k][1] - hist_psi[0][1])/hist_psi[0][1]])\n",
    "#                 if np.max(np.abs(psi_percent_diff_list[-1])) <1e-3:\n",
    "#                     if (sorted(psi_zr.ravel())[-1]+sorted(psi_zr.ravel())[-2])/sorted(psi_zr.ravel())[-1] > 1.1: ## if second largest value is greater than 10% of largest value\n",
    "#                         if (np.abs(psi_zr)[0,midway_index_z]==np.max(np.abs(psi_zr))): ##checks where the max is\n",
    "#                             stability_matrix[i][j]=2 ##non red blood cell\n",
    "#                             isConv=True\n",
    "#                         else:\n",
    "#                             stability_matrix[i][j]=1\n",
    "#                             isConv=True\n",
    "                \n",
    "            p+=1\n",
    "        #if stability_matrix[i][j]==0:\n",
    "          #  psi_zr = init_psi ##setting to original psi if psi hasn't converged\n",
    "\n",
    "                \n",
    "\n",
    "gammav = gammas.reshape(-1,1).repeat(len(Ds),1)\n",
    "Dsv = Ds.reshape(1,-1).repeat(len(gammas),0)\n",
    "\n",
    "df = pd.DataFrame(np.rot90(stability_matrix),index = np.max(Ds)-Ds,columns=gammas)\n",
    "sns.heatmap(df)\n",
    "plt.xlabel('$\\gamma$')\n",
    "plt.ylabel('D')\n",
    "plt.show()        \n",
    "\n",
    "fig=plt.figure()\n",
    "ax=plt.axes(projection=\"3d\")\n",
    "ax.plot_surface(gammav,Dsv,stability_matrix,cmap=\"jet\")\n",
    "\n",
    "plt.xlabel(\"gamma\")\n",
    "plt.ylabel(\"Dipole strength\")\n",
    "ax.set_title(\"Convergence plot\")\n",
    "plt.show()\n",
    "midway_index_z = int(Nz/2)+1\n",
    "plt.plot(r[:,0],np.abs(psi_zr[:,midway_index_z]),label=\"numerical solution, z=0\")\n",
    "#plt.plot(r[:,0],gnd_state[:,midway_index_z],label=\"true solution, z=0\")\n",
    "#plt.plot(r[:,0],TF_contact[:,midway_index_z], label = \"Thomas Fermi, z=1\")\n",
    "#plt.plot(r[:,0],TF_quasi[:,midway_index_z], label = \"Thomas Fermi, z=0\")\n",
    "plt.title('psi in z=0 plane')\n",
    "#plt.xlim(0,r_cutoff)\n",
    "plt.legend()\n",
    "plt.xlabel('r position')\n",
    "plt.ylabel('psi')\n",
    "plt.show()        \n",
    "\n",
    "plt.plot(z(gamma)[0,:],np.abs(psi_zr[0,:]),label=\"numerical solution, r=0\")\n",
    "#plt.plot(z(gamma)[0,:],np.abs(gnd_state[0,:]),label = \"ground state, r=0\")\n",
    "plt.title('psi in z direction, r=0')\n",
    "#plt.xlim(0,r_cutoff)\n",
    "plt.legend()\n",
    "plt.xlabel(' z position')\n",
    "plt.ylabel('psi')\n",
    "plt.show()  \n",
    "\n",
    "plt.plot(r[:,0],100*diff_zr[:,midway_index_z]/np.max(psi_zr),label=\"diff in r direction, z=0\")\n",
    "plt.plot(z(gamma)[0,:],100*diff_zr[0,:]/np.max(psi_zr),label=\"diff in z direction, r=0\")\n",
    "plt.title('diff/% of psi for r=0 and z=0 to ground state with no interactions')\n",
    "plt.xlabel('r,z')\n",
    "plt.ylabel('difference in % of max psi\"')\n",
    "plt.legend()\n",
    "plt.show()  \n",
    "\n",
    "\n",
    "fig,ax = plt.subplots()\n",
    "ax.contour(r,z(gamma),np.abs(psi_zr))\n",
    "ax.set_title('contour plot of psi')\n",
    "#ax.set_ylim(-1,1)\n",
    "#ax.set_xlim(0,box)\n",
    "ax.set_xlabel('r position')\n",
    "ax.set_ylabel('z position')\n",
    "ax.set_xlim([0,r_cutoff])\n",
    "ax.set_ylim([-z_cutoff,z_cutoff])\n",
    "plt.show()"
   ]
  },
  {
   "cell_type": "markdown",
   "metadata": {},
   "source": [
    "# Integrating over z"
   ]
  },
  {
   "cell_type": "code",
   "execution_count": 33,
   "metadata": {},
   "outputs": [
    {
     "data": {
      "image/png": "[encoded data removed]",
      "text/plain": [
       "<Figure size 432x288 with 2 Axes>"
      ]
     },
     "metadata": {
      "needs_background": "light"
     },
     "output_type": "display_data"
    },
    {
     "data": {
      "image/png": "[encoded data removed]",
      "text/plain": [
       "<Figure size 432x288 with 1 Axes>"
      ]
     },
     "metadata": {
      "needs_background": "light"
     },
     "output_type": "display_data"
    },
    {
     "data": {
      "image/png": "[encoded data removed]",
      "text/plain": [
       "<Figure size 432x288 with 1 Axes>"
      ]
     },
     "metadata": {
      "needs_background": "light"
     },
     "output_type": "display_data"
    },
    {
     "data": {
      "image/png": "[encoded data removed]",
      "text/plain": [
       "<Figure size 432x288 with 1 Axes>"
      ]
     },
     "metadata": {
      "needs_background": "light"
     },
     "output_type": "display_data"
    },
    {
     "data": {
      "image/png": "[encoded data removed]",
      "text/plain": [
       "<Figure size 432x288 with 1 Axes>"
      ]
     },
     "metadata": {
      "needs_background": "light"
     },
     "output_type": "display_data"
    },
    {
     "data": {
      "image/png": "[encoded data removed]",
      "text/plain": [
       "<Figure size 432x288 with 1 Axes>"
      ]
     },
     "metadata": {
      "needs_background": "light"
     },
     "output_type": "display_data"
    }
   ],
   "source": [
    "gammav = gammas.reshape(-1,1).repeat(len(Ds),1)\n",
    "Dsv = Ds.reshape(1,-1).repeat(len(gammas),0)\n",
    "\n",
    "df = pd.DataFrame(np.rot90(stability_matrix),index = np.max(Ds)-Ds,columns=gammas)\n",
    "sns.heatmap(df)\n",
    "plt.xlabel('$\\gamma$')\n",
    "plt.ylabel('D')\n",
    "plt.show()        \n",
    "\n",
    "fig=plt.figure()\n",
    "ax=plt.axes(projection=\"3d\")\n",
    "ax.plot_surface(gammav,Dsv,stability_matrix,cmap=\"jet\")\n",
    "\n",
    "plt.xlabel(\"gamma\")\n",
    "plt.ylabel(\"Dipole strength\")\n",
    "ax.set_title(\"Convergence plot\")\n",
    "plt.show()\n",
    "midway_index_z = int(Nz/2)+1\n",
    "plt.plot(r[:,0],np.abs(psi_zr[:,midway_index_z]),label=\"numerical solution, z=0\")\n",
    "#plt.plot(r[:,0],gnd_state[:,midway_index_z],label=\"true solution, z=0\")\n",
    "#plt.plot(r[:,0],TF_contact[:,midway_index_z], label = \"Thomas Fermi, z=1\")\n",
    "#plt.plot(r[:,0],TF_quasi[:,midway_index_z], label = \"Thomas Fermi, z=0\")\n",
    "plt.title('psi in z=0 plane')\n",
    "#plt.xlim(0,r_cutoff)\n",
    "plt.legend()\n",
    "plt.xlabel('r position')\n",
    "plt.ylabel('psi')\n",
    "plt.show()        \n",
    "\n",
    "plt.plot(z(gamma)[0,:],np.abs(psi_zr[0,:]),label=\"numerical solution, r=0\")\n",
    "#plt.plot(z(gamma)[0,:],np.abs(gnd_state[0,:]),label = \"ground state, r=0\")\n",
    "plt.title('psi in z direction, r=0')\n",
    "#plt.xlim(0,r_cutoff)\n",
    "plt.legend()\n",
    "plt.xlabel(' z position')\n",
    "plt.ylabel('psi')\n",
    "plt.show()  \n",
    "\n",
    "plt.plot(r[:,0],100*diff_zr[:,midway_index_z]/np.max(psi_zr),label=\"diff in r direction, z=0\")\n",
    "plt.plot(z(gamma)[0,:],100*diff_zr[0,:]/np.max(psi_zr),label=\"diff in z direction, r=0\")\n",
    "plt.title('diff/% of psi for r=0 and z=0 to ground state with no interactions')\n",
    "plt.xlabel('r,z')\n",
    "plt.ylabel('difference in % of max psi\"')\n",
    "plt.legend()\n",
    "plt.show()  \n",
    "\n",
    "\n",
    "fig,ax = plt.subplots()\n",
    "ax.contour(r,z(gamma),np.abs(psi_zr))\n",
    "ax.set_title('contour plot of psi')\n",
    "#ax.set_ylim(-1,1)\n",
    "#ax.set_xlim(0,box)\n",
    "ax.set_xlabel('r position')\n",
    "ax.set_ylabel('z position')\n",
    "ax.set_xlim([0,r_cutoff])\n",
    "ax.set_ylim([-z_cutoff,z_cutoff])\n",
    "plt.show()"
   ]
  },
  {
   "cell_type": "code",
   "execution_count": 43,
   "metadata": {},
   "outputs": [
    {
     "data": {
      "text/plain": [
       "False"
      ]
     },
     "execution_count": 43,
     "metadata": {},
     "output_type": "execute_result"
    }
   ],
   "source": [
    "E_conv(E_list,criteria=1e-5)# and not isConv\n",
    "#E_list"
   ]
  }
 ],
 "metadata": {
  "kernelspec": {
   "display_name": "Python 3",
   "language": "python",
   "name": "python3"
  },
  "language_info": {
   "codemirror_mode": {
    "name": "ipython",
    "version": 3
   },
   "file_extension": ".py",
   "mimetype": "text/x-python",
   "name": "python",
   "nbconvert_exporter": "python",
   "pygments_lexer": "ipython3",
   "version": "3.7.6"
  }
 },
 "nbformat": 4,
 "nbformat_minor": 4
}
