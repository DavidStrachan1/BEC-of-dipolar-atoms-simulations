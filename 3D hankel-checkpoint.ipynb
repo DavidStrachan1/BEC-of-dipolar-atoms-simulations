{
 "cells": [
  {
   "cell_type": "code",
   "execution_count": 53,
   "metadata": {},
   "outputs": [
    {
     "data": {
      "text/html": [
       "<style>.container { width:100% !important; }</style>"
      ],
      "text/plain": [
       "<IPython.core.display.HTML object>"
      ]
     },
     "metadata": {},
     "output_type": "display_data"
    }
   ],
   "source": [
    "from IPython.core.display import display, HTML\n",
    "display(HTML(\"<style>.container { width:100% !important; }</style>\"))"
   ]
  },
  {
   "cell_type": "markdown",
   "metadata": {},
   "source": [
    "# 3D split step method using the Hankel transform"
   ]
  },
  {
   "cell_type": "code",
   "execution_count": 124,
   "metadata": {},
   "outputs": [
    {
     "data": {
      "application/vnd.jupyter.widget-view+json": {
       "model_id": "",
       "version_major": 2,
       "version_minor": 0
      },
      "text/plain": [
       "HBox(children=(FloatProgress(value=0.0, max=401.0), HTML(value='')))"
      ]
     },
     "metadata": {},
     "output_type": "display_data"
    }
   ],
   "source": [
    "import math\n",
    "import numpy as np\n",
    "import scipy.constants as sc\n",
    "from scipy.fft import fft,ifft,fftfreq, dct\n",
    "import matplotlib.pyplot as plt\n",
    "from numpy import linalg as LA\n",
    "import warnings\n",
    "warnings.simplefilter('ignore')\n",
    "from tqdm import tqdm_notebook\n",
    "import mpl_toolkits.mplot3d as mplot3d\n",
    "import scipy.special as ss\n",
    "from scipy.integrate import quad, dblquad\n",
    "import plotly.graph_objects as go\n",
    "import pandas as pd\n",
    "import seaborn as sns\n",
    "b = 50 ##max radius, large to prevent aliasing\n",
    "def size_z(gamma): ##max z value\n",
    "    return b/gamma\n",
    "N = 8*b ## number of points (actually one less than)\n",
    "##one paper only uses N=32, quote \"generally, convergence will depend\n",
    "#on the parameters of the problem, but in most cases this grid already achieves\n",
    "#convergence to very high accuracy\"\n",
    "##this paper is S. Ronen, D.C.E. Bortolotti, and J.L. Bohn, Phys. Rev. A 74, 013623 (2006)\n",
    "Nz = int((N+1)/2) ##due to smaller range of z (b/gamma) we may be able to use a lower number of z values\n",
    "dt = -0.01j\n",
    "Rc = b/2 #dipole cut off in r direction\n",
    "def Zc(gamma): ##dipole cut off in z direction\n",
    "    return size_z(gamma)/2\n",
    "\n",
    "k = int(N/4) ## needed for Hankel transform \n",
    "alpha=np.pad(ss.jnp_zeros(0,N),(1,0),'constant',constant_values=(0)) # zeros of first derivative of zeroth order bessel function \n",
    "##I add a zero at the start, so there are N+1 points in total\n",
    "J0 = ss.jn_zeros(0,N+2) #zeros of zeroth order bessel function\n",
    "S = ss.jv(0,alpha[k]*alpha/J0[N+1])**2\n",
    "S /= ss.jv(0,alpha)**2\n",
    "S = np.sqrt(1+sum(S)-S[0])\n",
    "S /= np.abs(ss.jv(0,alpha[k]))/2 ##defining S based on method in report\n",
    "C = np.zeros((N+1,N+1))\n",
    "for i in tqdm_notebook(range(N+1),leave = False):\n",
    "    for j in range(N+1):\n",
    "        C[i,j] = ss.jv(0,alpha[i]*alpha[j]/S)\n",
    "        C[i,j] /= S*np.abs(ss.jv(0,alpha[i]))*np.abs(ss.jv(0,alpha[j]))/2\n",
    "##defining orthogonal transformation matrix    \n",
    "\n",
    "def dz(gamma):\n",
    "    return 2*size_z(gamma)/Nz\n",
    "def z(gamma):\n",
    "    return np.linspace(-size_z(gamma),size_z(gamma),Nz).reshape(1,-1).repeat(N+1,0)\n",
    "def kz(gamma):\n",
    "    return fftfreq(Nz,dz(gamma)/(2*np.pi)).reshape(1,-1).repeat(N+1,0)\n",
    "r = (alpha*b/S).reshape(-1,1).repeat(Nz,1)\n",
    "beta = S/(2*np.pi*b) ##max rho\n",
    "rho= (alpha*beta/S).reshape(-1,1).repeat(Nz,1)\n",
    "k_mag = np.sqrt(kz(gamma)**2+(2*np.pi*rho)**2)\n",
    "def F(f,J):\n",
    "    out = f*b/J\n",
    "    return out\n",
    "def G(g,J):\n",
    "    out = g*beta/J\n",
    "    return out\n",
    "def Finv(f,J):\n",
    "    out = f*J/b\n",
    "    return out\n",
    "def Ginv(g,J):\n",
    "    out = g*J/beta ##these make transform more clean\n",
    "    return out\n",
    "def qfht(psi,J):\n",
    "    out = F(psi,J) #changes variables\n",
    "    out = np.matmul(C,out)#applies transformation matrix \n",
    "    out = Ginv(out,J)\n",
    "    return out\n",
    "def iqfht(psi,J):\n",
    "    out = G(psi,J)\n",
    "    out = np.matmul(C,out)\n",
    "    out = Finv(out,J)\n",
    "    return out\n",
    "def Norm_r_or_rho(psi,space,gamma): ##space is either r or rho, normalisation function\n",
    "    out = 2*np.pi*np.sum(np.abs(space[1,:]*psi[1,:])**2)*dz(gamma) ##first r term has slightly different dr\n",
    "    out += 2*np.pi*np.sum(space[2:,:]*np.abs(psi[2:,:])**2)*(space[N,0]-space[1,0])*dz(gamma)/N ##rest of normalisation using average dr\n",
    "    out = np.sqrt(out)\n",
    "    ##apart from first dr\n",
    "    return out\n",
    "\n",
    "\n",
    "\n",
    "    \n",
    "def dd_cont_cyl(psi_zr,D):\n",
    "    lamda = 4*np.pi*D/3\n",
    "    return  lamda*ifft(iqfht(Udd*qfht(fft(np.abs(psi_zr)**2,axis=1),J),J),axis=1) ## Convolution of dipole term\n",
    "    \n",
    "\n",
    "def Vzr(psi,r,gamma,gs): ##potential function, including interaction terms\n",
    "    return 0.5*(r**2 + (gamma*z(gamma))**2) +(gs*np.abs(psi)**2) +dd_cont_cyl(psi_zr,D)\n",
    "\n",
    "def chem(gamma,gs,a,m,xs,g): ##chemical potential in Thomas-Fermi limit\n",
    "    No = gs*xs/(4*np.pi*a) #number of particles\n",
    "    chem = (15*g*No/(8*np.pi))\n",
    "    chem *= w*w*w*gamma*((m/2)**1.5)\n",
    "    chem = chem**(2/5)\n",
    "    return chem  \n",
    "\n",
    "def f(rho,j,gamma,nx,ny,x_max): ##function for cylindrical cutoff integral\n",
    "    \n",
    "    x = np.linspace(Rc,x_max,nx).reshape(1,-1).repeat(ny,0) ## arrays representing rho and z to integrate over\n",
    "    y = np.linspace(0,Zc(gamma),ny).reshape(-1,1).repeat(nx,1)\n",
    "    return x*np.cos(kz(gamma)[0,int(j)]*y)*ss.jv(0,2*np.pi*rho*x)*(x**2 - 2*y**2)/((x**2 + y**2)**(5/2))\n",
    "\n",
    "#####\n",
    "##all physical quantities, mainly book keeping before going into dimensionless variables\n",
    "##values needed for functions\n",
    "m = 2.7774e-25 ##mass of erbium atom\n",
    "w=100*np.pi ##radial frequency\n",
    "Ao = 5.29*1e-11 #Bohr radius\n",
    "a = 100*Ao ##See Fortran paper, they analyse stability by varying a\n",
    "g = 4*np.pi*(sc.hbar**2)*a/m ##for book keeping\n",
    "\n",
    "##purely book keeping\n",
    "mu =6.98 ##dipole moment of erbium\n",
    "mu_B =9.2740100783e-24 ##Bohr magneton\n",
    "Cdd = sc.mu_0*(mu*mu_B)**2 \n",
    "#######\n",
    "\n",
    "##equations for dimensionless interaction factors\n",
    "No = 2e4#4.5*1e4 #number of particles\n",
    "gs = 4*np.pi*a*No/xs#  g in dimensionless units\n",
    "D = (m*No*Cdd)/(4*np.pi*(sc.hbar**2)*xs) "
   ]
  },
  {
   "cell_type": "markdown",
   "metadata": {},
   "source": [
    "# Code for cylindrical cut off integral"
   ]
  },
  {
   "cell_type": "code",
   "execution_count": 108,
   "metadata": {},
   "outputs": [],
   "source": [
    "###not using at the moment\n",
    "gamma = 10\n",
    "ny = 1000\n",
    "nx = 1000\n",
    "x_max = 100\n",
    "dx = (x_max-Rc)/nx\n",
    "dy = Zc(gamma)/ny\n",
    "U = np.zeros((N+1,N+1))\n",
    "for i in tqdm_notebook(range(N+1),leave = False):\n",
    "    for j in range(N+1):\n",
    "        U[i,j] = dx*dy*np.sum(f(rho[i,0],kz(gamma)[0,j],gamma,nx,ny,x_max))\n"
   ]
  },
  {
   "cell_type": "markdown",
   "metadata": {},
   "source": [
    "# Finding Ground State"
   ]
  },
  {
   "cell_type": "code",
   "execution_count": 127,
   "metadata": {
    "scrolled": true
   },
   "outputs": [
    {
     "data": {
      "application/vnd.jupyter.widget-view+json": {
       "model_id": "5d99ecee64a84e0db1133ad7f09114f1",
       "version_major": 2,
       "version_minor": 0
      },
      "text/plain": [
       "HBox(children=(FloatProgress(value=0.0, max=1100.0), HTML(value='')))"
      ]
     },
     "metadata": {},
     "output_type": "display_data"
    },
    {
     "ename": "KeyboardInterrupt",
     "evalue": "",
     "output_type": "error",
     "traceback": [
      "\u001b[1;31m---------------------------------------------------------------------------\u001b[0m",
      "\u001b[1;31mKeyboardInterrupt\u001b[0m                         Traceback (most recent call last)",
      "\u001b[1;32m<ipython-input-127-3d7718f24bb7>\u001b[0m in \u001b[0;36m<module>\u001b[1;34m\u001b[0m\n\u001b[0;32m     39\u001b[0m     \u001b[0mpsi_zr\u001b[0m \u001b[1;33m=\u001b[0m \u001b[0mifft\u001b[0m\u001b[1;33m(\u001b[0m\u001b[0miqfht\u001b[0m\u001b[1;33m(\u001b[0m\u001b[0mpsi_zr\u001b[0m\u001b[1;33m,\u001b[0m\u001b[0mJ\u001b[0m\u001b[1;33m)\u001b[0m\u001b[1;33m,\u001b[0m\u001b[0maxis\u001b[0m\u001b[1;33m=\u001b[0m\u001b[1;36m1\u001b[0m\u001b[1;33m)\u001b[0m \u001b[1;31m##transforms back to position space\u001b[0m\u001b[1;33m\u001b[0m\u001b[1;33m\u001b[0m\u001b[0m\n\u001b[0;32m     40\u001b[0m     \u001b[0mpsi_zr\u001b[0m \u001b[1;33m/=\u001b[0m \u001b[0mNorm_r_or_rho\u001b[0m\u001b[1;33m(\u001b[0m\u001b[0mpsi_zr\u001b[0m\u001b[1;33m,\u001b[0m\u001b[0mr\u001b[0m\u001b[1;33m,\u001b[0m\u001b[0mgamma\u001b[0m\u001b[1;33m)\u001b[0m \u001b[1;31m##normalising, needs to be right normalisation for psi dependent V\u001b[0m\u001b[1;33m\u001b[0m\u001b[1;33m\u001b[0m\u001b[0m\n\u001b[1;32m---> 41\u001b[1;33m     \u001b[0mpsi_zr\u001b[0m \u001b[1;33m*=\u001b[0m \u001b[0mnp\u001b[0m\u001b[1;33m.\u001b[0m\u001b[0mexp\u001b[0m\u001b[1;33m(\u001b[0m\u001b[1;33m-\u001b[0m\u001b[1;36m0.5j\u001b[0m\u001b[1;33m*\u001b[0m\u001b[0mdt\u001b[0m\u001b[1;33m*\u001b[0m\u001b[0mVzr\u001b[0m\u001b[1;33m(\u001b[0m\u001b[0mpsi_zr\u001b[0m\u001b[1;33m,\u001b[0m\u001b[0mr\u001b[0m\u001b[1;33m,\u001b[0m\u001b[0mgamma\u001b[0m\u001b[1;33m,\u001b[0m\u001b[0mgs\u001b[0m\u001b[1;33m)\u001b[0m\u001b[1;33m)\u001b[0m \u001b[1;31m##applies second half of potential\u001b[0m\u001b[1;33m\u001b[0m\u001b[1;33m\u001b[0m\u001b[0m\n\u001b[0m\u001b[0;32m     42\u001b[0m     \u001b[0mpsi_zr\u001b[0m \u001b[1;33m/=\u001b[0m \u001b[0mNorm_r_or_rho\u001b[0m\u001b[1;33m(\u001b[0m\u001b[0mpsi_zr\u001b[0m\u001b[1;33m,\u001b[0m\u001b[0mr\u001b[0m\u001b[1;33m,\u001b[0m\u001b[0mgamma\u001b[0m\u001b[1;33m)\u001b[0m \u001b[1;31m##normalises\u001b[0m\u001b[1;33m\u001b[0m\u001b[1;33m\u001b[0m\u001b[0m\n\u001b[0;32m     43\u001b[0m \u001b[1;33m\u001b[0m\u001b[0m\n",
      "\u001b[1;31mKeyboardInterrupt\u001b[0m: "
     ]
    }
   ],
   "source": [
    "U = 0 \n",
    "J = np.abs(ss.jv(0,alpha)).reshape(-1,1)\n",
    "\n",
    "xs = np.sqrt(sc.hbar/(m*w)) ##length scale\n",
    "#overriding parameters\n",
    "gs = 0#dimensionless contact factor\n",
    "D = 190 ##dimensionless dipolar factor\n",
    "gamma = 80 ##ratio of axial frequency to radial frequency\n",
    "eps = 1/gamma\n",
    "wz = gamma*w\n",
    "\n",
    "Tz  = 0.5*kz(gamma)**2\n",
    "Tr = 0.5*(2*np.pi*rho)**2\n",
    "T = 0.5*k_mag**2\n",
    "exp_Tz = np.exp((-1j*dt*Tz))\n",
    "exp_Tr = np.exp((-1j*dt*Tr)) ##if doing both transforms simultaneously, only need T\n",
    "exp_T = np.exp((-1j*dt*T))\n",
    "\n",
    "\n",
    "lamda = 4*np.pi*D/3\n",
    "Udd = 3*(np.nan_to_num(kz(gamma)/k_mag,posinf=0))**2 - 1\n",
    "if gamma>5: ##z cutoff\n",
    "    Udd += np.exp(-Zc(gamma)*2*np.pi*rho)*((np.nan_to_num(2*np.pi*rho/kz(gamma),posinf=0)**2)*np.cos(Zc(gamma)*kz(gamma))\n",
    "                        -np.nan_to_num(2*np.pi*rho/kz(gamma),posinf=0)*np.nan_to_num(kz(gamma)/k_mag,posinf=0)*np.sin(Zc(gamma)*kz(gamma)))\n",
    "    Udd -= U ## includes radial cut off, we set it to zero if we're only using a z cutoff\n",
    "else: #spherical cut off\n",
    "    Udd*= (1+3*np.nan_to_num(np.cos(Rc*k_mag)/((Rc*k_mag)**2),posinf=0) -3*np.nan_to_num(np.sin(Rc*k_mag)/((Rc*k_mag)**3),posinf=0))\n",
    "Udd*= lamda    \n",
    "\n",
    "\n",
    "\n",
    "psi_zr = np.exp((-r**2)/50)*np.exp((-gamma*(z(gamma))**2)/50)\n",
    "psi_zr /= Norm_r_or_rho(psi_zr,r,gamma)\n",
    "\n",
    "\n",
    "for i in tqdm_notebook(range(1100),leave = False): ##split step loop\n",
    "    psi_zr = np.exp(-0.5j*dt*Vzr(psi_zr,r,gamma,gs))*psi_zr ##applies half the potential\n",
    "    psi_zr = exp_T*qfht(fft(psi_zr,axis=1),J) ##applies kinetic in k space\n",
    "    psi_zr = ifft(iqfht(psi_zr,J),axis=1) ##transforms back to position space\n",
    "    psi_zr /= Norm_r_or_rho(psi_zr,r,gamma) ##normalising, needs to be right normalisation for psi dependent V\n",
    "    psi_zr *= np.exp(-0.5j*dt*Vzr(psi_zr,r,gamma,gs)) ##applies second half of potential\n",
    "    psi_zr /= Norm_r_or_rho(psi_zr,r,gamma) ##normalises\n",
    "    \n",
    "#psi_zr *= np.sqrt(No) ##normalising to No, not necessarily needed\n",
    "    \n",
    "##full harmonic\n",
    "gnd_state = np.exp((-r**2)/2)*np.exp((-gamma*(z(gamma))**2)/2)\n",
    "gnd_state /= Norm_r_or_rho(gnd_state,r,gamma) ##ground state with no interactions\n",
    "#gnd_state *= np.sqrt(No)\n",
    "diff_zr = np.abs(psi_zr)-np.abs(gnd_state) ## defines a difference array\n",
    "\n",
    "lamda = 4*np.pi*D/3\n",
    "R = (8*lamda/(np.pi*np.sqrt(2*np.pi*eps)))**0.25 ##Thomas fermi radius for purely dipolar case\n",
    "R_validity = lamda/(2*np.pi*np.sqrt(gamma**3))  ## valid when R_validity <<1\n",
    "##both from quasi 2D/1D paper, notation\n",
    "##is confusing, compare to rigorous paper\n",
    "#This R is the thomas fermi radius for quasi 2D with no contact term\n",
    "Rr = np.sqrt((2*chem(gamma,gs,a,m,xs,g))/(m*w*w))\n",
    "Rz = np.sqrt((2*chem(gamma,gs,a,m,xs,g))/(m*wz*wz))\n",
    "Rr = Rr/xs\n",
    "Rz =Rz/xs\n",
    "TF_contact = np.nan_to_num(np.sqrt(1-(r/Rr)**2 - (z(gamma)/Rz)**2))\n",
    "TF_contact /= Norm_r_or_rho(TF_contact,r,gamma)\n",
    "#TF_contact *= np.sqrt(No)\n",
    "TF_quasi = np.nan_to_num(np.sqrt(1-(r/R)**2))*np.exp((-gamma*(z(gamma))**2)/2) ##thomas fermi\n",
    "TF_quasi /= Norm_r_or_rho(TF_quasi,r,gamma) ##normalisation\n",
    "#TF_quasi *= np.sqrt(No) ##normalises to N\n",
    "\n",
    "print(D)\n",
    "print(gamma)\n",
    "print(R_validity)\n",
    "print(gs)\n",
    "\n",
    "fig=plt.figure()\n",
    "ax = plt.axes(projection='3d')\n",
    "\n",
    "midway_index_z = int(Nz/2)\n",
    "z_cutoff =1\n",
    "r_cutoff = 20\n",
    "bools =(np.abs(r) <= r_cutoff)*(np.abs(z(gamma)) <=z_cutoff)\n",
    "n_1 = np.sum(bools[:,midway_index_z]) ## number of r coords with value less than r_cutoff\n",
    "n_2 = np.sum(bools[0,:]) ## number of z coords with value less than z_cutoff\n",
    "z_coord_i = int(midway_index_z-n_2/2)\n",
    "z_coord_f = int(midway_index_z+n_2/2)\n",
    "ax.plot_surface(r[0:n_1,z_coord_i:z_coord_f],z(gamma)[0:n_1,z_coord_i:z_coord_f],np.abs(psi_zr)[0:n_1,z_coord_i:z_coord_f],cmap='jet')\n",
    "ax.set_title('Psi')\n",
    "ax.set_xlabel('r position')\n",
    "ax.set_ylabel('z position')\n",
    "ax.set_zlabel('psi')\n",
    "plt.show()\n",
    "\n",
    "\n",
    "ax = plt.axes(projection='3d')\n",
    "ax.plot_surface(r[0:n_1,z_coord_i:z_coord_f],z(gamma)[0:n_1,z_coord_i:z_coord_f],gnd_state[0:n_1,z_coord_i:z_coord_f],cmap='jet')\n",
    "ax.set_title('Ground state with no interactions')\n",
    "ax.set_xlabel('r position')\n",
    "ax.set_ylabel('z position')\n",
    "ax.set_zlabel('psi')\n",
    "plt.show()\n",
    "\n",
    "midway_index_z = int(Nz/2)\n",
    "plt.plot(r[:,0],np.abs(psi_zr[:,midway_index_z]),label=\"numerical solution, z=0\")\n",
    "#plt.plot(r[:,0],gnd_state[:,midway_index_z],label=\"true solution, z=0\")\n",
    "#plt.plot(r[:,0],TF_contact[:,midway_index_z], label = \"Thomas Fermi, z=1\")\n",
    "plt.plot(r[:,0],TF_quasi[:,midway_index_z], label = \"Thomas Fermi, z=0\")\n",
    "plt.title('psi in z=0 plane')\n",
    "plt.xlim(0,r_cutoff)\n",
    "plt.legend()\n",
    "plt.xlabel('r position')\n",
    "plt.ylabel('psi')\n",
    "plt.show()        \n",
    "\n",
    "plt.plot(z(gamma)[0,:],np.abs(psi_zr[0,:]),label=\"numerical solution, r=0\")\n",
    "plt.plot(z(gamma)[0,:],np.abs(gnd_state[0,:]),label = \"ground state, r=0\")\n",
    "plt.title('psi in z direction, r=0')\n",
    "plt.xlim(0,r_cutoff)\n",
    "plt.legend()\n",
    "plt.xlabel(' z position')\n",
    "plt.ylabel('psi')\n",
    "plt.show()  \n",
    "\n",
    "plt.plot(r[:,0],100*diff_zr[:,midway_index_z]/np.max(psi_zr),label=\"diff in r direction, z=0\")\n",
    "plt.plot(z(gamma)[0,:],100*diff_zr[0,:]/np.max(psi_zr),label=\"diff in z direction, r=0\")\n",
    "plt.title('diff/% of psi for r=0 and z=0 to ground state with no interactions')\n",
    "plt.xlabel('r,z')\n",
    "plt.ylabel('difference in % of max psi\"')\n",
    "plt.legend()\n",
    "plt.show()  \n",
    "\n",
    "fig,ax = plt.subplots()\n",
    "ax.contour(r,z(gamma),np.abs(psi_zr))\n",
    "ax.set_title('contour plot of psi')\n",
    "#ax.set_ylim(-1,1)\n",
    "#ax.set_xlim(0,box)\n",
    "ax.set_xlabel('r position')\n",
    "ax.set_ylabel('z position')\n",
    "ax.set_xlim([0,r_cutoff])\n",
    "ax.set_ylim([-z_cutoff,z_cutoff])\n",
    "plt.show()"
   ]
  },
  {
   "cell_type": "markdown",
   "metadata": {},
   "source": [
    "# Stability code"
   ]
  },
  {
   "cell_type": "code",
   "execution_count": 90,
   "metadata": {},
   "outputs": [
    {
     "data": {
      "text/plain": [
       "201"
      ]
     },
     "execution_count": 90,
     "metadata": {},
     "output_type": "execute_result"
    }
   ],
   "source": [
    "len(z(gamma))"
   ]
  },
  {
   "cell_type": "code",
   "execution_count": null,
   "metadata": {},
   "outputs": [
    {
     "data": {
      "application/vnd.jupyter.widget-view+json": {
       "model_id": "26965d20b9d445e2866614197d4633ff",
       "version_major": 2,
       "version_minor": 0
      },
      "text/plain": [
       "HBox(children=(FloatProgress(value=0.0, max=10.0), HTML(value='')))"
      ]
     },
     "metadata": {},
     "output_type": "display_data"
    }
   ],
   "source": [
    "###do spherical cut off for gamma less than 5 and z cutoff for higher gamma,\n",
    "##have the same cutoff for all gamma greater than 5\n",
    "\n",
    "dt = -0.01j ##time step\n",
    "gs = 0 #purely dipolar\n",
    "Ds = np.linspace(0,5000,10) ##range of (dimensionless) dipole strength to iterate over\n",
    "gammas = np.linspace(1,51,10) ##range of gamma to iterate over\n",
    "stability_matrix = np.zeros([len(gammas),len(Ds)])\n",
    "init_psi = np.exp((-r**2)/50)*np.exp((-gamma*(z(gamma))**2)/2) ## intial guess\n",
    "init_psi /= Norm_r_or_rho(init_psi,r,gamma) \n",
    "psi_zr = init_psi\n",
    "p_max = 3000 ##max iteration number\n",
    "for i in tqdm_notebook(range(len(gammas)),leave = False):\n",
    "    for j in range(len(Ds)):\n",
    "        hist_psi = [[0,init_psi[0:int(N/2),int(N/4):int(3*N/4)]]] #list of historical psi's\n",
    "        gamma = gammas[i]\n",
    "        D = Ds[j] #iterates through different values of D and gamma\n",
    "        lamda = 4*np.pi*D/3\n",
    "        Udd = 3*(np.nan_to_num(kz(gamma)/k_mag,posinf=0))**2 - 1\n",
    "        if gamma>5: ##z cutoff\n",
    "            Udd += np.exp(-Zc(gamma)*2*np.pi*rho)*((np.nan_to_num(2*np.pi*rho/kz(gamma),posinf=0)**2)*np.cos(Zc(gamma)*kz(gamma))\n",
    "                        -np.nan_to_num(2*np.pi*rho/kz(gamma),posinf=0)*np.nan_to_num(kz(gamma)/k_mag,posinf=0)*np.sin(Zc(gamma)*kz(gamma)))\n",
    "            Udd -= U ## includes radial cut off, we set it to zero if we're only using a z cutoff\n",
    "        else: #spherical cut off\n",
    "            Udd*= (1+3*np.nan_to_num(np.cos(Rc*k_mag)/((Rc*k_mag)**2),posinf=0) -3*np.nan_to_num(np.sin(Rc*k_mag)/((Rc*k_mag)**3),posinf=0))\n",
    "        Udd *= lamda\n",
    "        isConv=False\n",
    "        p=1\n",
    "        \n",
    "        while isConv==False and p<p_max: ##loops until convergence or p=p_max\n",
    "            psi_zr = np.exp(-0.5j*dt*Vzr(psi_zr,r,gamma,gs))*psi_zr\n",
    "            psi_zr = exp_T*qfht(fft(psi_zr,axis=1),J)\n",
    "            psi_zr = ifft(iqfht(psi_zr,J),axis=1) ## was doing them separately before\n",
    "            psi_zr /= Norm_r_or_rho(psi_zr,r,gamma)\n",
    "            psi_zr *= np.exp(-0.5j*dt*Vzr(psi_zr,r,gamma,gs))\n",
    "            psi_zr /= Norm_r_or_rho(psi_zr,r,gamma)\n",
    "            \n",
    "            hist_psi.append([p,psi_zr[0:int(N/2),int(Nz/4):int(3*Nz/4)]]) #adds to historical list\n",
    "            if len(hist_psi) > 100: #list has size 100\n",
    "                hist_psi = hist_psi[-100:] ## gives most recent 100 psi's\n",
    "                psi_max_percent_diff_array = np.zeros(10)\n",
    "                for k in range(10): #creates an array of the difference in % of max of the different historical psi's every ten iterations\n",
    "                    psi_max_percent_diff_array[k] = 100*(np.max(hist_psi[10*k][1]) - np.max(hist_psi[0][1]))\n",
    "                    psi_max_percent_diff_array[k] /= np.max(hist_psi[0][1])\n",
    "                if np.ptp(psi_max_percent_diff_array)<0.001: #checks if they're all the same\n",
    "                    if np.unravel_index(np.argmax(hist_psi[0][1], axis=None), psi_zr.shape) == np.unravel_index(np.argmax(hist_psi[-1][1], axis=None), psi_zr.shape):\n",
    "                        if (sorted(psi_zr.ravel())[-1]+sorted(psi_zr.ravel())[-2])/sorted(psi_zr.ravel())[-1] > 1.1: ## if second largest value is greater than 10% of largest value\n",
    "                            if (np.abs(psi_zr)[0,midway_index_z]==np.max(np.abs(psi_zr))): ##checks where the max is\n",
    "                                stability_matrix[i][j]=2 ##non red blood cell\n",
    "                                isConv=True\n",
    "                            else:\n",
    "                                stability_matrix[i][j]=1\n",
    "                                isConv=True\n",
    "                    if math.isnan(psi_zr.any())==True: ##stops the loop early if there is a collapse to nan\n",
    "                        isConv=True\n",
    "            p+=1\n",
    "        if stability_matrix[i][j]==0:\n",
    "            psi_zr = init_psi ##setting to original psi if psi hasn't converged\n",
    "\n",
    "\n",
    "gammav = gammas.reshape(-1,1).repeat(len(Ds),1)\n",
    "Dsv = Ds.reshape(1,-1).repeat(len(gammas),0)\n",
    "\n",
    "df = pd.DataFrame(stability_matrix,index = gammas.astype(int),columns=Ds.astype(int))\n",
    "sns.heatmap(df)\n",
    "\n",
    "plt.show()        \n",
    "\n",
    "fig=plt.figure()\n",
    "ax=plt.axes(projection=\"3d\")\n",
    "ax.plot_surface(gammav,Dsv,stability_matrix,cmap=\"jet\")\n",
    "\n",
    "plt.xlabel(\"gamma\")\n",
    "plt.ylabel(\"Dipole strength\")\n",
    "ax.set_title(\"Convergence plot\")\n",
    "plt.show()                           "
   ]
  },
  {
   "cell_type": "code",
   "execution_count": null,
   "metadata": {},
   "outputs": [],
   "source": []
  },
  {
   "cell_type": "markdown",
   "metadata": {},
   "source": [
    "# Integrating over z"
   ]
  },
  {
   "cell_type": "code",
   "execution_count": null,
   "metadata": {},
   "outputs": [],
   "source": []
  },
  {
   "cell_type": "code",
   "execution_count": null,
   "metadata": {},
   "outputs": [],
   "source": []
  }
 ],
 "metadata": {
  "kernelspec": {
   "display_name": "Python 3",
   "language": "python",
   "name": "python3"
  },
  "language_info": {
   "codemirror_mode": {
    "name": "ipython",
    "version": 3
   },
   "file_extension": ".py",
   "mimetype": "text/x-python",
   "name": "python",
   "nbconvert_exporter": "python",
   "pygments_lexer": "ipython3",
   "version": "3.7.6"
  }
 },
 "nbformat": 4,
 "nbformat_minor": 4
}
